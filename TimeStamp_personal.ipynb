{
  "nbformat": 4,
  "nbformat_minor": 0,
  "metadata": {
    "colab": {
      "provenance": [],
      "authorship_tag": "ABX9TyOXf4+XzCdkwJJdKHGgFQTa",
      "include_colab_link": true
    },
    "kernelspec": {
      "name": "python3",
      "display_name": "Python 3"
    },
    "language_info": {
      "name": "python"
    }
  },
  "cells": [
    {
      "cell_type": "markdown",
      "metadata": {
        "id": "view-in-github",
        "colab_type": "text"
      },
      "source": [
        "<a href=\"https://colab.research.google.com/github/dla9944/apatheia/blob/main/TimeStamp_personal.ipynb\" target=\"_parent\"><img src=\"https://colab.research.google.com/assets/colab-badge.svg\" alt=\"Open In Colab\"/></a>"
      ]
    },
    {
      "cell_type": "code",
      "source": [
        "import numpy as np\n",
        "import pandas as pd"
      ],
      "metadata": {
        "id": "yii_uHsaQuRt"
      },
      "execution_count": 4,
      "outputs": []
    },
    {
      "cell_type": "code",
      "execution_count": 9,
      "metadata": {
        "colab": {
          "base_uri": "https://localhost:8080/"
        },
        "id": "mm8FYu5-QVuv",
        "outputId": "825592b1-a886-49bd-95c2-f1a86811d044"
      },
      "outputs": [
        {
          "output_type": "execute_result",
          "data": {
            "text/plain": [
              "DatetimeIndex(['2022-12-01', '2022-12-02', '2022-12-03', '2022-12-04',\n",
              "               '2022-05-01'],\n",
              "              dtype='datetime64[ns]', freq=None)"
            ]
          },
          "metadata": {},
          "execution_count": 9
        }
      ],
      "source": [
        "date_str = [\"2022, 12, 1\", \"2022, 12, 2\", \"2022, 12, 3\", \"2022, 12, 4\", \"2022,12,5\"]\n",
        "idx = pd.to_datetime(date_str)\n",
        "idx"
      ]
    },
    {
      "cell_type": "code",
      "source": [
        "np.random.seed(0)\n",
        "datemate = pd.Series(np.random.randn(5), index=idx)\n",
        "datemate"
      ],
      "metadata": {
        "colab": {
          "base_uri": "https://localhost:8080/"
        },
        "id": "PUkM9egrQqwS",
        "outputId": "abac395b-7427-4c54-bc04-e5d2da8af4e1"
      },
      "execution_count": 11,
      "outputs": [
        {
          "output_type": "execute_result",
          "data": {
            "text/plain": [
              "2022-12-01    1.764052\n",
              "2022-12-02    0.400157\n",
              "2022-12-03    0.978738\n",
              "2022-12-04    2.240893\n",
              "2022-05-01    1.867558\n",
              "dtype: float64"
            ]
          },
          "metadata": {},
          "execution_count": 11
        }
      ]
    },
    {
      "cell_type": "code",
      "source": [
        "pd.date_range(start=\"2022-12-1\", periods=5)"
      ],
      "metadata": {
        "colab": {
          "base_uri": "https://localhost:8080/"
        },
        "id": "qWshyaFDRCiJ",
        "outputId": "56ea9833-a58a-4141-ab59-bfec158fc9b4"
      },
      "execution_count": 12,
      "outputs": [
        {
          "output_type": "execute_result",
          "data": {
            "text/plain": [
              "DatetimeIndex(['2022-12-01', '2022-12-02', '2022-12-03', '2022-12-04',\n",
              "               '2022-12-05'],\n",
              "              dtype='datetime64[ns]', freq='D')"
            ]
          },
          "metadata": {},
          "execution_count": 12
        }
      ]
    },
    {
      "cell_type": "code",
      "source": [
        "# resampling\n",
        "date_go = pd.Series(np.random.randn(5), index=pd.date_range(\n",
        "    \"2022-12-1\", periods=5, freq=\"D\"))\n",
        "date_go.tail(3)"
      ],
      "metadata": {
        "colab": {
          "base_uri": "https://localhost:8080/"
        },
        "id": "O-qqe3jEROIm",
        "outputId": "42264145-cc96-4661-f6e7-8f2d4c3fab72"
      },
      "execution_count": 17,
      "outputs": [
        {
          "output_type": "execute_result",
          "data": {
            "text/plain": [
              "2022-12-03   -1.126826\n",
              "2022-12-04   -0.730678\n",
              "2022-12-05   -0.384880\n",
              "Freq: D, dtype: float64"
            ]
          },
          "metadata": {},
          "execution_count": 17
        }
      ]
    },
    {
      "cell_type": "code",
      "source": [
        "date_go.resample('W').mean() # 평균 계산"
      ],
      "metadata": {
        "colab": {
          "base_uri": "https://localhost:8080/"
        },
        "id": "VpJYpYi9RcUn",
        "outputId": "75d8357e-febc-4490-eaea-5cf7a6591375"
      },
      "execution_count": 18,
      "outputs": [
        {
          "output_type": "execute_result",
          "data": {
            "text/plain": [
              "2022-12-04   -0.228365\n",
              "2022-12-11   -0.384880\n",
              "Freq: W-SUN, dtype: float64"
            ]
          },
          "metadata": {},
          "execution_count": 18
        }
      ]
    },
    {
      "cell_type": "code",
      "source": [],
      "metadata": {
        "id": "WOgxhAsUR2E1"
      },
      "execution_count": null,
      "outputs": []
    }
  ]
}