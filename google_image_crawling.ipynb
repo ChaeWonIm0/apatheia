{
 "cells": [
  {
   "cell_type": "markdown",
   "id": "af60c835",
   "metadata": {},
   "source": [
    "## 치킨 이미지 120장 다운로드"
   ]
  },
  {
   "cell_type": "code",
   "execution_count": 2,
   "id": "2907fc10",
   "metadata": {},
   "outputs": [
    {
     "name": "stdout",
     "output_type": "stream",
     "text": [
      "Defaulting to user installation because normal site-packages is not writeable\n",
      "Requirement already satisfied: selenium in c:\\users\\임채원\\appdata\\roaming\\python\\python39\\site-packages (4.8.0)\n",
      "Requirement already satisfied: trio~=0.17 in c:\\users\\임채원\\appdata\\roaming\\python\\python39\\site-packages (from selenium) (0.22.0)\n",
      "Requirement already satisfied: trio-websocket~=0.9 in c:\\users\\임채원\\appdata\\roaming\\python\\python39\\site-packages (from selenium) (0.9.2)\n",
      "Requirement already satisfied: certifi>=2021.10.8 in c:\\anaconda3\\lib\\site-packages (from selenium) (2022.9.14)\n",
      "Requirement already satisfied: urllib3[socks]~=1.26 in c:\\anaconda3\\lib\\site-packages (from selenium) (1.26.11)\n",
      "Requirement already satisfied: idna in c:\\users\\임채원\\appdata\\roaming\\python\\python39\\site-packages (from trio~=0.17->selenium) (3.4)\n",
      "Requirement already satisfied: attrs>=19.2.0 in c:\\users\\임채원\\appdata\\roaming\\python\\python39\\site-packages (from trio~=0.17->selenium) (22.1.0)\n",
      "Requirement already satisfied: sniffio in c:\\users\\임채원\\appdata\\roaming\\python\\python39\\site-packages (from trio~=0.17->selenium) (1.3.0)\n",
      "Requirement already satisfied: cffi>=1.14 in c:\\users\\임채원\\appdata\\roaming\\python\\python39\\site-packages (from trio~=0.17->selenium) (1.15.1)\n",
      "Requirement already satisfied: sortedcontainers in c:\\anaconda3\\lib\\site-packages (from trio~=0.17->selenium) (2.4.0)\n",
      "Requirement already satisfied: outcome in c:\\users\\임채원\\appdata\\roaming\\python\\python39\\site-packages (from trio~=0.17->selenium) (1.2.0)\n",
      "Requirement already satisfied: exceptiongroup>=1.0.0rc9 in c:\\users\\임채원\\appdata\\roaming\\python\\python39\\site-packages (from trio~=0.17->selenium) (1.1.0)\n",
      "Requirement already satisfied: async-generator>=1.9 in c:\\users\\임채원\\appdata\\roaming\\python\\python39\\site-packages (from trio~=0.17->selenium) (1.10)\n",
      "Requirement already satisfied: wsproto>=0.14 in c:\\users\\임채원\\appdata\\roaming\\python\\python39\\site-packages (from trio-websocket~=0.9->selenium) (1.2.0)\n",
      "Requirement already satisfied: PySocks!=1.5.7,<2.0,>=1.5.6 in c:\\anaconda3\\lib\\site-packages (from urllib3[socks]~=1.26->selenium) (1.7.1)\n",
      "Requirement already satisfied: pycparser in c:\\users\\임채원\\appdata\\roaming\\python\\python39\\site-packages (from cffi>=1.14->trio~=0.17->selenium) (2.21)\n",
      "Requirement already satisfied: h11<1,>=0.9.0 in c:\\users\\임채원\\appdata\\roaming\\python\\python39\\site-packages (from wsproto>=0.14->trio-websocket~=0.9->selenium) (0.14.0)\n",
      "Note: you may need to restart the kernel to use updated packages.\n"
     ]
    },
    {
     "name": "stderr",
     "output_type": "stream",
     "text": [
      "WARNING: Ignoring invalid distribution -pype1 (c:\\users\\임채원\\appdata\\roaming\\python\\python39\\site-packages)\n",
      "WARNING: Ignoring invalid distribution -pype1 (c:\\users\\임채원\\appdata\\roaming\\python\\python39\\site-packages)\n",
      "WARNING: Ignoring invalid distribution -pype1 (c:\\users\\임채원\\appdata\\roaming\\python\\python39\\site-packages)\n",
      "WARNING: Ignoring invalid distribution -pype1 (c:\\users\\임채원\\appdata\\roaming\\python\\python39\\site-packages)\n",
      "WARNING: Ignoring invalid distribution -pype1 (c:\\users\\임채원\\appdata\\roaming\\python\\python39\\site-packages)\n",
      "WARNING: Ignoring invalid distribution -pype1 (c:\\users\\임채원\\appdata\\roaming\\python\\python39\\site-packages)\n"
     ]
    }
   ],
   "source": [
    "pip install selenium"
   ]
  },
  {
   "cell_type": "markdown",
   "id": "78295b60",
   "metadata": {},
   "source": [
    "#### 아래 패키지 꼭 다운로드"
   ]
  },
  {
   "cell_type": "code",
   "execution_count": 4,
   "id": "1331c5b4",
   "metadata": {},
   "outputs": [
    {
     "name": "stdout",
     "output_type": "stream",
     "text": [
      "Defaulting to user installation because normal site-packages is not writeable"
     ]
    },
    {
     "name": "stderr",
     "output_type": "stream",
     "text": [
      "WARNING: Ignoring invalid distribution -pype1 (c:\\users\\임채원\\appdata\\roaming\\python\\python39\\site-packages)\n",
      "WARNING: Ignoring invalid distribution -pype1 (c:\\users\\임채원\\appdata\\roaming\\python\\python39\\site-packages)\n",
      "WARNING: Ignoring invalid distribution -pype1 (c:\\users\\임채원\\appdata\\roaming\\python\\python39\\site-packages)\n",
      "  WARNING: The script dotenv.exe is installed in 'C:\\Users\\임채원\\AppData\\Roaming\\Python\\Python39\\Scripts' which is not on PATH.\n",
      "  Consider adding this directory to PATH or, if you prefer to suppress this warning, use --no-warn-script-location.\n",
      "WARNING: Ignoring invalid distribution -pype1 (c:\\users\\임채원\\appdata\\roaming\\python\\python39\\site-packages)\n",
      "WARNING: Ignoring invalid distribution -pype1 (c:\\users\\임채원\\appdata\\roaming\\python\\python39\\site-packages)\n",
      "WARNING: Ignoring invalid distribution -pype1 (c:\\users\\임채원\\appdata\\roaming\\python\\python39\\site-packages)\n",
      "WARNING: Ignoring invalid distribution -pype1 (c:\\users\\임채원\\appdata\\roaming\\python\\python39\\site-packages)\n",
      "WARNING: Ignoring invalid distribution -pype1 (c:\\users\\임채원\\appdata\\roaming\\python\\python39\\site-packages)\n"
     ]
    },
    {
     "name": "stdout",
     "output_type": "stream",
     "text": [
      "\n",
      "Collecting webdriver-manager\n",
      "  Downloading webdriver_manager-3.8.5-py2.py3-none-any.whl (27 kB)\n",
      "Requirement already satisfied: selenium in c:\\users\\임채원\\appdata\\roaming\\python\\python39\\site-packages (4.8.0)\n",
      "Requirement already satisfied: requests in c:\\anaconda3\\lib\\site-packages (from webdriver-manager) (2.28.1)\n",
      "Collecting python-dotenv\n",
      "  Downloading python_dotenv-0.21.1-py3-none-any.whl (19 kB)\n",
      "Requirement already satisfied: tqdm in c:\\anaconda3\\lib\\site-packages (from webdriver-manager) (4.64.1)\n",
      "Requirement already satisfied: packaging in c:\\users\\임채원\\appdata\\roaming\\python\\python39\\site-packages (from webdriver-manager) (21.3)\n",
      "Requirement already satisfied: certifi>=2021.10.8 in c:\\anaconda3\\lib\\site-packages (from selenium) (2022.9.14)\n",
      "Requirement already satisfied: urllib3[socks]~=1.26 in c:\\anaconda3\\lib\\site-packages (from selenium) (1.26.11)\n",
      "Requirement already satisfied: trio~=0.17 in c:\\users\\임채원\\appdata\\roaming\\python\\python39\\site-packages (from selenium) (0.22.0)\n",
      "Requirement already satisfied: trio-websocket~=0.9 in c:\\users\\임채원\\appdata\\roaming\\python\\python39\\site-packages (from selenium) (0.9.2)\n",
      "Requirement already satisfied: outcome in c:\\users\\임채원\\appdata\\roaming\\python\\python39\\site-packages (from trio~=0.17->selenium) (1.2.0)\n",
      "Requirement already satisfied: sniffio in c:\\users\\임채원\\appdata\\roaming\\python\\python39\\site-packages (from trio~=0.17->selenium) (1.3.0)\n",
      "Requirement already satisfied: async-generator>=1.9 in c:\\users\\임채원\\appdata\\roaming\\python\\python39\\site-packages (from trio~=0.17->selenium) (1.10)\n",
      "Requirement already satisfied: exceptiongroup>=1.0.0rc9 in c:\\users\\임채원\\appdata\\roaming\\python\\python39\\site-packages (from trio~=0.17->selenium) (1.1.0)\n",
      "Requirement already satisfied: idna in c:\\users\\임채원\\appdata\\roaming\\python\\python39\\site-packages (from trio~=0.17->selenium) (3.4)\n",
      "Requirement already satisfied: cffi>=1.14 in c:\\users\\임채원\\appdata\\roaming\\python\\python39\\site-packages (from trio~=0.17->selenium) (1.15.1)\n",
      "Requirement already satisfied: sortedcontainers in c:\\anaconda3\\lib\\site-packages (from trio~=0.17->selenium) (2.4.0)\n",
      "Requirement already satisfied: attrs>=19.2.0 in c:\\users\\임채원\\appdata\\roaming\\python\\python39\\site-packages (from trio~=0.17->selenium) (22.1.0)\n",
      "Requirement already satisfied: wsproto>=0.14 in c:\\users\\임채원\\appdata\\roaming\\python\\python39\\site-packages (from trio-websocket~=0.9->selenium) (1.2.0)\n",
      "Requirement already satisfied: PySocks!=1.5.7,<2.0,>=1.5.6 in c:\\anaconda3\\lib\\site-packages (from urllib3[socks]~=1.26->selenium) (1.7.1)\n",
      "Requirement already satisfied: pyparsing!=3.0.5,>=2.0.2 in c:\\users\\임채원\\appdata\\roaming\\python\\python39\\site-packages (from packaging->webdriver-manager) (3.0.9)\n",
      "Requirement already satisfied: charset-normalizer<3,>=2 in c:\\anaconda3\\lib\\site-packages (from requests->webdriver-manager) (2.0.4)\n",
      "Requirement already satisfied: colorama in c:\\users\\임채원\\appdata\\roaming\\python\\python39\\site-packages (from tqdm->webdriver-manager) (0.4.6)\n",
      "Requirement already satisfied: pycparser in c:\\users\\임채원\\appdata\\roaming\\python\\python39\\site-packages (from cffi>=1.14->trio~=0.17->selenium) (2.21)\n",
      "Requirement already satisfied: h11<1,>=0.9.0 in c:\\users\\임채원\\appdata\\roaming\\python\\python39\\site-packages (from wsproto>=0.14->trio-websocket~=0.9->selenium) (0.14.0)\n",
      "Installing collected packages: python-dotenv, webdriver-manager\n",
      "Successfully installed python-dotenv-0.21.1 webdriver-manager-3.8.5\n"
     ]
    }
   ],
   "source": [
    "!pip install webdriver-manager selenium"
   ]
  },
  {
   "cell_type": "code",
   "execution_count": 22,
   "id": "7e309808",
   "metadata": {},
   "outputs": [],
   "source": [
    "from selenium.webdriver.common.keys import Keys\n",
    "import time\n",
    "from selenium import webdriver\n",
    "from webdriver_manager.chrome import ChromeDriverManager\n",
    "from selenium.webdriver.common.by import By\n",
    "from selenium.webdriver.chrome.service import Service\n",
    "import urllib.request\n",
    "\n",
    "# 크롬 옵션 설정\n",
    "chrome_options = webdriver.ChromeOptions()\n",
    "driver = webdriver.Chrome(service = Service(ChromeDriverManager().install()), options=chrome_options)\n",
    "\n",
    "# 들어갈 사이트 url(구글 이미지검색)\n",
    "URL = \"https://www.google.co.kr/imghp\"\n",
    "driver.get(url=URL)\n",
    "\n",
    "# 10초간 대기\n",
    "driver.implicitly_wait(time_to_wait=10)\n",
    "\n",
    "# 웹상에서 \"검색 창\"에 포인트를 두고 들어갈 것임\n",
    "keyElement = driver.find_element(By.XPATH, \"/html/body/div[1]/div[3]/form/div[1]/div[1]/div[1]/div/div[2]/input\")\n",
    "\n",
    "# 검색 창에 'chicken'이라는 글자를 입력\n",
    "keyElement.send_keys('chicken')\n",
    "\n",
    "# 위 글자를 key로 받아서 리턴함\n",
    "keyElement.send_keys(Keys.RETURN)\n",
    "\n",
    "\n",
    "# 스크롤을 내려가는 것을 구현 (한번 내리고 12초동안 대기)\n",
    "bodyElement = driver.find_element(By.TAG_NAME, \"body\")\n",
    "time.sleep(12)\n",
    "\n",
    "# 첫번째 페이지가 아닌 다른 페이지도 내려가는 방법\n",
    "\n",
    "# 12번의 반복 횟수동안 0.2초마다 bodyelement에 보낸 키가 down됨\n",
    "for i in range(12):\n",
    "    bodyElement.send_keys(Keys.PAGE_DOWN)\n",
    "    time.sleep(0.2)\n",
    "    \n",
    "# CSS 셀렉터를 통해 이미지 목록의 이미지들을 images 변수에 저장\n",
    "images = driver.find_elements(By.CSS_SELECTOR, '#islrg > div.islrc > div > a.wXeWr.islib.nfEiy > div.bRMDJf.islir > img')\n",
    "\n",
    "# 이미지의 번호를 저장할 것\n",
    "imageURL = []\n",
    "for image in images: # src 어트리뷰트를 활용\n",
    "    if image.get_attribute('src') is not None: # src가 비어있지 않으면\n",
    "        imageURL.append(image.get_attribute('src')) # 이미지 url을 리스트에 붙여줄 것임\n",
    "\n",
    "# urllib은 정적 크롤링 방식으로, 이번에는 이미지 url을 다운로드  \n",
    "for i, j in enumerate(imageURL):\n",
    "    urllib.request.urlretrieve(j, 'C:/Users/임채원/Desktop/chicken/' + str(i) + '.png')\n",
    "    "
   ]
  },
  {
   "cell_type": "code",
   "execution_count": 8,
   "id": "eae350f6",
   "metadata": {},
   "outputs": [
    {
     "data": {
      "text/plain": [
       "<selenium.webdriver.remote.webelement.WebElement (session=\"6492ea13bcaaff8fd9f82c79625d1404\", element=\"b743f150-bbc2-4b56-b36e-98f2fe4c0c1e\")>"
      ]
     },
     "execution_count": 8,
     "metadata": {},
     "output_type": "execute_result"
    }
   ],
   "source": [
    "keyElement"
   ]
  },
  {
   "cell_type": "code",
   "execution_count": 14,
   "id": "e4ddb68e",
   "metadata": {},
   "outputs": [
    {
     "data": {
      "text/plain": [
       "<selenium.webdriver.remote.webelement.WebElement (session=\"8bcf5557dff2f564ad835eb732eac488\", element=\"5e1173ad-2d00-4825-9d09-0565caaafa75\")>"
      ]
     },
     "execution_count": 14,
     "metadata": {},
     "output_type": "execute_result"
    }
   ],
   "source": [
    "bodyElement"
   ]
  },
  {
   "cell_type": "code",
   "execution_count": null,
   "id": "ca1fcfb6",
   "metadata": {},
   "outputs": [],
   "source": [
    "#islrg > div.islrc > div:nth-child(9) > a.wXeWr.islib.nfEiy > div.bRMDJf.islir > img"
   ]
  },
  {
   "cell_type": "code",
   "execution_count": 17,
   "id": "aabea1c8",
   "metadata": {},
   "outputs": [],
   "source": [
    "#main_pack > section.sc_new.sp_nimage._prs_img._imageSearchPC > div > div.photo_group._listGrid > div.photo_tile._grid > div:nth-child(64) > div > div.thumb > a > img"
   ]
  },
  {
   "cell_type": "code",
   "execution_count": null,
   "id": "0cc2c152",
   "metadata": {},
   "outputs": [],
   "source": [
    "#main_pack > section.sc_new.sp_nimage._prs_img._imageSearchPC > div > div.photo_group._listGrid > div.photo_tile._grid > div:nth-child(63) > div > div.thumb > a > img"
   ]
  }
 ],
 "metadata": {
  "kernelspec": {
   "display_name": "Python 3 (ipykernel)",
   "language": "python",
   "name": "python3"
  },
  "language_info": {
   "codemirror_mode": {
    "name": "ipython",
    "version": 3
   },
   "file_extension": ".py",
   "mimetype": "text/x-python",
   "name": "python",
   "nbconvert_exporter": "python",
   "pygments_lexer": "ipython3",
   "version": "3.9.13"
  }
 },
 "nbformat": 4,
 "nbformat_minor": 5
}
