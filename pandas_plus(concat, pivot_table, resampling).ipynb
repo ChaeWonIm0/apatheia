{
  "nbformat": 4,
  "nbformat_minor": 0,
  "metadata": {
    "colab": {
      "provenance": [],
      "toc_visible": true,
      "authorship_tag": "ABX9TyO9TEJplHNzJIR1X0My/Yop",
      "include_colab_link": true
    },
    "kernelspec": {
      "name": "python3",
      "display_name": "Python 3"
    },
    "language_info": {
      "name": "python"
    }
  },
  "cells": [
    {
      "cell_type": "markdown",
      "metadata": {
        "id": "view-in-github",
        "colab_type": "text"
      },
      "source": [
        "<a href=\"https://colab.research.google.com/github/dla9944/apatheia/blob/main/pandas_plus(concat%2C%20pivot_table%2C%20resampling).ipynb\" target=\"_parent\"><img src=\"https://colab.research.google.com/assets/colab-badge.svg\" alt=\"Open In Colab\"/></a>"
      ]
    },
    {
      "cell_type": "code",
      "source": [
        "import numpy as np\n",
        "import pandas as pd"
      ],
      "metadata": {
        "id": "eIW-WqTdPkrj"
      },
      "execution_count": 1,
      "outputs": []
    },
    {
      "cell_type": "markdown",
      "source": [
        "## Pandas 요약\n",
        "\n",
        "* Numpy : 다차원 배열 데이터\n",
        "   * 정해진 길이, 정해진 타입, 정수 인덱스\n",
        "   * 벡터화 연산 ↔ 리스트 연결, 복사...\n",
        "   * 특정한 배열에 속한 원소들에 대해서 반복적 연산\n",
        "   * 불리언 인덱스 배열 ◀ 필터링\n",
        "* Pandas : 2차원 배열, 행렬 형태의 딕셔너리 같이 키를 갖고 있는 데이터 (행과 열 모두 인덱스)\n",
        "   * 엑셀, 표 형태의 일반적으로 볼 수 있는 데이터\n",
        "   * 값들은 배열입니다 (열 단위의) → numpy, ndarray\n",
        "   * 값마다 인덱스가 배정되어 있습니다. 인덱스는 굳이 정수일 필요가 없고, 특정한 값을 붙여줍니다. 이것이 '라벨'. 문자열, 정수, 시간, 날짜... → 인덱싱, 인덱서로 호출합니다.\n",
        "   * '라벨' → 딕셔너리 유사 → 키를 통해서 데이터 묶음에다가 특정한 데이터를 CRUD, 생성, 읽기, 수정, 삭제합니다\n",
        "\n",
        " >  ✍ 데이터 분석, 특성을 확인하기 위한 작업 → Pandas → 인간이 보기가 좋음 (이해, 분석)  <br> 모델링, 프로그램 → 컴퓨터가 작업을 해주기 위한 형태로 변형 → Numpy → 속도가 빠르고, 컴퓨터가 효율적으로 변형, 분석합니다.\n",
        "\n",
        " "
      ],
      "metadata": {
        "id": "SrEh1OLfGKT9"
      }
    },
    {
      "cell_type": "markdown",
      "source": [
        "시리즈 (Series)\n",
        "\n",
        "Serial / Series ; (영, 미) 연속되어 있다\n",
        "→ 배열(Array), 리스트(List)\n",
        "  * 이름 : 원소들마다 부르는 이름\n",
        "  * 사물함(키-값) → 딕셔너리\n",
        "\n",
        "```\n",
        "pd.Series(...) # 연속된 데이터 묶음\n",
        "# 리스트, 배열 등을 삽입\n",
        "# index : 연속된 데이터 묶음 → 시리즈 내의 데이터와 매칭이 되는 나열된 이름들\n",
        "# → 시리즈 내의 데이터와 매칭이 되는 나열된 이름들\n",
        "$ index를 안 넣어주면 range, arange 같이 해당 길이와 맞는 정수 인덱스가 자동으로 부여됨 (0~len)\n",
        "```\n",
        "\n",
        "\n"
      ],
      "metadata": {
        "id": "-KMAjlaiIJOb"
      }
    },
    {
      "cell_type": "code",
      "source": [
        "import pandas as pd"
      ],
      "metadata": {
        "id": "cvJ2Vy2bJnhm"
      },
      "execution_count": null,
      "outputs": []
    },
    {
      "cell_type": "code",
      "source": [
        "series = pd.Series([9904312, 3448737, 2890451, 2466052],   # 연속된 데이터 묶음 (리스트, 튜플, 1차원 배열...)\n",
        "              index=[\"서울\", \"부산\", \"인천\", \"대구\"]) # 넣어준 데이터의 길이와 일치하는 인덱스 묶음을 넣으면 \n",
        "                                                      # 순서대로 짝지어서 데이터가 들어갑니다 \n",
        "                                                      # 인덱스를 안 넣어주면 range 비슷하게 생성 (길이가 맞춰서)\n",
        "s"
      ],
      "metadata": {
        "colab": {
          "base_uri": "https://localhost:8080/"
        },
        "id": "9HqIO7lYJgQT",
        "outputId": "e0129be4-a3c4-43ff-a613-4b7bf93d7a64"
      },
      "execution_count": null,
      "outputs": [
        {
          "output_type": "execute_result",
          "data": {
            "text/plain": [
              "서울    9904312\n",
              "부산    3448737\n",
              "인천    2890451\n",
              "대구    2466052\n",
              "dtype: int64"
            ]
          },
          "metadata": {},
          "execution_count": 9
        }
      ]
    },
    {
      "cell_type": "markdown",
      "source": [
        "* `s.index` : 시리즈의 인덱스 (라벨링 된 이름들)\n",
        "* `s.values` : 시리즈의 값(배열) ▶ 같은 타입"
      ],
      "metadata": {
        "id": "AslAuzszJgqm"
      }
    },
    {
      "cell_type": "code",
      "source": [
        "s"
      ],
      "metadata": {
        "colab": {
          "base_uri": "https://localhost:8080/"
        },
        "id": "LEN37Tf5J7VE",
        "outputId": "d92768ee-38f4-464d-e299-1edb91fc1573"
      },
      "execution_count": null,
      "outputs": [
        {
          "output_type": "execute_result",
          "data": {
            "text/plain": [
              "서울    9904312\n",
              "부산    3448737\n",
              "인천    2890451\n",
              "대구    2466052\n",
              "dtype: int64"
            ]
          },
          "metadata": {},
          "execution_count": 7
        }
      ]
    },
    {
      "cell_type": "code",
      "source": [
        "s.index"
      ],
      "metadata": {
        "colab": {
          "base_uri": "https://localhost:8080/"
        },
        "id": "IBBAPoSpJ2B2",
        "outputId": "0c6c6030-9304-4a17-9991-ac7722a4f045"
      },
      "execution_count": null,
      "outputs": [
        {
          "output_type": "execute_result",
          "data": {
            "text/plain": [
              "Index(['서울', '부산', '인천', '대구'], dtype='object')"
            ]
          },
          "metadata": {},
          "execution_count": 5
        }
      ]
    },
    {
      "cell_type": "code",
      "source": [
        "s.values"
      ],
      "metadata": {
        "colab": {
          "base_uri": "https://localhost:8080/"
        },
        "id": "66izwZ6rJ3JO",
        "outputId": "b2f56f9e-af6a-437e-95e9-5626730fa802"
      },
      "execution_count": null,
      "outputs": [
        {
          "output_type": "execute_result",
          "data": {
            "text/plain": [
              "array([9904312, 3448737, 2890451, 2466052])"
            ]
          },
          "metadata": {},
          "execution_count": 6
        }
      ]
    },
    {
      "cell_type": "markdown",
      "source": [
        "* `s.name`, `s.index.name` : 시리즈 자체나 인덱스의 이름을 붙일 수 있습니다"
      ],
      "metadata": {
        "id": "bixlsivDJ4vE"
      }
    },
    {
      "cell_type": "markdown",
      "source": [
        "## 시리즈 연산\n",
        "* Numpy 배열(ndarray)과 유사합니다. 그래서 **벡터화 연산**이 가능합니다.\n",
        "* 연산 자체는 '값'(배열) ▶ 인덱스 적용이 안됩니다."
      ],
      "metadata": {
        "id": "97cd_yEDKFB-"
      }
    },
    {
      "cell_type": "markdown",
      "source": [
        "## 시리즈 인덱싱과 슬라이싱\n",
        "* 시리즈 : 배열이자 딕셔너리와 유사하기 때문에 numpy배열에서 사용 가능한 인덱스 방법(정수 인덱싱, 배열 인덱싱) 전부 사용 가능합니다.\n",
        "* 인덱스 라벨을 이용한 인덱싱도 가능합니다. 딕셔너리 처럼 키로 호출할 수 있습니다\n",
        "\n",
        "인덱싱이 가능하다는 것은 슬라이싱(부분집합 만들기)도 가능합니다. 일종의 사물함\n",
        "\n",
        "![image.png](data:image/png;base64,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)"
      ],
      "metadata": {
        "id": "kP51u2qMK8A-"
      }
    },
    {
      "cell_type": "code",
      "source": [
        "s"
      ],
      "metadata": {
        "colab": {
          "base_uri": "https://localhost:8080/"
        },
        "id": "Habup1uqLQKG",
        "outputId": "2e199300-9045-4024-9683-d240c52dde11"
      },
      "execution_count": null,
      "outputs": [
        {
          "output_type": "execute_result",
          "data": {
            "text/plain": [
              "서울    9904312\n",
              "부산    3448737\n",
              "인천    2890451\n",
              "대구    2466052\n",
              "dtype: int64"
            ]
          },
          "metadata": {},
          "execution_count": 9
        }
      ]
    },
    {
      "cell_type": "markdown",
      "source": [
        "## 벡터화 연산 ▶ 모든 데이터에 대한 특정 조건 만족 여부 (T/F)\n",
        "→ ==, ><, ... ▶ 불리언 배열 ▶ 불리언 배열 인덱싱이 시리즈에서도 가능합니다"
      ],
      "metadata": {
        "id": "hJXQTX5eMIiR"
      }
    },
    {
      "cell_type": "markdown",
      "source": [
        "## 슬라이싱\n",
        "\n",
        "* 라벨 슬라이싱 ▶ 다른 점은 범위를 지정했을 때, (\"a\":\"b\") 가 라벨 슬라이싱에서는 b가 포함 됩니다.\n",
        "* 판다스 → 라벨을 통해서 해당 데이터를 속성처럼 호출할 수 있습니다\n",
        "`series.속성명` → 해당 라벨을 호출해서 사용합니다\n",
        "![image.png](data:image/png;base64,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)"
      ],
      "metadata": {
        "id": "w28mH2JgLTeb"
      }
    },
    {
      "cell_type": "markdown",
      "source": [
        "* 변수명으로 지정할 수 있는 일반적인(공백없는) 단어들로 구성된 라벨은 시리즈에 `.` 을 통해서 속성으로 호출"
      ],
      "metadata": {
        "id": "V7-5pbjDNTbX"
      }
    },
    {
      "cell_type": "markdown",
      "source": [
        "## 인덱스 기반 (시리즈 간) 연산\n",
        "* 시리즈는 value에 한해서 벡터화 연선\n",
        "* 시리즈 들 간에도 벡터화 연산\n",
        "* 인덱스 라벨 일치하는 값들에 한해서 시리즈 간 연산\n",
        "* 라벨이 일치하지 않는다 (한 쪽에 라벨이 비어 있습니다) → `NaN`\n",
        "![image.png](data:image/png;base64,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)"
      ],
      "metadata": {
        "id": "LcB-BDNwTGNe"
      }
    },
    {
      "cell_type": "markdown",
      "source": [
        "* `NaN` 은 `Null : series.notnull()` : 불리언 배열 값 인덱싱을 비어있지 않은 값들을 호출합니다"
      ],
      "metadata": {
        "id": "dGmELAQnTd53"
      }
    },
    {
      "cell_type": "markdown",
      "source": [
        "## 데이터의 갱신, 추가, 삭제 (인덱싱)\n",
        "\n",
        "* 딕셔너리처럼 인덱싱해서 → 새로운 키 값을 주면 해당 키 값에 대해서 새로운 값을 할당합니다. 기존에 존재하던 키를 호출한 다음에 수정. `del`로 지워주면 됩니다.\n",
        "* 배열처럼 인덱싱해서 새롭게 키를 만들어서 처리할 수 없습니다. 배열이기 때문입니다."
      ],
      "metadata": {
        "id": "v5Xnc03iTrDp"
      }
    },
    {
      "cell_type": "markdown",
      "source": [
        "## 데이터프레임 (DataFrame)\n",
        "* 시리즈 : 1차원 배열 데이터 + 행방향 인덱스\n",
        "* 데이터프레임 : 2차원 배열 데이터 + 행방향 인덱스 & 열방향 인덱스"
      ],
      "metadata": {
        "id": "DpYJpA7SUGfh"
      }
    },
    {
      "cell_type": "markdown",
      "source": [
        "### 데이터프레임 생성\n",
        "* 하나의 열이 될 수 있는 데이터 묶음(리스트, 일차원)\n",
        "  ` + 원하는 만큼의 구성할 열\n",
        "* 열의 이름을 키로 가지는 딕셔너리 → 키 : 연속된 데이터(타입이 다 동일해야 합니다)\n",
        "* 이 데이터를 'pd.DataFrame( )` 으로 넣어줍니다.\n",
        "    * 열 방향 인덱스를 넣어주고 싶다 : `pd.DataFrame(columns=...)`\n",
        "    * 행 방향 인덱스를 넣어주고 싶다 : `pd.DataFrame(index=...)`\n"
      ],
      "metadata": {
        "id": "xabfx7qKUa3L"
      }
    },
    {
      "cell_type": "code",
      "source": [
        "data = {\n",
        "    \"2015\": [9904312, 3448737, 2890451, 2466052],\n",
        "    \"2010\": [9631482, 3393191, 2632035, 2431774],\n",
        "    \"2005\": [9762546, 3512547, 2517680, 2456016],\n",
        "    \"2000\": [9853972, 3655437, 2466338, 2473990],\n",
        "    \"지역\": [\"수도권\", \"경상권\", \"수도권\", \"경상권\"],\n",
        "    \"2010-2015 증가율\": [0.0283, 0.0163, 0.0982, 0.0141]\n",
        "}\n",
        "columns = [\"지역\", \"2015\", \"2010\", \"2005\", \"2000\", \"2010-2015 증가율\"]\n",
        "index = [\"서울\", \"부산\", \"인천\", \"대구\"]\n",
        "df = pd.DataFrame(data, index=index, columns=columns)\n",
        "df"
      ],
      "metadata": {
        "colab": {
          "base_uri": "https://localhost:8080/",
          "height": 175
        },
        "id": "WMADqdClVcq5",
        "outputId": "ffb6ef30-5610-4e03-f0cf-8697fd7a9b8e"
      },
      "execution_count": null,
      "outputs": [
        {
          "output_type": "execute_result",
          "data": {
            "text/plain": [
              "     지역     2015     2010     2005     2000  2010-2015 증가율\n",
              "서울  수도권  9904312  9631482  9762546  9853972         0.0283\n",
              "부산  경상권  3448737  3393191  3512547  3655437         0.0163\n",
              "인천  수도권  2890451  2632035  2517680  2466338         0.0982\n",
              "대구  경상권  2466052  2431774  2456016  2473990         0.0141"
            ],
            "text/html": [
              "\n",
              "  <div id=\"df-27f649bf-3b89-4167-ab69-bbd0acde966a\">\n",
              "    <div class=\"colab-df-container\">\n",
              "      <div>\n",
              "<style scoped>\n",
              "    .dataframe tbody tr th:only-of-type {\n",
              "        vertical-align: middle;\n",
              "    }\n",
              "\n",
              "    .dataframe tbody tr th {\n",
              "        vertical-align: top;\n",
              "    }\n",
              "\n",
              "    .dataframe thead th {\n",
              "        text-align: right;\n",
              "    }\n",
              "</style>\n",
              "<table border=\"1\" class=\"dataframe\">\n",
              "  <thead>\n",
              "    <tr style=\"text-align: right;\">\n",
              "      <th></th>\n",
              "      <th>지역</th>\n",
              "      <th>2015</th>\n",
              "      <th>2010</th>\n",
              "      <th>2005</th>\n",
              "      <th>2000</th>\n",
              "      <th>2010-2015 증가율</th>\n",
              "    </tr>\n",
              "  </thead>\n",
              "  <tbody>\n",
              "    <tr>\n",
              "      <th>서울</th>\n",
              "      <td>수도권</td>\n",
              "      <td>9904312</td>\n",
              "      <td>9631482</td>\n",
              "      <td>9762546</td>\n",
              "      <td>9853972</td>\n",
              "      <td>0.0283</td>\n",
              "    </tr>\n",
              "    <tr>\n",
              "      <th>부산</th>\n",
              "      <td>경상권</td>\n",
              "      <td>3448737</td>\n",
              "      <td>3393191</td>\n",
              "      <td>3512547</td>\n",
              "      <td>3655437</td>\n",
              "      <td>0.0163</td>\n",
              "    </tr>\n",
              "    <tr>\n",
              "      <th>인천</th>\n",
              "      <td>수도권</td>\n",
              "      <td>2890451</td>\n",
              "      <td>2632035</td>\n",
              "      <td>2517680</td>\n",
              "      <td>2466338</td>\n",
              "      <td>0.0982</td>\n",
              "    </tr>\n",
              "    <tr>\n",
              "      <th>대구</th>\n",
              "      <td>경상권</td>\n",
              "      <td>2466052</td>\n",
              "      <td>2431774</td>\n",
              "      <td>2456016</td>\n",
              "      <td>2473990</td>\n",
              "      <td>0.0141</td>\n",
              "    </tr>\n",
              "  </tbody>\n",
              "</table>\n",
              "</div>\n",
              "      <button class=\"colab-df-convert\" onclick=\"convertToInteractive('df-27f649bf-3b89-4167-ab69-bbd0acde966a')\"\n",
              "              title=\"Convert this dataframe to an interactive table.\"\n",
              "              style=\"display:none;\">\n",
              "        \n",
              "  <svg xmlns=\"http://www.w3.org/2000/svg\" height=\"24px\"viewBox=\"0 0 24 24\"\n",
              "       width=\"24px\">\n",
              "    <path d=\"M0 0h24v24H0V0z\" fill=\"none\"/>\n",
              "    <path d=\"M18.56 5.44l.94 2.06.94-2.06 2.06-.94-2.06-.94-.94-2.06-.94 2.06-2.06.94zm-11 1L8.5 8.5l.94-2.06 2.06-.94-2.06-.94L8.5 2.5l-.94 2.06-2.06.94zm10 10l.94 2.06.94-2.06 2.06-.94-2.06-.94-.94-2.06-.94 2.06-2.06.94z\"/><path d=\"M17.41 7.96l-1.37-1.37c-.4-.4-.92-.59-1.43-.59-.52 0-1.04.2-1.43.59L10.3 9.45l-7.72 7.72c-.78.78-.78 2.05 0 2.83L4 21.41c.39.39.9.59 1.41.59.51 0 1.02-.2 1.41-.59l7.78-7.78 2.81-2.81c.8-.78.8-2.07 0-2.86zM5.41 20L4 18.59l7.72-7.72 1.47 1.35L5.41 20z\"/>\n",
              "  </svg>\n",
              "      </button>\n",
              "      \n",
              "  <style>\n",
              "    .colab-df-container {\n",
              "      display:flex;\n",
              "      flex-wrap:wrap;\n",
              "      gap: 12px;\n",
              "    }\n",
              "\n",
              "    .colab-df-convert {\n",
              "      background-color: #E8F0FE;\n",
              "      border: none;\n",
              "      border-radius: 50%;\n",
              "      cursor: pointer;\n",
              "      display: none;\n",
              "      fill: #1967D2;\n",
              "      height: 32px;\n",
              "      padding: 0 0 0 0;\n",
              "      width: 32px;\n",
              "    }\n",
              "\n",
              "    .colab-df-convert:hover {\n",
              "      background-color: #E2EBFA;\n",
              "      box-shadow: 0px 1px 2px rgba(60, 64, 67, 0.3), 0px 1px 3px 1px rgba(60, 64, 67, 0.15);\n",
              "      fill: #174EA6;\n",
              "    }\n",
              "\n",
              "    [theme=dark] .colab-df-convert {\n",
              "      background-color: #3B4455;\n",
              "      fill: #D2E3FC;\n",
              "    }\n",
              "\n",
              "    [theme=dark] .colab-df-convert:hover {\n",
              "      background-color: #434B5C;\n",
              "      box-shadow: 0px 1px 3px 1px rgba(0, 0, 0, 0.15);\n",
              "      filter: drop-shadow(0px 1px 2px rgba(0, 0, 0, 0.3));\n",
              "      fill: #FFFFFF;\n",
              "    }\n",
              "  </style>\n",
              "\n",
              "      <script>\n",
              "        const buttonEl =\n",
              "          document.querySelector('#df-27f649bf-3b89-4167-ab69-bbd0acde966a button.colab-df-convert');\n",
              "        buttonEl.style.display =\n",
              "          google.colab.kernel.accessAllowed ? 'block' : 'none';\n",
              "\n",
              "        async function convertToInteractive(key) {\n",
              "          const element = document.querySelector('#df-27f649bf-3b89-4167-ab69-bbd0acde966a');\n",
              "          const dataTable =\n",
              "            await google.colab.kernel.invokeFunction('convertToInteractive',\n",
              "                                                     [key], {});\n",
              "          if (!dataTable) return;\n",
              "\n",
              "          const docLinkHtml = 'Like what you see? Visit the ' +\n",
              "            '<a target=\"_blank\" href=https://colab.research.google.com/notebooks/data_table.ipynb>data table notebook</a>'\n",
              "            + ' to learn more about interactive tables.';\n",
              "          element.innerHTML = '';\n",
              "          dataTable['output_type'] = 'display_data';\n",
              "          await google.colab.output.renderOutput(dataTable, element);\n",
              "          const docLink = document.createElement('div');\n",
              "          docLink.innerHTML = docLinkHtml;\n",
              "          element.appendChild(docLink);\n",
              "        }\n",
              "      </script>\n",
              "    </div>\n",
              "  </div>\n",
              "  "
            ]
          },
          "metadata": {},
          "execution_count": 4
        }
      ]
    },
    {
      "cell_type": "code",
      "source": [
        "df.values # 데이터 (배열)\n"
      ],
      "metadata": {
        "colab": {
          "base_uri": "https://localhost:8080/"
        },
        "id": "kOQyQ5ehVfMU",
        "outputId": "a57bad6f-a857-44b0-a4c1-386025ad9135"
      },
      "execution_count": null,
      "outputs": [
        {
          "output_type": "execute_result",
          "data": {
            "text/plain": [
              "array([['수도권', 9904312, 9631482, 9762546, 9853972, 0.0283],\n",
              "       ['경상권', 3448737, 3393191, 3512547, 3655437, 0.0163],\n",
              "       ['수도권', 2890451, 2632035, 2517680, 2466338, 0.0982],\n",
              "       ['경상권', 2466052, 2431774, 2456016, 2473990, 0.0141]], dtype=object)"
            ]
          },
          "metadata": {},
          "execution_count": 5
        }
      ]
    },
    {
      "cell_type": "code",
      "source": [
        "df.columns # 열 이름들, 컬럼들(열방향 인덱스)\n"
      ],
      "metadata": {
        "colab": {
          "base_uri": "https://localhost:8080/"
        },
        "id": "DbUWDvxsVlDl",
        "outputId": "85ee9f8c-2264-42ee-c540-60f02c7798c4"
      },
      "execution_count": null,
      "outputs": [
        {
          "output_type": "execute_result",
          "data": {
            "text/plain": [
              "Index(['지역', '2015', '2010', '2005', '2000', '2010-2015 증가율'], dtype='object')"
            ]
          },
          "metadata": {},
          "execution_count": 12
        }
      ]
    },
    {
      "cell_type": "code",
      "source": [
        "df.index # 행 이름들, 행방향 인덱스\n"
      ],
      "metadata": {
        "colab": {
          "base_uri": "https://localhost:8080/"
        },
        "id": "-WyzYJFcVmYb",
        "outputId": "25c339d9-52ea-45b7-9a28-af0c98545903"
      },
      "execution_count": null,
      "outputs": [
        {
          "output_type": "execute_result",
          "data": {
            "text/plain": [
              "Index(['서울', '부산', '인천', '대구'], dtype='object')"
            ]
          },
          "metadata": {},
          "execution_count": 14
        }
      ]
    },
    {
      "cell_type": "code",
      "source": [
        "df.T # 데이터프레임의 행 → 열, 열 → 행"
      ],
      "metadata": {
        "colab": {
          "base_uri": "https://localhost:8080/",
          "height": 238
        },
        "id": "TUWaPjmlVm4z",
        "outputId": "f38da1b2-2019-473d-916d-9a6f87a84000"
      },
      "execution_count": null,
      "outputs": [
        {
          "output_type": "execute_result",
          "data": {
            "text/plain": [
              "                    서울       부산       인천       대구\n",
              "지역                 수도권      경상권      수도권      경상권\n",
              "2015           9904312  3448737  2890451  2466052\n",
              "2010           9631482  3393191  2632035  2431774\n",
              "2005           9762546  3512547  2517680  2456016\n",
              "2000           9853972  3655437  2466338  2473990\n",
              "2010-2015 증가율   0.0283   0.0163   0.0982   0.0141"
            ],
            "text/html": [
              "\n",
              "  <div id=\"df-1884c77c-4833-4964-9c3d-58e8bc353d34\">\n",
              "    <div class=\"colab-df-container\">\n",
              "      <div>\n",
              "<style scoped>\n",
              "    .dataframe tbody tr th:only-of-type {\n",
              "        vertical-align: middle;\n",
              "    }\n",
              "\n",
              "    .dataframe tbody tr th {\n",
              "        vertical-align: top;\n",
              "    }\n",
              "\n",
              "    .dataframe thead th {\n",
              "        text-align: right;\n",
              "    }\n",
              "</style>\n",
              "<table border=\"1\" class=\"dataframe\">\n",
              "  <thead>\n",
              "    <tr style=\"text-align: right;\">\n",
              "      <th></th>\n",
              "      <th>서울</th>\n",
              "      <th>부산</th>\n",
              "      <th>인천</th>\n",
              "      <th>대구</th>\n",
              "    </tr>\n",
              "  </thead>\n",
              "  <tbody>\n",
              "    <tr>\n",
              "      <th>지역</th>\n",
              "      <td>수도권</td>\n",
              "      <td>경상권</td>\n",
              "      <td>수도권</td>\n",
              "      <td>경상권</td>\n",
              "    </tr>\n",
              "    <tr>\n",
              "      <th>2015</th>\n",
              "      <td>9904312</td>\n",
              "      <td>3448737</td>\n",
              "      <td>2890451</td>\n",
              "      <td>2466052</td>\n",
              "    </tr>\n",
              "    <tr>\n",
              "      <th>2010</th>\n",
              "      <td>9631482</td>\n",
              "      <td>3393191</td>\n",
              "      <td>2632035</td>\n",
              "      <td>2431774</td>\n",
              "    </tr>\n",
              "    <tr>\n",
              "      <th>2005</th>\n",
              "      <td>9762546</td>\n",
              "      <td>3512547</td>\n",
              "      <td>2517680</td>\n",
              "      <td>2456016</td>\n",
              "    </tr>\n",
              "    <tr>\n",
              "      <th>2000</th>\n",
              "      <td>9853972</td>\n",
              "      <td>3655437</td>\n",
              "      <td>2466338</td>\n",
              "      <td>2473990</td>\n",
              "    </tr>\n",
              "    <tr>\n",
              "      <th>2010-2015 증가율</th>\n",
              "      <td>0.0283</td>\n",
              "      <td>0.0163</td>\n",
              "      <td>0.0982</td>\n",
              "      <td>0.0141</td>\n",
              "    </tr>\n",
              "  </tbody>\n",
              "</table>\n",
              "</div>\n",
              "      <button class=\"colab-df-convert\" onclick=\"convertToInteractive('df-1884c77c-4833-4964-9c3d-58e8bc353d34')\"\n",
              "              title=\"Convert this dataframe to an interactive table.\"\n",
              "              style=\"display:none;\">\n",
              "        \n",
              "  <svg xmlns=\"http://www.w3.org/2000/svg\" height=\"24px\"viewBox=\"0 0 24 24\"\n",
              "       width=\"24px\">\n",
              "    <path d=\"M0 0h24v24H0V0z\" fill=\"none\"/>\n",
              "    <path d=\"M18.56 5.44l.94 2.06.94-2.06 2.06-.94-2.06-.94-.94-2.06-.94 2.06-2.06.94zm-11 1L8.5 8.5l.94-2.06 2.06-.94-2.06-.94L8.5 2.5l-.94 2.06-2.06.94zm10 10l.94 2.06.94-2.06 2.06-.94-2.06-.94-.94-2.06-.94 2.06-2.06.94z\"/><path d=\"M17.41 7.96l-1.37-1.37c-.4-.4-.92-.59-1.43-.59-.52 0-1.04.2-1.43.59L10.3 9.45l-7.72 7.72c-.78.78-.78 2.05 0 2.83L4 21.41c.39.39.9.59 1.41.59.51 0 1.02-.2 1.41-.59l7.78-7.78 2.81-2.81c.8-.78.8-2.07 0-2.86zM5.41 20L4 18.59l7.72-7.72 1.47 1.35L5.41 20z\"/>\n",
              "  </svg>\n",
              "      </button>\n",
              "      \n",
              "  <style>\n",
              "    .colab-df-container {\n",
              "      display:flex;\n",
              "      flex-wrap:wrap;\n",
              "      gap: 12px;\n",
              "    }\n",
              "\n",
              "    .colab-df-convert {\n",
              "      background-color: #E8F0FE;\n",
              "      border: none;\n",
              "      border-radius: 50%;\n",
              "      cursor: pointer;\n",
              "      display: none;\n",
              "      fill: #1967D2;\n",
              "      height: 32px;\n",
              "      padding: 0 0 0 0;\n",
              "      width: 32px;\n",
              "    }\n",
              "\n",
              "    .colab-df-convert:hover {\n",
              "      background-color: #E2EBFA;\n",
              "      box-shadow: 0px 1px 2px rgba(60, 64, 67, 0.3), 0px 1px 3px 1px rgba(60, 64, 67, 0.15);\n",
              "      fill: #174EA6;\n",
              "    }\n",
              "\n",
              "    [theme=dark] .colab-df-convert {\n",
              "      background-color: #3B4455;\n",
              "      fill: #D2E3FC;\n",
              "    }\n",
              "\n",
              "    [theme=dark] .colab-df-convert:hover {\n",
              "      background-color: #434B5C;\n",
              "      box-shadow: 0px 1px 3px 1px rgba(0, 0, 0, 0.15);\n",
              "      filter: drop-shadow(0px 1px 2px rgba(0, 0, 0, 0.3));\n",
              "      fill: #FFFFFF;\n",
              "    }\n",
              "  </style>\n",
              "\n",
              "      <script>\n",
              "        const buttonEl =\n",
              "          document.querySelector('#df-1884c77c-4833-4964-9c3d-58e8bc353d34 button.colab-df-convert');\n",
              "        buttonEl.style.display =\n",
              "          google.colab.kernel.accessAllowed ? 'block' : 'none';\n",
              "\n",
              "        async function convertToInteractive(key) {\n",
              "          const element = document.querySelector('#df-1884c77c-4833-4964-9c3d-58e8bc353d34');\n",
              "          const dataTable =\n",
              "            await google.colab.kernel.invokeFunction('convertToInteractive',\n",
              "                                                     [key], {});\n",
              "          if (!dataTable) return;\n",
              "\n",
              "          const docLinkHtml = 'Like what you see? Visit the ' +\n",
              "            '<a target=\"_blank\" href=https://colab.research.google.com/notebooks/data_table.ipynb>data table notebook</a>'\n",
              "            + ' to learn more about interactive tables.';\n",
              "          element.innerHTML = '';\n",
              "          dataTable['output_type'] = 'display_data';\n",
              "          await google.colab.output.renderOutput(dataTable, element);\n",
              "          const docLink = document.createElement('div');\n",
              "          docLink.innerHTML = docLinkHtml;\n",
              "          element.appendChild(docLink);\n",
              "        }\n",
              "      </script>\n",
              "    </div>\n",
              "  </div>\n",
              "  "
            ]
          },
          "metadata": {},
          "execution_count": 15
        }
      ]
    },
    {
      "cell_type": "code",
      "source": [
        "df['2015'] # 새로운 데이터를 넣어줌 (길이가 맞아야 함)\n",
        "#df.shape → (행 길이, 열 길이) → 행의 길이"
      ],
      "metadata": {
        "colab": {
          "base_uri": "https://localhost:8080/",
          "height": 135
        },
        "id": "tIJvccm1V2oX",
        "outputId": "1079a42c-a1b4-442a-afd3-ace7fcec348e"
      },
      "execution_count": null,
      "outputs": [
        {
          "output_type": "error",
          "ename": "SyntaxError",
          "evalue": "ignored",
          "traceback": [
            "\u001b[0;36m  File \u001b[0;32m\"<ipython-input-21-7be1f6ff8ecc>\"\u001b[0;36m, line \u001b[0;32m2\u001b[0m\n\u001b[0;31m    df.shape → (행 길이, 열 길이) → 행의 길이\u001b[0m\n\u001b[0m             ^\u001b[0m\n\u001b[0;31mSyntaxError\u001b[0m\u001b[0;31m:\u001b[0m invalid character in identifier\n"
          ]
        }
      ]
    },
    {
      "cell_type": "markdown",
      "source": [
        "## 열 인덱싱\n",
        "\n",
        "* 열과 행의 위치를 뒤바꿔 버립니다"
      ],
      "metadata": {
        "id": "MapiAIyWWAP3"
      }
    },
    {
      "cell_type": "code",
      "source": [
        "df[열 라벨] = 시리즈\n",
        "df[[열1, 열2]] = 데이터 프레임\n",
        "# df[0] -> 특정 라벨을 인덱스에 넣는다 = 키값 = 열 라벨\n",
        "# 정수형 인덱스 -> 딕셔너리 키 X -> 에러가 난다\n",
        "# 정수형 인덱스 = 열 라벨의 이름 / 위치? -> 정수형 인덱스\n",
        "# Key Error"
      ],
      "metadata": {
        "colab": {
          "base_uri": "https://localhost:8080/",
          "height": 135
        },
        "id": "GR5_OLXRWui9",
        "outputId": "a72fd747-3a44-40e5-8a60-055120259245"
      },
      "execution_count": null,
      "outputs": [
        {
          "output_type": "error",
          "ename": "SyntaxError",
          "evalue": "ignored",
          "traceback": [
            "\u001b[0;36m  File \u001b[0;32m\"<ipython-input-42-b422e65f96bb>\"\u001b[0;36m, line \u001b[0;32m1\u001b[0m\n\u001b[0;31m    df[열 라벨] = 시리즈\u001b[0m\n\u001b[0m         ^\u001b[0m\n\u001b[0;31mSyntaxError\u001b[0m\u001b[0;31m:\u001b[0m invalid syntax\n"
          ]
        }
      ]
    },
    {
      "cell_type": "code",
      "source": [
        "df['2000'] # 단일"
      ],
      "metadata": {
        "colab": {
          "base_uri": "https://localhost:8080/"
        },
        "id": "t7i0oUIEYEcU",
        "outputId": "267ed71f-8e48-4e0d-a70a-6c55ef5ba4b6"
      },
      "execution_count": null,
      "outputs": [
        {
          "output_type": "execute_result",
          "data": {
            "text/plain": [
              "서울    9853972\n",
              "부산    3655437\n",
              "인천    2466338\n",
              "대구    2473990\n",
              "Name: 2000, dtype: int64"
            ]
          },
          "metadata": {},
          "execution_count": 60
        }
      ]
    },
    {
      "cell_type": "code",
      "source": [
        "df[['2010','2005']] # 복수"
      ],
      "metadata": {
        "colab": {
          "base_uri": "https://localhost:8080/",
          "height": 175
        },
        "id": "dH5SgQzxZekW",
        "outputId": "d5176ae5-884d-4a9b-fffb-d1b4f4a77cca"
      },
      "execution_count": null,
      "outputs": [
        {
          "output_type": "execute_result",
          "data": {
            "text/plain": [
              "       2010     2005\n",
              "서울  9631482  9762546\n",
              "부산  3393191  3512547\n",
              "인천  2632035  2517680\n",
              "대구  2431774  2456016"
            ],
            "text/html": [
              "\n",
              "  <div id=\"df-8a0edce4-ff11-464a-9754-decbb064f486\">\n",
              "    <div class=\"colab-df-container\">\n",
              "      <div>\n",
              "<style scoped>\n",
              "    .dataframe tbody tr th:only-of-type {\n",
              "        vertical-align: middle;\n",
              "    }\n",
              "\n",
              "    .dataframe tbody tr th {\n",
              "        vertical-align: top;\n",
              "    }\n",
              "\n",
              "    .dataframe thead th {\n",
              "        text-align: right;\n",
              "    }\n",
              "</style>\n",
              "<table border=\"1\" class=\"dataframe\">\n",
              "  <thead>\n",
              "    <tr style=\"text-align: right;\">\n",
              "      <th></th>\n",
              "      <th>2010</th>\n",
              "      <th>2005</th>\n",
              "    </tr>\n",
              "  </thead>\n",
              "  <tbody>\n",
              "    <tr>\n",
              "      <th>서울</th>\n",
              "      <td>9631482</td>\n",
              "      <td>9762546</td>\n",
              "    </tr>\n",
              "    <tr>\n",
              "      <th>부산</th>\n",
              "      <td>3393191</td>\n",
              "      <td>3512547</td>\n",
              "    </tr>\n",
              "    <tr>\n",
              "      <th>인천</th>\n",
              "      <td>2632035</td>\n",
              "      <td>2517680</td>\n",
              "    </tr>\n",
              "    <tr>\n",
              "      <th>대구</th>\n",
              "      <td>2431774</td>\n",
              "      <td>2456016</td>\n",
              "    </tr>\n",
              "  </tbody>\n",
              "</table>\n",
              "</div>\n",
              "      <button class=\"colab-df-convert\" onclick=\"convertToInteractive('df-8a0edce4-ff11-464a-9754-decbb064f486')\"\n",
              "              title=\"Convert this dataframe to an interactive table.\"\n",
              "              style=\"display:none;\">\n",
              "        \n",
              "  <svg xmlns=\"http://www.w3.org/2000/svg\" height=\"24px\"viewBox=\"0 0 24 24\"\n",
              "       width=\"24px\">\n",
              "    <path d=\"M0 0h24v24H0V0z\" fill=\"none\"/>\n",
              "    <path d=\"M18.56 5.44l.94 2.06.94-2.06 2.06-.94-2.06-.94-.94-2.06-.94 2.06-2.06.94zm-11 1L8.5 8.5l.94-2.06 2.06-.94-2.06-.94L8.5 2.5l-.94 2.06-2.06.94zm10 10l.94 2.06.94-2.06 2.06-.94-2.06-.94-.94-2.06-.94 2.06-2.06.94z\"/><path d=\"M17.41 7.96l-1.37-1.37c-.4-.4-.92-.59-1.43-.59-.52 0-1.04.2-1.43.59L10.3 9.45l-7.72 7.72c-.78.78-.78 2.05 0 2.83L4 21.41c.39.39.9.59 1.41.59.51 0 1.02-.2 1.41-.59l7.78-7.78 2.81-2.81c.8-.78.8-2.07 0-2.86zM5.41 20L4 18.59l7.72-7.72 1.47 1.35L5.41 20z\"/>\n",
              "  </svg>\n",
              "      </button>\n",
              "      \n",
              "  <style>\n",
              "    .colab-df-container {\n",
              "      display:flex;\n",
              "      flex-wrap:wrap;\n",
              "      gap: 12px;\n",
              "    }\n",
              "\n",
              "    .colab-df-convert {\n",
              "      background-color: #E8F0FE;\n",
              "      border: none;\n",
              "      border-radius: 50%;\n",
              "      cursor: pointer;\n",
              "      display: none;\n",
              "      fill: #1967D2;\n",
              "      height: 32px;\n",
              "      padding: 0 0 0 0;\n",
              "      width: 32px;\n",
              "    }\n",
              "\n",
              "    .colab-df-convert:hover {\n",
              "      background-color: #E2EBFA;\n",
              "      box-shadow: 0px 1px 2px rgba(60, 64, 67, 0.3), 0px 1px 3px 1px rgba(60, 64, 67, 0.15);\n",
              "      fill: #174EA6;\n",
              "    }\n",
              "\n",
              "    [theme=dark] .colab-df-convert {\n",
              "      background-color: #3B4455;\n",
              "      fill: #D2E3FC;\n",
              "    }\n",
              "\n",
              "    [theme=dark] .colab-df-convert:hover {\n",
              "      background-color: #434B5C;\n",
              "      box-shadow: 0px 1px 3px 1px rgba(0, 0, 0, 0.15);\n",
              "      filter: drop-shadow(0px 1px 2px rgba(0, 0, 0, 0.3));\n",
              "      fill: #FFFFFF;\n",
              "    }\n",
              "  </style>\n",
              "\n",
              "      <script>\n",
              "        const buttonEl =\n",
              "          document.querySelector('#df-8a0edce4-ff11-464a-9754-decbb064f486 button.colab-df-convert');\n",
              "        buttonEl.style.display =\n",
              "          google.colab.kernel.accessAllowed ? 'block' : 'none';\n",
              "\n",
              "        async function convertToInteractive(key) {\n",
              "          const element = document.querySelector('#df-8a0edce4-ff11-464a-9754-decbb064f486');\n",
              "          const dataTable =\n",
              "            await google.colab.kernel.invokeFunction('convertToInteractive',\n",
              "                                                     [key], {});\n",
              "          if (!dataTable) return;\n",
              "\n",
              "          const docLinkHtml = 'Like what you see? Visit the ' +\n",
              "            '<a target=\"_blank\" href=https://colab.research.google.com/notebooks/data_table.ipynb>data table notebook</a>'\n",
              "            + ' to learn more about interactive tables.';\n",
              "          element.innerHTML = '';\n",
              "          dataTable['output_type'] = 'display_data';\n",
              "          await google.colab.output.renderOutput(dataTable, element);\n",
              "          const docLink = document.createElement('div');\n",
              "          docLink.innerHTML = docLinkHtml;\n",
              "          element.appendChild(docLink);\n",
              "        }\n",
              "      </script>\n",
              "    </div>\n",
              "  </div>\n",
              "  "
            ]
          },
          "metadata": {},
          "execution_count": 74
        }
      ]
    },
    {
      "cell_type": "markdown",
      "source": [
        "## 행 인덱싱\n",
        "* 행과 열의 위치를 뒤바꿔 버립니다"
      ],
      "metadata": {
        "id": "VpMR6AqKW1Ti"
      }
    },
    {
      "cell_type": "code",
      "source": [
        "# 범위로 (:) <- 슬라이싱을 한다\n",
        "df[0:1]\n",
        "# 정수형을 넣게되면 -> 끝점을 제외하고 범위 -> 데이터프레임\n",
        "df['서울':'대전']\n",
        "# 문자열을 넣게되면? -> 라벨 인덱싱 -> 끝점 포함"
      ],
      "metadata": {
        "id": "dl6w7S5_XduK"
      },
      "execution_count": null,
      "outputs": []
    },
    {
      "cell_type": "code",
      "source": [
        "df['서울':'부산']"
      ],
      "metadata": {
        "colab": {
          "base_uri": "https://localhost:8080/",
          "height": 112
        },
        "id": "gNS8Rj1jZENY",
        "outputId": "20bf32e8-f140-4081-9575-28a3d1642067"
      },
      "execution_count": null,
      "outputs": [
        {
          "output_type": "execute_result",
          "data": {
            "text/plain": [
              "     지역     2015     2010     2005     2000  2010-2015 증가율\n",
              "서울  수도권  9904312  9631482  9762546  9853972         0.0283\n",
              "부산  경상권  3448737  3393191  3512547  3655437         0.0163"
            ],
            "text/html": [
              "\n",
              "  <div id=\"df-9eb083e9-07bb-4f59-b520-a2d868142cad\">\n",
              "    <div class=\"colab-df-container\">\n",
              "      <div>\n",
              "<style scoped>\n",
              "    .dataframe tbody tr th:only-of-type {\n",
              "        vertical-align: middle;\n",
              "    }\n",
              "\n",
              "    .dataframe tbody tr th {\n",
              "        vertical-align: top;\n",
              "    }\n",
              "\n",
              "    .dataframe thead th {\n",
              "        text-align: right;\n",
              "    }\n",
              "</style>\n",
              "<table border=\"1\" class=\"dataframe\">\n",
              "  <thead>\n",
              "    <tr style=\"text-align: right;\">\n",
              "      <th></th>\n",
              "      <th>지역</th>\n",
              "      <th>2015</th>\n",
              "      <th>2010</th>\n",
              "      <th>2005</th>\n",
              "      <th>2000</th>\n",
              "      <th>2010-2015 증가율</th>\n",
              "    </tr>\n",
              "  </thead>\n",
              "  <tbody>\n",
              "    <tr>\n",
              "      <th>서울</th>\n",
              "      <td>수도권</td>\n",
              "      <td>9904312</td>\n",
              "      <td>9631482</td>\n",
              "      <td>9762546</td>\n",
              "      <td>9853972</td>\n",
              "      <td>0.0283</td>\n",
              "    </tr>\n",
              "    <tr>\n",
              "      <th>부산</th>\n",
              "      <td>경상권</td>\n",
              "      <td>3448737</td>\n",
              "      <td>3393191</td>\n",
              "      <td>3512547</td>\n",
              "      <td>3655437</td>\n",
              "      <td>0.0163</td>\n",
              "    </tr>\n",
              "  </tbody>\n",
              "</table>\n",
              "</div>\n",
              "      <button class=\"colab-df-convert\" onclick=\"convertToInteractive('df-9eb083e9-07bb-4f59-b520-a2d868142cad')\"\n",
              "              title=\"Convert this dataframe to an interactive table.\"\n",
              "              style=\"display:none;\">\n",
              "        \n",
              "  <svg xmlns=\"http://www.w3.org/2000/svg\" height=\"24px\"viewBox=\"0 0 24 24\"\n",
              "       width=\"24px\">\n",
              "    <path d=\"M0 0h24v24H0V0z\" fill=\"none\"/>\n",
              "    <path d=\"M18.56 5.44l.94 2.06.94-2.06 2.06-.94-2.06-.94-.94-2.06-.94 2.06-2.06.94zm-11 1L8.5 8.5l.94-2.06 2.06-.94-2.06-.94L8.5 2.5l-.94 2.06-2.06.94zm10 10l.94 2.06.94-2.06 2.06-.94-2.06-.94-.94-2.06-.94 2.06-2.06.94z\"/><path d=\"M17.41 7.96l-1.37-1.37c-.4-.4-.92-.59-1.43-.59-.52 0-1.04.2-1.43.59L10.3 9.45l-7.72 7.72c-.78.78-.78 2.05 0 2.83L4 21.41c.39.39.9.59 1.41.59.51 0 1.02-.2 1.41-.59l7.78-7.78 2.81-2.81c.8-.78.8-2.07 0-2.86zM5.41 20L4 18.59l7.72-7.72 1.47 1.35L5.41 20z\"/>\n",
              "  </svg>\n",
              "      </button>\n",
              "      \n",
              "  <style>\n",
              "    .colab-df-container {\n",
              "      display:flex;\n",
              "      flex-wrap:wrap;\n",
              "      gap: 12px;\n",
              "    }\n",
              "\n",
              "    .colab-df-convert {\n",
              "      background-color: #E8F0FE;\n",
              "      border: none;\n",
              "      border-radius: 50%;\n",
              "      cursor: pointer;\n",
              "      display: none;\n",
              "      fill: #1967D2;\n",
              "      height: 32px;\n",
              "      padding: 0 0 0 0;\n",
              "      width: 32px;\n",
              "    }\n",
              "\n",
              "    .colab-df-convert:hover {\n",
              "      background-color: #E2EBFA;\n",
              "      box-shadow: 0px 1px 2px rgba(60, 64, 67, 0.3), 0px 1px 3px 1px rgba(60, 64, 67, 0.15);\n",
              "      fill: #174EA6;\n",
              "    }\n",
              "\n",
              "    [theme=dark] .colab-df-convert {\n",
              "      background-color: #3B4455;\n",
              "      fill: #D2E3FC;\n",
              "    }\n",
              "\n",
              "    [theme=dark] .colab-df-convert:hover {\n",
              "      background-color: #434B5C;\n",
              "      box-shadow: 0px 1px 3px 1px rgba(0, 0, 0, 0.15);\n",
              "      filter: drop-shadow(0px 1px 2px rgba(0, 0, 0, 0.3));\n",
              "      fill: #FFFFFF;\n",
              "    }\n",
              "  </style>\n",
              "\n",
              "      <script>\n",
              "        const buttonEl =\n",
              "          document.querySelector('#df-9eb083e9-07bb-4f59-b520-a2d868142cad button.colab-df-convert');\n",
              "        buttonEl.style.display =\n",
              "          google.colab.kernel.accessAllowed ? 'block' : 'none';\n",
              "\n",
              "        async function convertToInteractive(key) {\n",
              "          const element = document.querySelector('#df-9eb083e9-07bb-4f59-b520-a2d868142cad');\n",
              "          const dataTable =\n",
              "            await google.colab.kernel.invokeFunction('convertToInteractive',\n",
              "                                                     [key], {});\n",
              "          if (!dataTable) return;\n",
              "\n",
              "          const docLinkHtml = 'Like what you see? Visit the ' +\n",
              "            '<a target=\"_blank\" href=https://colab.research.google.com/notebooks/data_table.ipynb>data table notebook</a>'\n",
              "            + ' to learn more about interactive tables.';\n",
              "          element.innerHTML = '';\n",
              "          dataTable['output_type'] = 'display_data';\n",
              "          await google.colab.output.renderOutput(dataTable, element);\n",
              "          const docLink = document.createElement('div');\n",
              "          docLink.innerHTML = docLinkHtml;\n",
              "          element.appendChild(docLink);\n",
              "        }\n",
              "      </script>\n",
              "    </div>\n",
              "  </div>\n",
              "  "
            ]
          },
          "metadata": {},
          "execution_count": 75
        }
      ]
    },
    {
      "cell_type": "code",
      "source": [
        "df['인천':'대구']"
      ],
      "metadata": {
        "colab": {
          "base_uri": "https://localhost:8080/",
          "height": 112
        },
        "id": "oKoeBHKEbBlr",
        "outputId": "2b11d2f3-54a9-4019-b43f-81ff1ab26ccb"
      },
      "execution_count": null,
      "outputs": [
        {
          "output_type": "execute_result",
          "data": {
            "text/plain": [
              "     지역     2015     2010     2005     2000  2010-2015 증가율\n",
              "인천  수도권  2890451  2632035  2517680  2466338         0.0982\n",
              "대구  경상권  2466052  2431774  2456016  2473990         0.0141"
            ],
            "text/html": [
              "\n",
              "  <div id=\"df-7a0be68a-65c3-4afd-b53d-3f8b56fa1188\">\n",
              "    <div class=\"colab-df-container\">\n",
              "      <div>\n",
              "<style scoped>\n",
              "    .dataframe tbody tr th:only-of-type {\n",
              "        vertical-align: middle;\n",
              "    }\n",
              "\n",
              "    .dataframe tbody tr th {\n",
              "        vertical-align: top;\n",
              "    }\n",
              "\n",
              "    .dataframe thead th {\n",
              "        text-align: right;\n",
              "    }\n",
              "</style>\n",
              "<table border=\"1\" class=\"dataframe\">\n",
              "  <thead>\n",
              "    <tr style=\"text-align: right;\">\n",
              "      <th></th>\n",
              "      <th>지역</th>\n",
              "      <th>2015</th>\n",
              "      <th>2010</th>\n",
              "      <th>2005</th>\n",
              "      <th>2000</th>\n",
              "      <th>2010-2015 증가율</th>\n",
              "    </tr>\n",
              "  </thead>\n",
              "  <tbody>\n",
              "    <tr>\n",
              "      <th>인천</th>\n",
              "      <td>수도권</td>\n",
              "      <td>2890451</td>\n",
              "      <td>2632035</td>\n",
              "      <td>2517680</td>\n",
              "      <td>2466338</td>\n",
              "      <td>0.0982</td>\n",
              "    </tr>\n",
              "    <tr>\n",
              "      <th>대구</th>\n",
              "      <td>경상권</td>\n",
              "      <td>2466052</td>\n",
              "      <td>2431774</td>\n",
              "      <td>2456016</td>\n",
              "      <td>2473990</td>\n",
              "      <td>0.0141</td>\n",
              "    </tr>\n",
              "  </tbody>\n",
              "</table>\n",
              "</div>\n",
              "      <button class=\"colab-df-convert\" onclick=\"convertToInteractive('df-7a0be68a-65c3-4afd-b53d-3f8b56fa1188')\"\n",
              "              title=\"Convert this dataframe to an interactive table.\"\n",
              "              style=\"display:none;\">\n",
              "        \n",
              "  <svg xmlns=\"http://www.w3.org/2000/svg\" height=\"24px\"viewBox=\"0 0 24 24\"\n",
              "       width=\"24px\">\n",
              "    <path d=\"M0 0h24v24H0V0z\" fill=\"none\"/>\n",
              "    <path d=\"M18.56 5.44l.94 2.06.94-2.06 2.06-.94-2.06-.94-.94-2.06-.94 2.06-2.06.94zm-11 1L8.5 8.5l.94-2.06 2.06-.94-2.06-.94L8.5 2.5l-.94 2.06-2.06.94zm10 10l.94 2.06.94-2.06 2.06-.94-2.06-.94-.94-2.06-.94 2.06-2.06.94z\"/><path d=\"M17.41 7.96l-1.37-1.37c-.4-.4-.92-.59-1.43-.59-.52 0-1.04.2-1.43.59L10.3 9.45l-7.72 7.72c-.78.78-.78 2.05 0 2.83L4 21.41c.39.39.9.59 1.41.59.51 0 1.02-.2 1.41-.59l7.78-7.78 2.81-2.81c.8-.78.8-2.07 0-2.86zM5.41 20L4 18.59l7.72-7.72 1.47 1.35L5.41 20z\"/>\n",
              "  </svg>\n",
              "      </button>\n",
              "      \n",
              "  <style>\n",
              "    .colab-df-container {\n",
              "      display:flex;\n",
              "      flex-wrap:wrap;\n",
              "      gap: 12px;\n",
              "    }\n",
              "\n",
              "    .colab-df-convert {\n",
              "      background-color: #E8F0FE;\n",
              "      border: none;\n",
              "      border-radius: 50%;\n",
              "      cursor: pointer;\n",
              "      display: none;\n",
              "      fill: #1967D2;\n",
              "      height: 32px;\n",
              "      padding: 0 0 0 0;\n",
              "      width: 32px;\n",
              "    }\n",
              "\n",
              "    .colab-df-convert:hover {\n",
              "      background-color: #E2EBFA;\n",
              "      box-shadow: 0px 1px 2px rgba(60, 64, 67, 0.3), 0px 1px 3px 1px rgba(60, 64, 67, 0.15);\n",
              "      fill: #174EA6;\n",
              "    }\n",
              "\n",
              "    [theme=dark] .colab-df-convert {\n",
              "      background-color: #3B4455;\n",
              "      fill: #D2E3FC;\n",
              "    }\n",
              "\n",
              "    [theme=dark] .colab-df-convert:hover {\n",
              "      background-color: #434B5C;\n",
              "      box-shadow: 0px 1px 3px 1px rgba(0, 0, 0, 0.15);\n",
              "      filter: drop-shadow(0px 1px 2px rgba(0, 0, 0, 0.3));\n",
              "      fill: #FFFFFF;\n",
              "    }\n",
              "  </style>\n",
              "\n",
              "      <script>\n",
              "        const buttonEl =\n",
              "          document.querySelector('#df-7a0be68a-65c3-4afd-b53d-3f8b56fa1188 button.colab-df-convert');\n",
              "        buttonEl.style.display =\n",
              "          google.colab.kernel.accessAllowed ? 'block' : 'none';\n",
              "\n",
              "        async function convertToInteractive(key) {\n",
              "          const element = document.querySelector('#df-7a0be68a-65c3-4afd-b53d-3f8b56fa1188');\n",
              "          const dataTable =\n",
              "            await google.colab.kernel.invokeFunction('convertToInteractive',\n",
              "                                                     [key], {});\n",
              "          if (!dataTable) return;\n",
              "\n",
              "          const docLinkHtml = 'Like what you see? Visit the ' +\n",
              "            '<a target=\"_blank\" href=https://colab.research.google.com/notebooks/data_table.ipynb>data table notebook</a>'\n",
              "            + ' to learn more about interactive tables.';\n",
              "          element.innerHTML = '';\n",
              "          dataTable['output_type'] = 'display_data';\n",
              "          await google.colab.output.renderOutput(dataTable, element);\n",
              "          const docLink = document.createElement('div');\n",
              "          docLink.innerHTML = docLinkHtml;\n",
              "          element.appendChild(docLink);\n",
              "        }\n",
              "      </script>\n",
              "    </div>\n",
              "  </div>\n",
              "  "
            ]
          },
          "metadata": {},
          "execution_count": 77
        }
      ]
    },
    {
      "cell_type": "markdown",
      "source": [
        "## 개별 인덱싱"
      ],
      "metadata": {
        "id": "NzCNI-TyX6NQ"
      }
    },
    {
      "cell_type": "code",
      "source": [
        "df['열이름'] # 시리즈\n",
        "df['열이름']['행이름'] # 개별값"
      ],
      "metadata": {
        "colab": {
          "base_uri": "https://localhost:8080/",
          "height": 516
        },
        "id": "mF4_ujdRX-xf",
        "outputId": "e83e4026-5219-46d6-82bd-776239f97dc3"
      },
      "execution_count": null,
      "outputs": [
        {
          "output_type": "error",
          "ename": "KeyError",
          "evalue": "ignored",
          "traceback": [
            "\u001b[0;31m---------------------------------------------------------------------------\u001b[0m",
            "\u001b[0;31mKeyError\u001b[0m                                  Traceback (most recent call last)",
            "\u001b[0;32m/usr/local/lib/python3.8/dist-packages/pandas/core/indexes/base.py\u001b[0m in \u001b[0;36mget_loc\u001b[0;34m(self, key, method, tolerance)\u001b[0m\n\u001b[1;32m   3360\u001b[0m             \u001b[0;32mtry\u001b[0m\u001b[0;34m:\u001b[0m\u001b[0;34m\u001b[0m\u001b[0;34m\u001b[0m\u001b[0m\n\u001b[0;32m-> 3361\u001b[0;31m                 \u001b[0;32mreturn\u001b[0m \u001b[0mself\u001b[0m\u001b[0;34m.\u001b[0m\u001b[0m_engine\u001b[0m\u001b[0;34m.\u001b[0m\u001b[0mget_loc\u001b[0m\u001b[0;34m(\u001b[0m\u001b[0mcasted_key\u001b[0m\u001b[0;34m)\u001b[0m\u001b[0;34m\u001b[0m\u001b[0;34m\u001b[0m\u001b[0m\n\u001b[0m\u001b[1;32m   3362\u001b[0m             \u001b[0;32mexcept\u001b[0m \u001b[0mKeyError\u001b[0m \u001b[0;32mas\u001b[0m \u001b[0merr\u001b[0m\u001b[0;34m:\u001b[0m\u001b[0;34m\u001b[0m\u001b[0;34m\u001b[0m\u001b[0m\n",
            "\u001b[0;32m/usr/local/lib/python3.8/dist-packages/pandas/_libs/index.pyx\u001b[0m in \u001b[0;36mpandas._libs.index.IndexEngine.get_loc\u001b[0;34m()\u001b[0m\n",
            "\u001b[0;32m/usr/local/lib/python3.8/dist-packages/pandas/_libs/index.pyx\u001b[0m in \u001b[0;36mpandas._libs.index.IndexEngine.get_loc\u001b[0;34m()\u001b[0m\n",
            "\u001b[0;32mpandas/_libs/hashtable_class_helper.pxi\u001b[0m in \u001b[0;36mpandas._libs.hashtable.PyObjectHashTable.get_item\u001b[0;34m()\u001b[0m\n",
            "\u001b[0;32mpandas/_libs/hashtable_class_helper.pxi\u001b[0m in \u001b[0;36mpandas._libs.hashtable.PyObjectHashTable.get_item\u001b[0;34m()\u001b[0m\n",
            "\u001b[0;31mKeyError\u001b[0m: '열이름'",
            "\nThe above exception was the direct cause of the following exception:\n",
            "\u001b[0;31mKeyError\u001b[0m                                  Traceback (most recent call last)",
            "\u001b[0;32m<ipython-input-84-0a41b7ea3bcc>\u001b[0m in \u001b[0;36m<module>\u001b[0;34m\u001b[0m\n\u001b[0;32m----> 1\u001b[0;31m \u001b[0mdf\u001b[0m\u001b[0;34m[\u001b[0m\u001b[0;34m'열이름'\u001b[0m\u001b[0;34m]\u001b[0m \u001b[0;31m# 시리즈\u001b[0m\u001b[0;34m\u001b[0m\u001b[0;34m\u001b[0m\u001b[0m\n\u001b[0m\u001b[1;32m      2\u001b[0m \u001b[0mdf\u001b[0m\u001b[0;34m[\u001b[0m\u001b[0;34m'열이름'\u001b[0m\u001b[0;34m]\u001b[0m\u001b[0;34m[\u001b[0m\u001b[0;34m'행이름'\u001b[0m\u001b[0;34m]\u001b[0m \u001b[0;31m# 개별값\u001b[0m\u001b[0;34m\u001b[0m\u001b[0;34m\u001b[0m\u001b[0m\n",
            "\u001b[0;32m/usr/local/lib/python3.8/dist-packages/pandas/core/frame.py\u001b[0m in \u001b[0;36m__getitem__\u001b[0;34m(self, key)\u001b[0m\n\u001b[1;32m   3456\u001b[0m             \u001b[0;32mif\u001b[0m \u001b[0mself\u001b[0m\u001b[0;34m.\u001b[0m\u001b[0mcolumns\u001b[0m\u001b[0;34m.\u001b[0m\u001b[0mnlevels\u001b[0m \u001b[0;34m>\u001b[0m \u001b[0;36m1\u001b[0m\u001b[0;34m:\u001b[0m\u001b[0;34m\u001b[0m\u001b[0;34m\u001b[0m\u001b[0m\n\u001b[1;32m   3457\u001b[0m                 \u001b[0;32mreturn\u001b[0m \u001b[0mself\u001b[0m\u001b[0;34m.\u001b[0m\u001b[0m_getitem_multilevel\u001b[0m\u001b[0;34m(\u001b[0m\u001b[0mkey\u001b[0m\u001b[0;34m)\u001b[0m\u001b[0;34m\u001b[0m\u001b[0;34m\u001b[0m\u001b[0m\n\u001b[0;32m-> 3458\u001b[0;31m             \u001b[0mindexer\u001b[0m \u001b[0;34m=\u001b[0m \u001b[0mself\u001b[0m\u001b[0;34m.\u001b[0m\u001b[0mcolumns\u001b[0m\u001b[0;34m.\u001b[0m\u001b[0mget_loc\u001b[0m\u001b[0;34m(\u001b[0m\u001b[0mkey\u001b[0m\u001b[0;34m)\u001b[0m\u001b[0;34m\u001b[0m\u001b[0;34m\u001b[0m\u001b[0m\n\u001b[0m\u001b[1;32m   3459\u001b[0m             \u001b[0;32mif\u001b[0m \u001b[0mis_integer\u001b[0m\u001b[0;34m(\u001b[0m\u001b[0mindexer\u001b[0m\u001b[0;34m)\u001b[0m\u001b[0;34m:\u001b[0m\u001b[0;34m\u001b[0m\u001b[0;34m\u001b[0m\u001b[0m\n\u001b[1;32m   3460\u001b[0m                 \u001b[0mindexer\u001b[0m \u001b[0;34m=\u001b[0m \u001b[0;34m[\u001b[0m\u001b[0mindexer\u001b[0m\u001b[0;34m]\u001b[0m\u001b[0;34m\u001b[0m\u001b[0;34m\u001b[0m\u001b[0m\n",
            "\u001b[0;32m/usr/local/lib/python3.8/dist-packages/pandas/core/indexes/base.py\u001b[0m in \u001b[0;36mget_loc\u001b[0;34m(self, key, method, tolerance)\u001b[0m\n\u001b[1;32m   3361\u001b[0m                 \u001b[0;32mreturn\u001b[0m \u001b[0mself\u001b[0m\u001b[0;34m.\u001b[0m\u001b[0m_engine\u001b[0m\u001b[0;34m.\u001b[0m\u001b[0mget_loc\u001b[0m\u001b[0;34m(\u001b[0m\u001b[0mcasted_key\u001b[0m\u001b[0;34m)\u001b[0m\u001b[0;34m\u001b[0m\u001b[0;34m\u001b[0m\u001b[0m\n\u001b[1;32m   3362\u001b[0m             \u001b[0;32mexcept\u001b[0m \u001b[0mKeyError\u001b[0m \u001b[0;32mas\u001b[0m \u001b[0merr\u001b[0m\u001b[0;34m:\u001b[0m\u001b[0;34m\u001b[0m\u001b[0;34m\u001b[0m\u001b[0m\n\u001b[0;32m-> 3363\u001b[0;31m                 \u001b[0;32mraise\u001b[0m \u001b[0mKeyError\u001b[0m\u001b[0;34m(\u001b[0m\u001b[0mkey\u001b[0m\u001b[0;34m)\u001b[0m \u001b[0;32mfrom\u001b[0m \u001b[0merr\u001b[0m\u001b[0;34m\u001b[0m\u001b[0;34m\u001b[0m\u001b[0m\n\u001b[0m\u001b[1;32m   3364\u001b[0m \u001b[0;34m\u001b[0m\u001b[0m\n\u001b[1;32m   3365\u001b[0m         \u001b[0;32mif\u001b[0m \u001b[0mis_scalar\u001b[0m\u001b[0;34m(\u001b[0m\u001b[0mkey\u001b[0m\u001b[0;34m)\u001b[0m \u001b[0;32mand\u001b[0m \u001b[0misna\u001b[0m\u001b[0;34m(\u001b[0m\u001b[0mkey\u001b[0m\u001b[0;34m)\u001b[0m \u001b[0;32mand\u001b[0m \u001b[0;32mnot\u001b[0m \u001b[0mself\u001b[0m\u001b[0;34m.\u001b[0m\u001b[0mhasnans\u001b[0m\u001b[0;34m:\u001b[0m\u001b[0;34m\u001b[0m\u001b[0;34m\u001b[0m\u001b[0m\n",
            "\u001b[0;31mKeyError\u001b[0m: '열이름'"
          ]
        }
      ]
    },
    {
      "cell_type": "code",
      "source": [
        "df['2000']['서울']"
      ],
      "metadata": {
        "colab": {
          "base_uri": "https://localhost:8080/"
        },
        "id": "ubZpUEbcbS5w",
        "outputId": "04c5d88e-bb42-4d12-9f5c-7b513b03cdda"
      },
      "execution_count": null,
      "outputs": [
        {
          "output_type": "execute_result",
          "data": {
            "text/plain": [
              "9853972"
            ]
          },
          "metadata": {},
          "execution_count": 83
        }
      ]
    },
    {
      "cell_type": "markdown",
      "source": [
        "## 데이터 입출력\n",
        "\n",
        "✋(자주 안쓴다고 함)\n",
        "* 데이터 → pandas → 표 형태의 데이터\n",
        "* csv - excel과 유사해보입니다. 엑셀은 서식(폰트, 꾸미기) 등이 존재해서 속도가 느리고 용량이 큽니다.\n",
        "* 하지만 csv는 핵심만 남겨서 데이터 자체와 데이터를 구분해주는 콤마 만 가지고 데이터를 구분해줍니다.\n",
        "* 용어 : comma seperated value"
      ],
      "metadata": {
        "id": "zXfvEJKZX_xK"
      }
    },
    {
      "cell_type": "code",
      "source": [
        "read_xxx / to_xxx"
      ],
      "metadata": {
        "colab": {
          "base_uri": "https://localhost:8080/",
          "height": 171
        },
        "id": "ImL-1ccVe6Y_",
        "outputId": "3493bf0c-1bdc-4273-ca2a-23531e857ff2"
      },
      "execution_count": null,
      "outputs": [
        {
          "output_type": "error",
          "ename": "NameError",
          "evalue": "ignored",
          "traceback": [
            "\u001b[0;31m---------------------------------------------------------------------------\u001b[0m",
            "\u001b[0;31mNameError\u001b[0m                                 Traceback (most recent call last)",
            "\u001b[0;32m<ipython-input-85-629ab603991c>\u001b[0m in \u001b[0;36m<module>\u001b[0;34m\u001b[0m\n\u001b[0;32m----> 1\u001b[0;31m \u001b[0mread_xxx\u001b[0m \u001b[0;34m/\u001b[0m \u001b[0mto_xxx\u001b[0m\u001b[0;34m\u001b[0m\u001b[0;34m\u001b[0m\u001b[0m\n\u001b[0m",
            "\u001b[0;31mNameError\u001b[0m: name 'read_xxx' is not defined"
          ]
        }
      ]
    },
    {
      "cell_type": "code",
      "source": [
        "pd.read_csv(\"파일이름\") # 경로, url"
      ],
      "metadata": {
        "colab": {
          "base_uri": "https://localhost:8080/",
          "height": 338
        },
        "id": "Kyz0r-sLfYjX",
        "outputId": "6e666104-0360-4ac2-c992-dd745e82486c"
      },
      "execution_count": null,
      "outputs": [
        {
          "output_type": "error",
          "ename": "FileNotFoundError",
          "evalue": "ignored",
          "traceback": [
            "\u001b[0;31m---------------------------------------------------------------------------\u001b[0m",
            "\u001b[0;31mFileNotFoundError\u001b[0m                         Traceback (most recent call last)",
            "\u001b[0;32m<ipython-input-86-6f72bcf46800>\u001b[0m in \u001b[0;36m<module>\u001b[0;34m\u001b[0m\n\u001b[0;32m----> 1\u001b[0;31m \u001b[0mpd\u001b[0m\u001b[0;34m.\u001b[0m\u001b[0mread_csv\u001b[0m\u001b[0;34m(\u001b[0m\u001b[0;34m\"파일이름\"\u001b[0m\u001b[0;34m)\u001b[0m \u001b[0;31m# 경로, url\u001b[0m\u001b[0;34m\u001b[0m\u001b[0;34m\u001b[0m\u001b[0m\n\u001b[0m",
            "\u001b[0;32m/usr/local/lib/python3.8/dist-packages/pandas/util/_decorators.py\u001b[0m in \u001b[0;36mwrapper\u001b[0;34m(*args, **kwargs)\u001b[0m\n\u001b[1;32m    309\u001b[0m                     \u001b[0mstacklevel\u001b[0m\u001b[0;34m=\u001b[0m\u001b[0mstacklevel\u001b[0m\u001b[0;34m,\u001b[0m\u001b[0;34m\u001b[0m\u001b[0;34m\u001b[0m\u001b[0m\n\u001b[1;32m    310\u001b[0m                 )\n\u001b[0;32m--> 311\u001b[0;31m             \u001b[0;32mreturn\u001b[0m \u001b[0mfunc\u001b[0m\u001b[0;34m(\u001b[0m\u001b[0;34m*\u001b[0m\u001b[0margs\u001b[0m\u001b[0;34m,\u001b[0m \u001b[0;34m**\u001b[0m\u001b[0mkwargs\u001b[0m\u001b[0;34m)\u001b[0m\u001b[0;34m\u001b[0m\u001b[0;34m\u001b[0m\u001b[0m\n\u001b[0m\u001b[1;32m    312\u001b[0m \u001b[0;34m\u001b[0m\u001b[0m\n\u001b[1;32m    313\u001b[0m         \u001b[0;32mreturn\u001b[0m \u001b[0mwrapper\u001b[0m\u001b[0;34m\u001b[0m\u001b[0;34m\u001b[0m\u001b[0m\n",
            "\u001b[0;32m/usr/local/lib/python3.8/dist-packages/pandas/io/parsers/readers.py\u001b[0m in \u001b[0;36mread_csv\u001b[0;34m(filepath_or_buffer, sep, delimiter, header, names, index_col, usecols, squeeze, prefix, mangle_dupe_cols, dtype, engine, converters, true_values, false_values, skipinitialspace, skiprows, skipfooter, nrows, na_values, keep_default_na, na_filter, verbose, skip_blank_lines, parse_dates, infer_datetime_format, keep_date_col, date_parser, dayfirst, cache_dates, iterator, chunksize, compression, thousands, decimal, lineterminator, quotechar, quoting, doublequote, escapechar, comment, encoding, encoding_errors, dialect, error_bad_lines, warn_bad_lines, on_bad_lines, delim_whitespace, low_memory, memory_map, float_precision, storage_options)\u001b[0m\n\u001b[1;32m    584\u001b[0m     \u001b[0mkwds\u001b[0m\u001b[0;34m.\u001b[0m\u001b[0mupdate\u001b[0m\u001b[0;34m(\u001b[0m\u001b[0mkwds_defaults\u001b[0m\u001b[0;34m)\u001b[0m\u001b[0;34m\u001b[0m\u001b[0;34m\u001b[0m\u001b[0m\n\u001b[1;32m    585\u001b[0m \u001b[0;34m\u001b[0m\u001b[0m\n\u001b[0;32m--> 586\u001b[0;31m     \u001b[0;32mreturn\u001b[0m \u001b[0m_read\u001b[0m\u001b[0;34m(\u001b[0m\u001b[0mfilepath_or_buffer\u001b[0m\u001b[0;34m,\u001b[0m \u001b[0mkwds\u001b[0m\u001b[0;34m)\u001b[0m\u001b[0;34m\u001b[0m\u001b[0;34m\u001b[0m\u001b[0m\n\u001b[0m\u001b[1;32m    587\u001b[0m \u001b[0;34m\u001b[0m\u001b[0m\n\u001b[1;32m    588\u001b[0m \u001b[0;34m\u001b[0m\u001b[0m\n",
            "\u001b[0;32m/usr/local/lib/python3.8/dist-packages/pandas/io/parsers/readers.py\u001b[0m in \u001b[0;36m_read\u001b[0;34m(filepath_or_buffer, kwds)\u001b[0m\n\u001b[1;32m    480\u001b[0m \u001b[0;34m\u001b[0m\u001b[0m\n\u001b[1;32m    481\u001b[0m     \u001b[0;31m# Create the parser.\u001b[0m\u001b[0;34m\u001b[0m\u001b[0;34m\u001b[0m\u001b[0;34m\u001b[0m\u001b[0m\n\u001b[0;32m--> 482\u001b[0;31m     \u001b[0mparser\u001b[0m \u001b[0;34m=\u001b[0m \u001b[0mTextFileReader\u001b[0m\u001b[0;34m(\u001b[0m\u001b[0mfilepath_or_buffer\u001b[0m\u001b[0;34m,\u001b[0m \u001b[0;34m**\u001b[0m\u001b[0mkwds\u001b[0m\u001b[0;34m)\u001b[0m\u001b[0;34m\u001b[0m\u001b[0;34m\u001b[0m\u001b[0m\n\u001b[0m\u001b[1;32m    483\u001b[0m \u001b[0;34m\u001b[0m\u001b[0m\n\u001b[1;32m    484\u001b[0m     \u001b[0;32mif\u001b[0m \u001b[0mchunksize\u001b[0m \u001b[0;32mor\u001b[0m \u001b[0miterator\u001b[0m\u001b[0;34m:\u001b[0m\u001b[0;34m\u001b[0m\u001b[0;34m\u001b[0m\u001b[0m\n",
            "\u001b[0;32m/usr/local/lib/python3.8/dist-packages/pandas/io/parsers/readers.py\u001b[0m in \u001b[0;36m__init__\u001b[0;34m(self, f, engine, **kwds)\u001b[0m\n\u001b[1;32m    809\u001b[0m             \u001b[0mself\u001b[0m\u001b[0;34m.\u001b[0m\u001b[0moptions\u001b[0m\u001b[0;34m[\u001b[0m\u001b[0;34m\"has_index_names\"\u001b[0m\u001b[0;34m]\u001b[0m \u001b[0;34m=\u001b[0m \u001b[0mkwds\u001b[0m\u001b[0;34m[\u001b[0m\u001b[0;34m\"has_index_names\"\u001b[0m\u001b[0;34m]\u001b[0m\u001b[0;34m\u001b[0m\u001b[0;34m\u001b[0m\u001b[0m\n\u001b[1;32m    810\u001b[0m \u001b[0;34m\u001b[0m\u001b[0m\n\u001b[0;32m--> 811\u001b[0;31m         \u001b[0mself\u001b[0m\u001b[0;34m.\u001b[0m\u001b[0m_engine\u001b[0m \u001b[0;34m=\u001b[0m \u001b[0mself\u001b[0m\u001b[0;34m.\u001b[0m\u001b[0m_make_engine\u001b[0m\u001b[0;34m(\u001b[0m\u001b[0mself\u001b[0m\u001b[0;34m.\u001b[0m\u001b[0mengine\u001b[0m\u001b[0;34m)\u001b[0m\u001b[0;34m\u001b[0m\u001b[0;34m\u001b[0m\u001b[0m\n\u001b[0m\u001b[1;32m    812\u001b[0m \u001b[0;34m\u001b[0m\u001b[0m\n\u001b[1;32m    813\u001b[0m     \u001b[0;32mdef\u001b[0m \u001b[0mclose\u001b[0m\u001b[0;34m(\u001b[0m\u001b[0mself\u001b[0m\u001b[0;34m)\u001b[0m\u001b[0;34m:\u001b[0m\u001b[0;34m\u001b[0m\u001b[0;34m\u001b[0m\u001b[0m\n",
            "\u001b[0;32m/usr/local/lib/python3.8/dist-packages/pandas/io/parsers/readers.py\u001b[0m in \u001b[0;36m_make_engine\u001b[0;34m(self, engine)\u001b[0m\n\u001b[1;32m   1038\u001b[0m             )\n\u001b[1;32m   1039\u001b[0m         \u001b[0;31m# error: Too many arguments for \"ParserBase\"\u001b[0m\u001b[0;34m\u001b[0m\u001b[0;34m\u001b[0m\u001b[0;34m\u001b[0m\u001b[0m\n\u001b[0;32m-> 1040\u001b[0;31m         \u001b[0;32mreturn\u001b[0m \u001b[0mmapping\u001b[0m\u001b[0;34m[\u001b[0m\u001b[0mengine\u001b[0m\u001b[0;34m]\u001b[0m\u001b[0;34m(\u001b[0m\u001b[0mself\u001b[0m\u001b[0;34m.\u001b[0m\u001b[0mf\u001b[0m\u001b[0;34m,\u001b[0m \u001b[0;34m**\u001b[0m\u001b[0mself\u001b[0m\u001b[0;34m.\u001b[0m\u001b[0moptions\u001b[0m\u001b[0;34m)\u001b[0m  \u001b[0;31m# type: ignore[call-arg]\u001b[0m\u001b[0;34m\u001b[0m\u001b[0;34m\u001b[0m\u001b[0m\n\u001b[0m\u001b[1;32m   1041\u001b[0m \u001b[0;34m\u001b[0m\u001b[0m\n\u001b[1;32m   1042\u001b[0m     \u001b[0;32mdef\u001b[0m \u001b[0m_failover_to_python\u001b[0m\u001b[0;34m(\u001b[0m\u001b[0mself\u001b[0m\u001b[0;34m)\u001b[0m\u001b[0;34m:\u001b[0m\u001b[0;34m\u001b[0m\u001b[0;34m\u001b[0m\u001b[0m\n",
            "\u001b[0;32m/usr/local/lib/python3.8/dist-packages/pandas/io/parsers/c_parser_wrapper.py\u001b[0m in \u001b[0;36m__init__\u001b[0;34m(self, src, **kwds)\u001b[0m\n\u001b[1;32m     49\u001b[0m \u001b[0;34m\u001b[0m\u001b[0m\n\u001b[1;32m     50\u001b[0m         \u001b[0;31m# open handles\u001b[0m\u001b[0;34m\u001b[0m\u001b[0;34m\u001b[0m\u001b[0;34m\u001b[0m\u001b[0m\n\u001b[0;32m---> 51\u001b[0;31m         \u001b[0mself\u001b[0m\u001b[0;34m.\u001b[0m\u001b[0m_open_handles\u001b[0m\u001b[0;34m(\u001b[0m\u001b[0msrc\u001b[0m\u001b[0;34m,\u001b[0m \u001b[0mkwds\u001b[0m\u001b[0;34m)\u001b[0m\u001b[0;34m\u001b[0m\u001b[0;34m\u001b[0m\u001b[0m\n\u001b[0m\u001b[1;32m     52\u001b[0m         \u001b[0;32massert\u001b[0m \u001b[0mself\u001b[0m\u001b[0;34m.\u001b[0m\u001b[0mhandles\u001b[0m \u001b[0;32mis\u001b[0m \u001b[0;32mnot\u001b[0m \u001b[0;32mNone\u001b[0m\u001b[0;34m\u001b[0m\u001b[0;34m\u001b[0m\u001b[0m\n\u001b[1;32m     53\u001b[0m \u001b[0;34m\u001b[0m\u001b[0m\n",
            "\u001b[0;32m/usr/local/lib/python3.8/dist-packages/pandas/io/parsers/base_parser.py\u001b[0m in \u001b[0;36m_open_handles\u001b[0;34m(self, src, kwds)\u001b[0m\n\u001b[1;32m    220\u001b[0m         \u001b[0mLet\u001b[0m \u001b[0mthe\u001b[0m \u001b[0mreaders\u001b[0m \u001b[0mopen\u001b[0m \u001b[0mIOHandles\u001b[0m \u001b[0mafter\u001b[0m \u001b[0mthey\u001b[0m \u001b[0mare\u001b[0m \u001b[0mdone\u001b[0m \u001b[0;32mwith\u001b[0m \u001b[0mtheir\u001b[0m \u001b[0mpotential\u001b[0m \u001b[0mraises\u001b[0m\u001b[0;34m.\u001b[0m\u001b[0;34m\u001b[0m\u001b[0;34m\u001b[0m\u001b[0m\n\u001b[1;32m    221\u001b[0m         \"\"\"\n\u001b[0;32m--> 222\u001b[0;31m         self.handles = get_handle(\n\u001b[0m\u001b[1;32m    223\u001b[0m             \u001b[0msrc\u001b[0m\u001b[0;34m,\u001b[0m\u001b[0;34m\u001b[0m\u001b[0;34m\u001b[0m\u001b[0m\n\u001b[1;32m    224\u001b[0m             \u001b[0;34m\"r\"\u001b[0m\u001b[0;34m,\u001b[0m\u001b[0;34m\u001b[0m\u001b[0;34m\u001b[0m\u001b[0m\n",
            "\u001b[0;32m/usr/local/lib/python3.8/dist-packages/pandas/io/common.py\u001b[0m in \u001b[0;36mget_handle\u001b[0;34m(path_or_buf, mode, encoding, compression, memory_map, is_text, errors, storage_options)\u001b[0m\n\u001b[1;32m    700\u001b[0m         \u001b[0;32mif\u001b[0m \u001b[0mioargs\u001b[0m\u001b[0;34m.\u001b[0m\u001b[0mencoding\u001b[0m \u001b[0;32mand\u001b[0m \u001b[0;34m\"b\"\u001b[0m \u001b[0;32mnot\u001b[0m \u001b[0;32min\u001b[0m \u001b[0mioargs\u001b[0m\u001b[0;34m.\u001b[0m\u001b[0mmode\u001b[0m\u001b[0;34m:\u001b[0m\u001b[0;34m\u001b[0m\u001b[0;34m\u001b[0m\u001b[0m\n\u001b[1;32m    701\u001b[0m             \u001b[0;31m# Encoding\u001b[0m\u001b[0;34m\u001b[0m\u001b[0;34m\u001b[0m\u001b[0;34m\u001b[0m\u001b[0m\n\u001b[0;32m--> 702\u001b[0;31m             handle = open(\n\u001b[0m\u001b[1;32m    703\u001b[0m                 \u001b[0mhandle\u001b[0m\u001b[0;34m,\u001b[0m\u001b[0;34m\u001b[0m\u001b[0;34m\u001b[0m\u001b[0m\n\u001b[1;32m    704\u001b[0m                 \u001b[0mioargs\u001b[0m\u001b[0;34m.\u001b[0m\u001b[0mmode\u001b[0m\u001b[0;34m,\u001b[0m\u001b[0;34m\u001b[0m\u001b[0;34m\u001b[0m\u001b[0m\n",
            "\u001b[0;31mFileNotFoundError\u001b[0m: [Errno 2] No such file or directory: '파일이름'"
          ]
        }
      ]
    },
    {
      "cell_type": "code",
      "source": [
        "pd.read_excel(...) / pd.to_excel(...)"
      ],
      "metadata": {
        "colab": {
          "base_uri": "https://localhost:8080/",
          "height": 338
        },
        "id": "hDajuicWfbfu",
        "outputId": "1c518895-9c97-4c74-c75c-921a7465a90a"
      },
      "execution_count": null,
      "outputs": [
        {
          "output_type": "error",
          "ename": "ValueError",
          "evalue": "ignored",
          "traceback": [
            "\u001b[0;31m---------------------------------------------------------------------------\u001b[0m",
            "\u001b[0;31mValueError\u001b[0m                                Traceback (most recent call last)",
            "\u001b[0;32m<ipython-input-87-03528cb9c571>\u001b[0m in \u001b[0;36m<module>\u001b[0;34m\u001b[0m\n\u001b[0;32m----> 1\u001b[0;31m \u001b[0mpd\u001b[0m\u001b[0;34m.\u001b[0m\u001b[0mread_excel\u001b[0m\u001b[0;34m(\u001b[0m\u001b[0;34m...\u001b[0m\u001b[0;34m)\u001b[0m \u001b[0;34m/\u001b[0m \u001b[0mpd\u001b[0m\u001b[0;34m.\u001b[0m\u001b[0mto_excel\u001b[0m\u001b[0;34m(\u001b[0m\u001b[0;34m...\u001b[0m\u001b[0;34m)\u001b[0m\u001b[0;34m\u001b[0m\u001b[0;34m\u001b[0m\u001b[0m\n\u001b[0m",
            "\u001b[0;32m/usr/local/lib/python3.8/dist-packages/pandas/util/_decorators.py\u001b[0m in \u001b[0;36mwrapper\u001b[0;34m(*args, **kwargs)\u001b[0m\n\u001b[1;32m    309\u001b[0m                     \u001b[0mstacklevel\u001b[0m\u001b[0;34m=\u001b[0m\u001b[0mstacklevel\u001b[0m\u001b[0;34m,\u001b[0m\u001b[0;34m\u001b[0m\u001b[0;34m\u001b[0m\u001b[0m\n\u001b[1;32m    310\u001b[0m                 )\n\u001b[0;32m--> 311\u001b[0;31m             \u001b[0;32mreturn\u001b[0m \u001b[0mfunc\u001b[0m\u001b[0;34m(\u001b[0m\u001b[0;34m*\u001b[0m\u001b[0margs\u001b[0m\u001b[0;34m,\u001b[0m \u001b[0;34m**\u001b[0m\u001b[0mkwargs\u001b[0m\u001b[0;34m)\u001b[0m\u001b[0;34m\u001b[0m\u001b[0;34m\u001b[0m\u001b[0m\n\u001b[0m\u001b[1;32m    312\u001b[0m \u001b[0;34m\u001b[0m\u001b[0m\n\u001b[1;32m    313\u001b[0m         \u001b[0;32mreturn\u001b[0m \u001b[0mwrapper\u001b[0m\u001b[0;34m\u001b[0m\u001b[0;34m\u001b[0m\u001b[0m\n",
            "\u001b[0;32m/usr/local/lib/python3.8/dist-packages/pandas/io/excel/_base.py\u001b[0m in \u001b[0;36mread_excel\u001b[0;34m(io, sheet_name, header, names, index_col, usecols, squeeze, dtype, engine, converters, true_values, false_values, skiprows, nrows, na_values, keep_default_na, na_filter, verbose, parse_dates, date_parser, thousands, comment, skipfooter, convert_float, mangle_dupe_cols, storage_options)\u001b[0m\n\u001b[1;32m    362\u001b[0m     \u001b[0;32mif\u001b[0m \u001b[0;32mnot\u001b[0m \u001b[0misinstance\u001b[0m\u001b[0;34m(\u001b[0m\u001b[0mio\u001b[0m\u001b[0;34m,\u001b[0m \u001b[0mExcelFile\u001b[0m\u001b[0;34m)\u001b[0m\u001b[0;34m:\u001b[0m\u001b[0;34m\u001b[0m\u001b[0;34m\u001b[0m\u001b[0m\n\u001b[1;32m    363\u001b[0m         \u001b[0mshould_close\u001b[0m \u001b[0;34m=\u001b[0m \u001b[0;32mTrue\u001b[0m\u001b[0;34m\u001b[0m\u001b[0;34m\u001b[0m\u001b[0m\n\u001b[0;32m--> 364\u001b[0;31m         \u001b[0mio\u001b[0m \u001b[0;34m=\u001b[0m \u001b[0mExcelFile\u001b[0m\u001b[0;34m(\u001b[0m\u001b[0mio\u001b[0m\u001b[0;34m,\u001b[0m \u001b[0mstorage_options\u001b[0m\u001b[0;34m=\u001b[0m\u001b[0mstorage_options\u001b[0m\u001b[0;34m,\u001b[0m \u001b[0mengine\u001b[0m\u001b[0;34m=\u001b[0m\u001b[0mengine\u001b[0m\u001b[0;34m)\u001b[0m\u001b[0;34m\u001b[0m\u001b[0;34m\u001b[0m\u001b[0m\n\u001b[0m\u001b[1;32m    365\u001b[0m     \u001b[0;32melif\u001b[0m \u001b[0mengine\u001b[0m \u001b[0;32mand\u001b[0m \u001b[0mengine\u001b[0m \u001b[0;34m!=\u001b[0m \u001b[0mio\u001b[0m\u001b[0;34m.\u001b[0m\u001b[0mengine\u001b[0m\u001b[0;34m:\u001b[0m\u001b[0;34m\u001b[0m\u001b[0;34m\u001b[0m\u001b[0m\n\u001b[1;32m    366\u001b[0m         raise ValueError(\n",
            "\u001b[0;32m/usr/local/lib/python3.8/dist-packages/pandas/io/excel/_base.py\u001b[0m in \u001b[0;36m__init__\u001b[0;34m(self, path_or_buffer, engine, storage_options)\u001b[0m\n\u001b[1;32m   1189\u001b[0m                 \u001b[0mext\u001b[0m \u001b[0;34m=\u001b[0m \u001b[0;34m\"xls\"\u001b[0m\u001b[0;34m\u001b[0m\u001b[0;34m\u001b[0m\u001b[0m\n\u001b[1;32m   1190\u001b[0m             \u001b[0;32melse\u001b[0m\u001b[0;34m:\u001b[0m\u001b[0;34m\u001b[0m\u001b[0;34m\u001b[0m\u001b[0m\n\u001b[0;32m-> 1191\u001b[0;31m                 ext = inspect_excel_format(\n\u001b[0m\u001b[1;32m   1192\u001b[0m                     \u001b[0mcontent_or_path\u001b[0m\u001b[0;34m=\u001b[0m\u001b[0mpath_or_buffer\u001b[0m\u001b[0;34m,\u001b[0m \u001b[0mstorage_options\u001b[0m\u001b[0;34m=\u001b[0m\u001b[0mstorage_options\u001b[0m\u001b[0;34m\u001b[0m\u001b[0;34m\u001b[0m\u001b[0m\n\u001b[1;32m   1193\u001b[0m                 )\n",
            "\u001b[0;32m/usr/local/lib/python3.8/dist-packages/pandas/io/excel/_base.py\u001b[0m in \u001b[0;36minspect_excel_format\u001b[0;34m(content_or_path, storage_options)\u001b[0m\n\u001b[1;32m   1068\u001b[0m         \u001b[0mcontent_or_path\u001b[0m \u001b[0;34m=\u001b[0m \u001b[0mBytesIO\u001b[0m\u001b[0;34m(\u001b[0m\u001b[0mcontent_or_path\u001b[0m\u001b[0;34m)\u001b[0m\u001b[0;34m\u001b[0m\u001b[0;34m\u001b[0m\u001b[0m\n\u001b[1;32m   1069\u001b[0m \u001b[0;34m\u001b[0m\u001b[0m\n\u001b[0;32m-> 1070\u001b[0;31m     with get_handle(\n\u001b[0m\u001b[1;32m   1071\u001b[0m         \u001b[0mcontent_or_path\u001b[0m\u001b[0;34m,\u001b[0m \u001b[0;34m\"rb\"\u001b[0m\u001b[0;34m,\u001b[0m \u001b[0mstorage_options\u001b[0m\u001b[0;34m=\u001b[0m\u001b[0mstorage_options\u001b[0m\u001b[0;34m,\u001b[0m \u001b[0mis_text\u001b[0m\u001b[0;34m=\u001b[0m\u001b[0;32mFalse\u001b[0m\u001b[0;34m\u001b[0m\u001b[0;34m\u001b[0m\u001b[0m\n\u001b[1;32m   1072\u001b[0m     ) as handle:\n",
            "\u001b[0;32m/usr/local/lib/python3.8/dist-packages/pandas/io/common.py\u001b[0m in \u001b[0;36mget_handle\u001b[0;34m(path_or_buf, mode, encoding, compression, memory_map, is_text, errors, storage_options)\u001b[0m\n\u001b[1;32m    607\u001b[0m \u001b[0;34m\u001b[0m\u001b[0m\n\u001b[1;32m    608\u001b[0m     \u001b[0;31m# open URLs\u001b[0m\u001b[0;34m\u001b[0m\u001b[0;34m\u001b[0m\u001b[0;34m\u001b[0m\u001b[0m\n\u001b[0;32m--> 609\u001b[0;31m     ioargs = _get_filepath_or_buffer(\n\u001b[0m\u001b[1;32m    610\u001b[0m         \u001b[0mpath_or_buf\u001b[0m\u001b[0;34m,\u001b[0m\u001b[0;34m\u001b[0m\u001b[0;34m\u001b[0m\u001b[0m\n\u001b[1;32m    611\u001b[0m         \u001b[0mencoding\u001b[0m\u001b[0;34m=\u001b[0m\u001b[0mencoding\u001b[0m\u001b[0;34m,\u001b[0m\u001b[0;34m\u001b[0m\u001b[0;34m\u001b[0m\u001b[0m\n",
            "\u001b[0;32m/usr/local/lib/python3.8/dist-packages/pandas/io/common.py\u001b[0m in \u001b[0;36m_get_filepath_or_buffer\u001b[0;34m(filepath_or_buffer, encoding, compression, mode, storage_options)\u001b[0m\n\u001b[1;32m    394\u001b[0m     \u001b[0;32mif\u001b[0m \u001b[0;32mnot\u001b[0m \u001b[0mis_file_like\u001b[0m\u001b[0;34m(\u001b[0m\u001b[0mfilepath_or_buffer\u001b[0m\u001b[0;34m)\u001b[0m\u001b[0;34m:\u001b[0m\u001b[0;34m\u001b[0m\u001b[0;34m\u001b[0m\u001b[0m\n\u001b[1;32m    395\u001b[0m         \u001b[0mmsg\u001b[0m \u001b[0;34m=\u001b[0m \u001b[0;34mf\"Invalid file path or buffer object type: {type(filepath_or_buffer)}\"\u001b[0m\u001b[0;34m\u001b[0m\u001b[0;34m\u001b[0m\u001b[0m\n\u001b[0;32m--> 396\u001b[0;31m         \u001b[0;32mraise\u001b[0m \u001b[0mValueError\u001b[0m\u001b[0;34m(\u001b[0m\u001b[0mmsg\u001b[0m\u001b[0;34m)\u001b[0m\u001b[0;34m\u001b[0m\u001b[0;34m\u001b[0m\u001b[0m\n\u001b[0m\u001b[1;32m    397\u001b[0m \u001b[0;34m\u001b[0m\u001b[0m\n\u001b[1;32m    398\u001b[0m     return IOArgs(\n",
            "\u001b[0;31mValueError\u001b[0m: Invalid file path or buffer object type: <class 'ellipsis'>"
          ]
        }
      ]
    },
    {
      "cell_type": "markdown",
      "source": [
        "## 입출력 추가 명령어\n",
        "\n",
        "* df # 읽어와서 무엇부터 볼 것인가\n",
        "* df.head() # 괄호 안에 갯수를 넣으면 상단부터 불러올 갯수를 지정합니다\n",
        "* df.tail() # 괄호 안에 갯수를 넣으면 하단부터 불러올 갯수를 지정합니다."
      ],
      "metadata": {
        "id": "IhMIOIc4fmpj"
      }
    },
    {
      "cell_type": "markdown",
      "source": [
        "## 데이터프레임의 고급 인덱싱 (`loc`, `iloc`)\n",
        "\n",
        "* 인덱싱 → 특정한 데이터를 골라내는 것\n",
        "→ (기준) → 라벨 인덱스, 배열 - 정수인덱스\n",
        "* 기본 인덱싱(` [ ] `) : 열(라벨, 라벨리스트), 행(`:` 라벨 범위)\n",
        "* Numpy에서 행렬 기반으로 인덱싱 ↔ pandas의 기본 인덱싱과 매칭이 안됩니다\n",
        "* 행, 열 기반으로 인덱싱을 하고 싶을때 `loc`, `iloc`를 사용"
      ],
      "metadata": {
        "id": "XBWg0fUpf7z7"
      }
    },
    {
      "cell_type": "markdown",
      "source": [
        "### 설명\n",
        "* loc : 라벨 인덱스 (딕셔너리 키)\n",
        "* iloc : 정수 인덱스 (리스트, 배열에서의 나열된 원소의 위치)\n"
      ],
      "metadata": {
        "id": "9xA0d-8sgBc8"
      }
    },
    {
      "cell_type": "markdown",
      "source": [
        "#### 일반적인 메소드\n",
        "\n",
        "`( )` 소괄호 사용"
      ],
      "metadata": {
        "id": "8jTjT98fgo6T"
      }
    },
    {
      "cell_type": "markdown",
      "source": [
        "#### loc와 iloc\n",
        "\n",
        "* '[ ]' 대괄호 사용\n",
        "* `indexer` 인 (r_, c_) 사용"
      ],
      "metadata": {
        "id": "Kq_JQw0HhCvO"
      }
    },
    {
      "cell_type": "markdown",
      "source": [
        "##loc 시작"
      ],
      "metadata": {
        "id": "an5rVfIfkxGy"
      }
    },
    {
      "cell_type": "markdown",
      "source": [
        "##기능\n",
        "\n",
        "df.loc[행 인덱싱 값]\n",
        "\n",
        "df.loc[행 인덱싱 값, 열 인덱싱 값]\n"
      ],
      "metadata": {
        "id": "jSLnP1qehNbh"
      }
    },
    {
      "cell_type": "code",
      "source": [
        "df.loc[행 인덱싱 값] # 행만 넣어주거나요\n",
        "df.loc[행 인덱싱 값, 열 인덱싱 값]\n",
        "# 행, 열을 순서대로 넣어주거나 <정수>, 문자열 인덱스를 넣어줍니다.\n",
        "range, arange"
      ],
      "metadata": {
        "colab": {
          "base_uri": "https://localhost:8080/",
          "height": 135
        },
        "id": "6KEqnyNZhVe_",
        "outputId": "14844a99-14e1-421e-96ab-30babae0c1dd"
      },
      "execution_count": null,
      "outputs": [
        {
          "output_type": "error",
          "ename": "SyntaxError",
          "evalue": "ignored",
          "traceback": [
            "\u001b[0;36m  File \u001b[0;32m\"<ipython-input-88-86ea3fd07d68>\"\u001b[0;36m, line \u001b[0;32m1\u001b[0m\n\u001b[0;31m    df.loc[행 인덱싱 값] # 행만 넣어주거나요\u001b[0m\n\u001b[0m             ^\u001b[0m\n\u001b[0;31mSyntaxError\u001b[0m\u001b[0;31m:\u001b[0m invalid syntax\n"
          ]
        }
      ]
    },
    {
      "cell_type": "markdown",
      "source": [
        "### 들어갈 수 있는 것\n",
        "인덱스 데이터, 인덱스 데이터 슬라이스, 인덱스 데이터리스트, \n",
        "<br>같은 행 인덱스를 가지는 불리언 시리즈(행 인덱싱의 경우), 위의 값들을 반환하는 함수\n"
      ],
      "metadata": {
        "id": "cnma3WKAhgEL"
      }
    },
    {
      "cell_type": "code",
      "source": [
        "df.loc[행 인덱싱 값] # 행만 넣어주거나요\n",
        "df.loc[행 인덱싱 값, 열 인덱싱 값]\n",
        "# 행, 열을 순서대로 넣어주거나 <정수>, 문자열 인덱스를 넣어줍니다.\n",
        "range, arange\n",
        "# 인덱스 데이터 / df.loc['서울']df.loc[0] 행\n",
        "# 인덱스 데이터 슬라이스\n",
        "# df.loc['서울':'부산']df.loc[0:1] (라벨)\n",
        "# df.loc 불리언 배열 인덱싱 (필터링)도 가능합니다\n"
      ],
      "metadata": {
        "colab": {
          "base_uri": "https://localhost:8080/",
          "height": 135
        },
        "id": "fpEeSyhrhuFU",
        "outputId": "07743e5d-5db1-45dc-d99d-3dda6c0a3c16"
      },
      "execution_count": null,
      "outputs": [
        {
          "output_type": "error",
          "ename": "SyntaxError",
          "evalue": "ignored",
          "traceback": [
            "\u001b[0;36m  File \u001b[0;32m\"<ipython-input-90-9114368dc50b>\"\u001b[0;36m, line \u001b[0;32m1\u001b[0m\n\u001b[0;31m    df.loc[행 인덱싱 값] # 행만 넣어주거나요\u001b[0m\n\u001b[0m             ^\u001b[0m\n\u001b[0;31mSyntaxError\u001b[0m\u001b[0;31m:\u001b[0m invalid syntax\n"
          ]
        }
      ]
    },
    {
      "cell_type": "markdown",
      "source": [
        "\" : \" 은 모든 것을 검색"
      ],
      "metadata": {
        "id": "FcbiQvDwiEp_"
      }
    },
    {
      "cell_type": "code",
      "source": [
        "df.loc[행] << df.loc[열] # 행부터는 넣어도 되고, 열부터 넣으면 안됩니다. 행부터 넣으면 key error\n",
        "df.loc[:,열] = df[열 정보값] "
      ],
      "metadata": {
        "colab": {
          "base_uri": "https://localhost:8080/",
          "height": 135
        },
        "id": "68FSa02flBAU",
        "outputId": "711e480d-87f9-48a3-9a21-2f5b7c313bcc"
      },
      "execution_count": null,
      "outputs": [
        {
          "output_type": "error",
          "ename": "SyntaxError",
          "evalue": "ignored",
          "traceback": [
            "\u001b[0;36m  File \u001b[0;32m\"<ipython-input-93-141f85d6393d>\"\u001b[0;36m, line \u001b[0;32m2\u001b[0m\n\u001b[0;31m    df.loc[:,열] = df[열 정보값]\u001b[0m\n\u001b[0m                       ^\u001b[0m\n\u001b[0;31mSyntaxError\u001b[0m\u001b[0;31m:\u001b[0m invalid syntax\n"
          ]
        }
      ]
    },
    {
      "cell_type": "markdown",
      "source": [
        "## iloc 시작\n"
      ],
      "metadata": {
        "id": "uFq1HM6lks1v"
      }
    },
    {
      "cell_type": "markdown",
      "source": [
        "## 설명"
      ],
      "metadata": {
        "id": "hm--tdHok3L_"
      }
    },
    {
      "cell_type": "markdown",
      "source": [
        "* iloc 는 라벨이 아니라 순서를 나타내는 integer + loc\n",
        "* loc 도 정수를 사용할 수 있지만 부여된 정수만을 사용합니다. 단, 0번 자리인데 100이 들어가는 것은 불가능\n",
        "* iloc는 우리가 부여한 값이 아니라 value(배열) 에서의 위치를 의미합니다 (절대값은 수정 x)"
      ],
      "metadata": {
        "id": "5minADZak4fC"
      }
    },
    {
      "cell_type": "markdown",
      "source": [
        "### 들어갈 수 있는 것\n",
        "df.iloc[행 순서 정수 인덱스]\n",
        "\n",
        "df.iloc[행 순서 정수 인덱스, 열 순서 정수 인덱스]\n",
        "\n",
        "\n",
        "* 슬라이스는 작동하고 끝은 포함하지 않습니다."
      ],
      "metadata": {
        "id": "MkYNGRSQmKdv"
      }
    },
    {
      "cell_type": "code",
      "source": [
        "df.iloc [행 순서 정수 인덱스]\n",
        "df.iloc [행 순서 정수 인덱스, 열 순서 정수 인덱스]\n"
      ],
      "metadata": {
        "colab": {
          "base_uri": "https://localhost:8080/",
          "height": 135
        },
        "id": "PB_WVbFUlgfK",
        "outputId": "c69450e7-f1c4-4285-f261-4dd24f740cfd"
      },
      "execution_count": null,
      "outputs": [
        {
          "output_type": "error",
          "ename": "SyntaxError",
          "evalue": "ignored",
          "traceback": [
            "\u001b[0;36m  File \u001b[0;32m\"<ipython-input-94-1208e333b9f0>\"\u001b[0;36m, line \u001b[0;32m1\u001b[0m\n\u001b[0;31m    df.iloc [행 순서 정수 인덱스]\u001b[0m\n\u001b[0m               ^\u001b[0m\n\u001b[0;31mSyntaxError\u001b[0m\u001b[0;31m:\u001b[0m invalid syntax\n"
          ]
        }
      ]
    },
    {
      "cell_type": "markdown",
      "source": [
        "### 중대한 차이점\n",
        "\n",
        "* loc : 조건을 넣어서 필터링 가능\n",
        "* iloc : list 인덱싱 X"
      ],
      "metadata": {
        "id": "RGmGHiF8maE3"
      }
    },
    {
      "cell_type": "markdown",
      "source": [
        "## 데이터프레임 데이터 조작\n",
        "\n",
        "* 데이터프레임\n",
        "\n",
        "1. 2차원 배열 (열들끼리는 같은 dtype, 행들 사이는 X) / numpy에서 지원하는 2차원 배열, 행렬 → 메소드, 속성, 기능 공유한다.\n",
        "2. ‘열’ 이름을 키로 가지는 딕셔너리 → 라벨 인덱스 (키, 이름) → 호출 → ‘행’ 이름. (열 라벨 인덱스, 행 라벨 인덱스…)"
      ],
      "metadata": {
        "id": "v77uTl_7mv6b"
      }
    },
    {
      "cell_type": "code",
      "source": [
        "series = pd.Series([9904312, 3448737, 2890451, 2466052],   # 연속된 데이터 묶음 (리스트, 튜플, 1차원 배열...)\n",
        "              index=[\"서울\", \"부산\", \"인천\", \"대구\"])"
      ],
      "metadata": {
        "id": "bKmVR3QCQkmD"
      },
      "execution_count": null,
      "outputs": []
    },
    {
      "cell_type": "code",
      "source": [
        "series.count() # 값을 세줄 수 있다\n",
        "# 카운트는 값이라고 합니다. 결측치(NaN)은 빼고 세기 때문입니다. (계산할 수 없는, 값으로 취급되지 않는 것들은 제외한다)\n",
        "# 행의 개수가 10개인데, 왜 값이 9개 나오는가요. => 1개의 NaN (결측치)가 포함됩니다"
      ],
      "metadata": {
        "colab": {
          "base_uri": "https://localhost:8080/"
        },
        "id": "-E1_OrMSP1O4",
        "outputId": "11483e74-81ca-43e1-d0a6-381dd7bc8ed8"
      },
      "execution_count": null,
      "outputs": [
        {
          "output_type": "execute_result",
          "data": {
            "text/plain": [
              "4"
            ]
          },
          "metadata": {},
          "execution_count": 15
        }
      ]
    },
    {
      "cell_type": "code",
      "source": [
        "df.count(axis = 0) # 열마다의 갯수 ( axis )\n",
        "# axis = 0은 행의 갯수, 1은 열마다의 갯수"
      ],
      "metadata": {
        "colab": {
          "base_uri": "https://localhost:8080/"
        },
        "id": "q8Xa72adP6OJ",
        "outputId": "51f98719-7988-49df-c12a-51f8b1d7e42a"
      },
      "execution_count": null,
      "outputs": [
        {
          "output_type": "execute_result",
          "data": {
            "text/plain": [
              "지역               4\n",
              "2015             4\n",
              "2010             4\n",
              "2005             4\n",
              "2000             4\n",
              "2010-2015 증가율    4\n",
              "dtype: int64"
            ]
          },
          "metadata": {},
          "execution_count": 24
        }
      ]
    },
    {
      "cell_type": "code",
      "source": [
        "df"
      ],
      "metadata": {
        "colab": {
          "base_uri": "https://localhost:8080/",
          "height": 175
        },
        "id": "94a68TCNQJ14",
        "outputId": "9f7c6169-61d1-4a21-bdda-3a692cc643da"
      },
      "execution_count": null,
      "outputs": [
        {
          "output_type": "execute_result",
          "data": {
            "text/plain": [
              "     지역     2015     2010     2005     2000  2010-2015 증가율\n",
              "서울  수도권  9904312  9631482  9762546  9853972         0.0283\n",
              "부산  경상권  3448737  3393191  3512547  3655437         0.0163\n",
              "인천  수도권  2890451  2632035  2517680  2466338         0.0982\n",
              "대구  경상권  2466052  2431774  2456016  2473990         0.0141"
            ],
            "text/html": [
              "\n",
              "  <div id=\"df-98b65453-73e8-41bc-9a49-ad94bac633f9\">\n",
              "    <div class=\"colab-df-container\">\n",
              "      <div>\n",
              "<style scoped>\n",
              "    .dataframe tbody tr th:only-of-type {\n",
              "        vertical-align: middle;\n",
              "    }\n",
              "\n",
              "    .dataframe tbody tr th {\n",
              "        vertical-align: top;\n",
              "    }\n",
              "\n",
              "    .dataframe thead th {\n",
              "        text-align: right;\n",
              "    }\n",
              "</style>\n",
              "<table border=\"1\" class=\"dataframe\">\n",
              "  <thead>\n",
              "    <tr style=\"text-align: right;\">\n",
              "      <th></th>\n",
              "      <th>지역</th>\n",
              "      <th>2015</th>\n",
              "      <th>2010</th>\n",
              "      <th>2005</th>\n",
              "      <th>2000</th>\n",
              "      <th>2010-2015 증가율</th>\n",
              "    </tr>\n",
              "  </thead>\n",
              "  <tbody>\n",
              "    <tr>\n",
              "      <th>서울</th>\n",
              "      <td>수도권</td>\n",
              "      <td>9904312</td>\n",
              "      <td>9631482</td>\n",
              "      <td>9762546</td>\n",
              "      <td>9853972</td>\n",
              "      <td>0.0283</td>\n",
              "    </tr>\n",
              "    <tr>\n",
              "      <th>부산</th>\n",
              "      <td>경상권</td>\n",
              "      <td>3448737</td>\n",
              "      <td>3393191</td>\n",
              "      <td>3512547</td>\n",
              "      <td>3655437</td>\n",
              "      <td>0.0163</td>\n",
              "    </tr>\n",
              "    <tr>\n",
              "      <th>인천</th>\n",
              "      <td>수도권</td>\n",
              "      <td>2890451</td>\n",
              "      <td>2632035</td>\n",
              "      <td>2517680</td>\n",
              "      <td>2466338</td>\n",
              "      <td>0.0982</td>\n",
              "    </tr>\n",
              "    <tr>\n",
              "      <th>대구</th>\n",
              "      <td>경상권</td>\n",
              "      <td>2466052</td>\n",
              "      <td>2431774</td>\n",
              "      <td>2456016</td>\n",
              "      <td>2473990</td>\n",
              "      <td>0.0141</td>\n",
              "    </tr>\n",
              "  </tbody>\n",
              "</table>\n",
              "</div>\n",
              "      <button class=\"colab-df-convert\" onclick=\"convertToInteractive('df-98b65453-73e8-41bc-9a49-ad94bac633f9')\"\n",
              "              title=\"Convert this dataframe to an interactive table.\"\n",
              "              style=\"display:none;\">\n",
              "        \n",
              "  <svg xmlns=\"http://www.w3.org/2000/svg\" height=\"24px\"viewBox=\"0 0 24 24\"\n",
              "       width=\"24px\">\n",
              "    <path d=\"M0 0h24v24H0V0z\" fill=\"none\"/>\n",
              "    <path d=\"M18.56 5.44l.94 2.06.94-2.06 2.06-.94-2.06-.94-.94-2.06-.94 2.06-2.06.94zm-11 1L8.5 8.5l.94-2.06 2.06-.94-2.06-.94L8.5 2.5l-.94 2.06-2.06.94zm10 10l.94 2.06.94-2.06 2.06-.94-2.06-.94-.94-2.06-.94 2.06-2.06.94z\"/><path d=\"M17.41 7.96l-1.37-1.37c-.4-.4-.92-.59-1.43-.59-.52 0-1.04.2-1.43.59L10.3 9.45l-7.72 7.72c-.78.78-.78 2.05 0 2.83L4 21.41c.39.39.9.59 1.41.59.51 0 1.02-.2 1.41-.59l7.78-7.78 2.81-2.81c.8-.78.8-2.07 0-2.86zM5.41 20L4 18.59l7.72-7.72 1.47 1.35L5.41 20z\"/>\n",
              "  </svg>\n",
              "      </button>\n",
              "      \n",
              "  <style>\n",
              "    .colab-df-container {\n",
              "      display:flex;\n",
              "      flex-wrap:wrap;\n",
              "      gap: 12px;\n",
              "    }\n",
              "\n",
              "    .colab-df-convert {\n",
              "      background-color: #E8F0FE;\n",
              "      border: none;\n",
              "      border-radius: 50%;\n",
              "      cursor: pointer;\n",
              "      display: none;\n",
              "      fill: #1967D2;\n",
              "      height: 32px;\n",
              "      padding: 0 0 0 0;\n",
              "      width: 32px;\n",
              "    }\n",
              "\n",
              "    .colab-df-convert:hover {\n",
              "      background-color: #E2EBFA;\n",
              "      box-shadow: 0px 1px 2px rgba(60, 64, 67, 0.3), 0px 1px 3px 1px rgba(60, 64, 67, 0.15);\n",
              "      fill: #174EA6;\n",
              "    }\n",
              "\n",
              "    [theme=dark] .colab-df-convert {\n",
              "      background-color: #3B4455;\n",
              "      fill: #D2E3FC;\n",
              "    }\n",
              "\n",
              "    [theme=dark] .colab-df-convert:hover {\n",
              "      background-color: #434B5C;\n",
              "      box-shadow: 0px 1px 3px 1px rgba(0, 0, 0, 0.15);\n",
              "      filter: drop-shadow(0px 1px 2px rgba(0, 0, 0, 0.3));\n",
              "      fill: #FFFFFF;\n",
              "    }\n",
              "  </style>\n",
              "\n",
              "      <script>\n",
              "        const buttonEl =\n",
              "          document.querySelector('#df-98b65453-73e8-41bc-9a49-ad94bac633f9 button.colab-df-convert');\n",
              "        buttonEl.style.display =\n",
              "          google.colab.kernel.accessAllowed ? 'block' : 'none';\n",
              "\n",
              "        async function convertToInteractive(key) {\n",
              "          const element = document.querySelector('#df-98b65453-73e8-41bc-9a49-ad94bac633f9');\n",
              "          const dataTable =\n",
              "            await google.colab.kernel.invokeFunction('convertToInteractive',\n",
              "                                                     [key], {});\n",
              "          if (!dataTable) return;\n",
              "\n",
              "          const docLinkHtml = 'Like what you see? Visit the ' +\n",
              "            '<a target=\"_blank\" href=https://colab.research.google.com/notebooks/data_table.ipynb>data table notebook</a>'\n",
              "            + ' to learn more about interactive tables.';\n",
              "          element.innerHTML = '';\n",
              "          dataTable['output_type'] = 'display_data';\n",
              "          await google.colab.output.renderOutput(dataTable, element);\n",
              "          const docLink = document.createElement('div');\n",
              "          docLink.innerHTML = docLinkHtml;\n",
              "          element.appendChild(docLink);\n",
              "        }\n",
              "      </script>\n",
              "    </div>\n",
              "  </div>\n",
              "  "
            ]
          },
          "metadata": {},
          "execution_count": 17
        }
      ]
    },
    {
      "cell_type": "markdown",
      "source": [
        "### head부터 describe 까지\n",
        "* df.head() : 상위 5개 추출\n",
        "* df.tail() : 하위 5개 추출\n",
        "\n",
        "* df.info() : 열들의 이름, 결측치가 아닌 데이터의 갯수, 열의 Dtype 확인\n",
        "* df.describe () : 열들의 통계적 특성 또는 빈도, 고유값의 갯수 확인<br>\n",
        "    기본적으로 연속형 변수\n",
        "    "
      ],
      "metadata": {
        "id": "o1_Tvdc4Q8HR"
      }
    },
    {
      "cell_type": "code",
      "source": [
        "import seaborn as sns # 데이터 시각화 패키지\n",
        "titanic = sns.load_dataset('titanic') # pd.read_csv... url...\n",
        "titanic\n",
        "df = titanic"
      ],
      "metadata": {
        "id": "W30lfp0UTdoZ"
      },
      "execution_count": null,
      "outputs": []
    },
    {
      "cell_type": "code",
      "source": [
        "df.head()"
      ],
      "metadata": {
        "colab": {
          "base_uri": "https://localhost:8080/",
          "height": 206
        },
        "id": "slWH5Nj1TKhW",
        "outputId": "169bc7a6-1fb8-470a-a2d9-9063e94a0460"
      },
      "execution_count": null,
      "outputs": [
        {
          "output_type": "execute_result",
          "data": {
            "text/plain": [
              "   survived  pclass     sex   age  sibsp  parch     fare embarked  class  \\\n",
              "0         0       3    male  22.0      1      0   7.2500        S  Third   \n",
              "1         1       1  female  38.0      1      0  71.2833        C  First   \n",
              "2         1       3  female  26.0      0      0   7.9250        S  Third   \n",
              "3         1       1  female  35.0      1      0  53.1000        S  First   \n",
              "4         0       3    male  35.0      0      0   8.0500        S  Third   \n",
              "\n",
              "     who  adult_male deck  embark_town alive  alone  \n",
              "0    man        True  NaN  Southampton    no  False  \n",
              "1  woman       False    C    Cherbourg   yes  False  \n",
              "2  woman       False  NaN  Southampton   yes   True  \n",
              "3  woman       False    C  Southampton   yes  False  \n",
              "4    man        True  NaN  Southampton    no   True  "
            ],
            "text/html": [
              "\n",
              "  <div id=\"df-1c6f2d43-b45a-414a-b71e-61e6c7e82cf0\">\n",
              "    <div class=\"colab-df-container\">\n",
              "      <div>\n",
              "<style scoped>\n",
              "    .dataframe tbody tr th:only-of-type {\n",
              "        vertical-align: middle;\n",
              "    }\n",
              "\n",
              "    .dataframe tbody tr th {\n",
              "        vertical-align: top;\n",
              "    }\n",
              "\n",
              "    .dataframe thead th {\n",
              "        text-align: right;\n",
              "    }\n",
              "</style>\n",
              "<table border=\"1\" class=\"dataframe\">\n",
              "  <thead>\n",
              "    <tr style=\"text-align: right;\">\n",
              "      <th></th>\n",
              "      <th>survived</th>\n",
              "      <th>pclass</th>\n",
              "      <th>sex</th>\n",
              "      <th>age</th>\n",
              "      <th>sibsp</th>\n",
              "      <th>parch</th>\n",
              "      <th>fare</th>\n",
              "      <th>embarked</th>\n",
              "      <th>class</th>\n",
              "      <th>who</th>\n",
              "      <th>adult_male</th>\n",
              "      <th>deck</th>\n",
              "      <th>embark_town</th>\n",
              "      <th>alive</th>\n",
              "      <th>alone</th>\n",
              "    </tr>\n",
              "  </thead>\n",
              "  <tbody>\n",
              "    <tr>\n",
              "      <th>0</th>\n",
              "      <td>0</td>\n",
              "      <td>3</td>\n",
              "      <td>male</td>\n",
              "      <td>22.0</td>\n",
              "      <td>1</td>\n",
              "      <td>0</td>\n",
              "      <td>7.2500</td>\n",
              "      <td>S</td>\n",
              "      <td>Third</td>\n",
              "      <td>man</td>\n",
              "      <td>True</td>\n",
              "      <td>NaN</td>\n",
              "      <td>Southampton</td>\n",
              "      <td>no</td>\n",
              "      <td>False</td>\n",
              "    </tr>\n",
              "    <tr>\n",
              "      <th>1</th>\n",
              "      <td>1</td>\n",
              "      <td>1</td>\n",
              "      <td>female</td>\n",
              "      <td>38.0</td>\n",
              "      <td>1</td>\n",
              "      <td>0</td>\n",
              "      <td>71.2833</td>\n",
              "      <td>C</td>\n",
              "      <td>First</td>\n",
              "      <td>woman</td>\n",
              "      <td>False</td>\n",
              "      <td>C</td>\n",
              "      <td>Cherbourg</td>\n",
              "      <td>yes</td>\n",
              "      <td>False</td>\n",
              "    </tr>\n",
              "    <tr>\n",
              "      <th>2</th>\n",
              "      <td>1</td>\n",
              "      <td>3</td>\n",
              "      <td>female</td>\n",
              "      <td>26.0</td>\n",
              "      <td>0</td>\n",
              "      <td>0</td>\n",
              "      <td>7.9250</td>\n",
              "      <td>S</td>\n",
              "      <td>Third</td>\n",
              "      <td>woman</td>\n",
              "      <td>False</td>\n",
              "      <td>NaN</td>\n",
              "      <td>Southampton</td>\n",
              "      <td>yes</td>\n",
              "      <td>True</td>\n",
              "    </tr>\n",
              "    <tr>\n",
              "      <th>3</th>\n",
              "      <td>1</td>\n",
              "      <td>1</td>\n",
              "      <td>female</td>\n",
              "      <td>35.0</td>\n",
              "      <td>1</td>\n",
              "      <td>0</td>\n",
              "      <td>53.1000</td>\n",
              "      <td>S</td>\n",
              "      <td>First</td>\n",
              "      <td>woman</td>\n",
              "      <td>False</td>\n",
              "      <td>C</td>\n",
              "      <td>Southampton</td>\n",
              "      <td>yes</td>\n",
              "      <td>False</td>\n",
              "    </tr>\n",
              "    <tr>\n",
              "      <th>4</th>\n",
              "      <td>0</td>\n",
              "      <td>3</td>\n",
              "      <td>male</td>\n",
              "      <td>35.0</td>\n",
              "      <td>0</td>\n",
              "      <td>0</td>\n",
              "      <td>8.0500</td>\n",
              "      <td>S</td>\n",
              "      <td>Third</td>\n",
              "      <td>man</td>\n",
              "      <td>True</td>\n",
              "      <td>NaN</td>\n",
              "      <td>Southampton</td>\n",
              "      <td>no</td>\n",
              "      <td>True</td>\n",
              "    </tr>\n",
              "  </tbody>\n",
              "</table>\n",
              "</div>\n",
              "      <button class=\"colab-df-convert\" onclick=\"convertToInteractive('df-1c6f2d43-b45a-414a-b71e-61e6c7e82cf0')\"\n",
              "              title=\"Convert this dataframe to an interactive table.\"\n",
              "              style=\"display:none;\">\n",
              "        \n",
              "  <svg xmlns=\"http://www.w3.org/2000/svg\" height=\"24px\"viewBox=\"0 0 24 24\"\n",
              "       width=\"24px\">\n",
              "    <path d=\"M0 0h24v24H0V0z\" fill=\"none\"/>\n",
              "    <path d=\"M18.56 5.44l.94 2.06.94-2.06 2.06-.94-2.06-.94-.94-2.06-.94 2.06-2.06.94zm-11 1L8.5 8.5l.94-2.06 2.06-.94-2.06-.94L8.5 2.5l-.94 2.06-2.06.94zm10 10l.94 2.06.94-2.06 2.06-.94-2.06-.94-.94-2.06-.94 2.06-2.06.94z\"/><path d=\"M17.41 7.96l-1.37-1.37c-.4-.4-.92-.59-1.43-.59-.52 0-1.04.2-1.43.59L10.3 9.45l-7.72 7.72c-.78.78-.78 2.05 0 2.83L4 21.41c.39.39.9.59 1.41.59.51 0 1.02-.2 1.41-.59l7.78-7.78 2.81-2.81c.8-.78.8-2.07 0-2.86zM5.41 20L4 18.59l7.72-7.72 1.47 1.35L5.41 20z\"/>\n",
              "  </svg>\n",
              "      </button>\n",
              "      \n",
              "  <style>\n",
              "    .colab-df-container {\n",
              "      display:flex;\n",
              "      flex-wrap:wrap;\n",
              "      gap: 12px;\n",
              "    }\n",
              "\n",
              "    .colab-df-convert {\n",
              "      background-color: #E8F0FE;\n",
              "      border: none;\n",
              "      border-radius: 50%;\n",
              "      cursor: pointer;\n",
              "      display: none;\n",
              "      fill: #1967D2;\n",
              "      height: 32px;\n",
              "      padding: 0 0 0 0;\n",
              "      width: 32px;\n",
              "    }\n",
              "\n",
              "    .colab-df-convert:hover {\n",
              "      background-color: #E2EBFA;\n",
              "      box-shadow: 0px 1px 2px rgba(60, 64, 67, 0.3), 0px 1px 3px 1px rgba(60, 64, 67, 0.15);\n",
              "      fill: #174EA6;\n",
              "    }\n",
              "\n",
              "    [theme=dark] .colab-df-convert {\n",
              "      background-color: #3B4455;\n",
              "      fill: #D2E3FC;\n",
              "    }\n",
              "\n",
              "    [theme=dark] .colab-df-convert:hover {\n",
              "      background-color: #434B5C;\n",
              "      box-shadow: 0px 1px 3px 1px rgba(0, 0, 0, 0.15);\n",
              "      filter: drop-shadow(0px 1px 2px rgba(0, 0, 0, 0.3));\n",
              "      fill: #FFFFFF;\n",
              "    }\n",
              "  </style>\n",
              "\n",
              "      <script>\n",
              "        const buttonEl =\n",
              "          document.querySelector('#df-1c6f2d43-b45a-414a-b71e-61e6c7e82cf0 button.colab-df-convert');\n",
              "        buttonEl.style.display =\n",
              "          google.colab.kernel.accessAllowed ? 'block' : 'none';\n",
              "\n",
              "        async function convertToInteractive(key) {\n",
              "          const element = document.querySelector('#df-1c6f2d43-b45a-414a-b71e-61e6c7e82cf0');\n",
              "          const dataTable =\n",
              "            await google.colab.kernel.invokeFunction('convertToInteractive',\n",
              "                                                     [key], {});\n",
              "          if (!dataTable) return;\n",
              "\n",
              "          const docLinkHtml = 'Like what you see? Visit the ' +\n",
              "            '<a target=\"_blank\" href=https://colab.research.google.com/notebooks/data_table.ipynb>data table notebook</a>'\n",
              "            + ' to learn more about interactive tables.';\n",
              "          element.innerHTML = '';\n",
              "          dataTable['output_type'] = 'display_data';\n",
              "          await google.colab.output.renderOutput(dataTable, element);\n",
              "          const docLink = document.createElement('div');\n",
              "          docLink.innerHTML = docLinkHtml;\n",
              "          element.appendChild(docLink);\n",
              "        }\n",
              "      </script>\n",
              "    </div>\n",
              "  </div>\n",
              "  "
            ]
          },
          "metadata": {},
          "execution_count": 39
        }
      ]
    },
    {
      "cell_type": "code",
      "source": [
        "df.tail()"
      ],
      "metadata": {
        "colab": {
          "base_uri": "https://localhost:8080/",
          "height": 206
        },
        "id": "gwVv7cKcTMek",
        "outputId": "73a09fc5-6cb0-4fec-c611-e088c3e661aa"
      },
      "execution_count": null,
      "outputs": [
        {
          "output_type": "execute_result",
          "data": {
            "text/plain": [
              "     survived  pclass     sex   age  sibsp  parch   fare embarked   class  \\\n",
              "886         0       2    male  27.0      0      0  13.00        S  Second   \n",
              "887         1       1  female  19.0      0      0  30.00        S   First   \n",
              "888         0       3  female   NaN      1      2  23.45        S   Third   \n",
              "889         1       1    male  26.0      0      0  30.00        C   First   \n",
              "890         0       3    male  32.0      0      0   7.75        Q   Third   \n",
              "\n",
              "       who  adult_male deck  embark_town alive  alone  \n",
              "886    man        True  NaN  Southampton    no   True  \n",
              "887  woman       False    B  Southampton   yes   True  \n",
              "888  woman       False  NaN  Southampton    no  False  \n",
              "889    man        True    C    Cherbourg   yes   True  \n",
              "890    man        True  NaN   Queenstown    no   True  "
            ],
            "text/html": [
              "\n",
              "  <div id=\"df-a56d4fb0-c762-432e-a37b-5923638ce769\">\n",
              "    <div class=\"colab-df-container\">\n",
              "      <div>\n",
              "<style scoped>\n",
              "    .dataframe tbody tr th:only-of-type {\n",
              "        vertical-align: middle;\n",
              "    }\n",
              "\n",
              "    .dataframe tbody tr th {\n",
              "        vertical-align: top;\n",
              "    }\n",
              "\n",
              "    .dataframe thead th {\n",
              "        text-align: right;\n",
              "    }\n",
              "</style>\n",
              "<table border=\"1\" class=\"dataframe\">\n",
              "  <thead>\n",
              "    <tr style=\"text-align: right;\">\n",
              "      <th></th>\n",
              "      <th>survived</th>\n",
              "      <th>pclass</th>\n",
              "      <th>sex</th>\n",
              "      <th>age</th>\n",
              "      <th>sibsp</th>\n",
              "      <th>parch</th>\n",
              "      <th>fare</th>\n",
              "      <th>embarked</th>\n",
              "      <th>class</th>\n",
              "      <th>who</th>\n",
              "      <th>adult_male</th>\n",
              "      <th>deck</th>\n",
              "      <th>embark_town</th>\n",
              "      <th>alive</th>\n",
              "      <th>alone</th>\n",
              "    </tr>\n",
              "  </thead>\n",
              "  <tbody>\n",
              "    <tr>\n",
              "      <th>886</th>\n",
              "      <td>0</td>\n",
              "      <td>2</td>\n",
              "      <td>male</td>\n",
              "      <td>27.0</td>\n",
              "      <td>0</td>\n",
              "      <td>0</td>\n",
              "      <td>13.00</td>\n",
              "      <td>S</td>\n",
              "      <td>Second</td>\n",
              "      <td>man</td>\n",
              "      <td>True</td>\n",
              "      <td>NaN</td>\n",
              "      <td>Southampton</td>\n",
              "      <td>no</td>\n",
              "      <td>True</td>\n",
              "    </tr>\n",
              "    <tr>\n",
              "      <th>887</th>\n",
              "      <td>1</td>\n",
              "      <td>1</td>\n",
              "      <td>female</td>\n",
              "      <td>19.0</td>\n",
              "      <td>0</td>\n",
              "      <td>0</td>\n",
              "      <td>30.00</td>\n",
              "      <td>S</td>\n",
              "      <td>First</td>\n",
              "      <td>woman</td>\n",
              "      <td>False</td>\n",
              "      <td>B</td>\n",
              "      <td>Southampton</td>\n",
              "      <td>yes</td>\n",
              "      <td>True</td>\n",
              "    </tr>\n",
              "    <tr>\n",
              "      <th>888</th>\n",
              "      <td>0</td>\n",
              "      <td>3</td>\n",
              "      <td>female</td>\n",
              "      <td>NaN</td>\n",
              "      <td>1</td>\n",
              "      <td>2</td>\n",
              "      <td>23.45</td>\n",
              "      <td>S</td>\n",
              "      <td>Third</td>\n",
              "      <td>woman</td>\n",
              "      <td>False</td>\n",
              "      <td>NaN</td>\n",
              "      <td>Southampton</td>\n",
              "      <td>no</td>\n",
              "      <td>False</td>\n",
              "    </tr>\n",
              "    <tr>\n",
              "      <th>889</th>\n",
              "      <td>1</td>\n",
              "      <td>1</td>\n",
              "      <td>male</td>\n",
              "      <td>26.0</td>\n",
              "      <td>0</td>\n",
              "      <td>0</td>\n",
              "      <td>30.00</td>\n",
              "      <td>C</td>\n",
              "      <td>First</td>\n",
              "      <td>man</td>\n",
              "      <td>True</td>\n",
              "      <td>C</td>\n",
              "      <td>Cherbourg</td>\n",
              "      <td>yes</td>\n",
              "      <td>True</td>\n",
              "    </tr>\n",
              "    <tr>\n",
              "      <th>890</th>\n",
              "      <td>0</td>\n",
              "      <td>3</td>\n",
              "      <td>male</td>\n",
              "      <td>32.0</td>\n",
              "      <td>0</td>\n",
              "      <td>0</td>\n",
              "      <td>7.75</td>\n",
              "      <td>Q</td>\n",
              "      <td>Third</td>\n",
              "      <td>man</td>\n",
              "      <td>True</td>\n",
              "      <td>NaN</td>\n",
              "      <td>Queenstown</td>\n",
              "      <td>no</td>\n",
              "      <td>True</td>\n",
              "    </tr>\n",
              "  </tbody>\n",
              "</table>\n",
              "</div>\n",
              "      <button class=\"colab-df-convert\" onclick=\"convertToInteractive('df-a56d4fb0-c762-432e-a37b-5923638ce769')\"\n",
              "              title=\"Convert this dataframe to an interactive table.\"\n",
              "              style=\"display:none;\">\n",
              "        \n",
              "  <svg xmlns=\"http://www.w3.org/2000/svg\" height=\"24px\"viewBox=\"0 0 24 24\"\n",
              "       width=\"24px\">\n",
              "    <path d=\"M0 0h24v24H0V0z\" fill=\"none\"/>\n",
              "    <path d=\"M18.56 5.44l.94 2.06.94-2.06 2.06-.94-2.06-.94-.94-2.06-.94 2.06-2.06.94zm-11 1L8.5 8.5l.94-2.06 2.06-.94-2.06-.94L8.5 2.5l-.94 2.06-2.06.94zm10 10l.94 2.06.94-2.06 2.06-.94-2.06-.94-.94-2.06-.94 2.06-2.06.94z\"/><path d=\"M17.41 7.96l-1.37-1.37c-.4-.4-.92-.59-1.43-.59-.52 0-1.04.2-1.43.59L10.3 9.45l-7.72 7.72c-.78.78-.78 2.05 0 2.83L4 21.41c.39.39.9.59 1.41.59.51 0 1.02-.2 1.41-.59l7.78-7.78 2.81-2.81c.8-.78.8-2.07 0-2.86zM5.41 20L4 18.59l7.72-7.72 1.47 1.35L5.41 20z\"/>\n",
              "  </svg>\n",
              "      </button>\n",
              "      \n",
              "  <style>\n",
              "    .colab-df-container {\n",
              "      display:flex;\n",
              "      flex-wrap:wrap;\n",
              "      gap: 12px;\n",
              "    }\n",
              "\n",
              "    .colab-df-convert {\n",
              "      background-color: #E8F0FE;\n",
              "      border: none;\n",
              "      border-radius: 50%;\n",
              "      cursor: pointer;\n",
              "      display: none;\n",
              "      fill: #1967D2;\n",
              "      height: 32px;\n",
              "      padding: 0 0 0 0;\n",
              "      width: 32px;\n",
              "    }\n",
              "\n",
              "    .colab-df-convert:hover {\n",
              "      background-color: #E2EBFA;\n",
              "      box-shadow: 0px 1px 2px rgba(60, 64, 67, 0.3), 0px 1px 3px 1px rgba(60, 64, 67, 0.15);\n",
              "      fill: #174EA6;\n",
              "    }\n",
              "\n",
              "    [theme=dark] .colab-df-convert {\n",
              "      background-color: #3B4455;\n",
              "      fill: #D2E3FC;\n",
              "    }\n",
              "\n",
              "    [theme=dark] .colab-df-convert:hover {\n",
              "      background-color: #434B5C;\n",
              "      box-shadow: 0px 1px 3px 1px rgba(0, 0, 0, 0.15);\n",
              "      filter: drop-shadow(0px 1px 2px rgba(0, 0, 0, 0.3));\n",
              "      fill: #FFFFFF;\n",
              "    }\n",
              "  </style>\n",
              "\n",
              "      <script>\n",
              "        const buttonEl =\n",
              "          document.querySelector('#df-a56d4fb0-c762-432e-a37b-5923638ce769 button.colab-df-convert');\n",
              "        buttonEl.style.display =\n",
              "          google.colab.kernel.accessAllowed ? 'block' : 'none';\n",
              "\n",
              "        async function convertToInteractive(key) {\n",
              "          const element = document.querySelector('#df-a56d4fb0-c762-432e-a37b-5923638ce769');\n",
              "          const dataTable =\n",
              "            await google.colab.kernel.invokeFunction('convertToInteractive',\n",
              "                                                     [key], {});\n",
              "          if (!dataTable) return;\n",
              "\n",
              "          const docLinkHtml = 'Like what you see? Visit the ' +\n",
              "            '<a target=\"_blank\" href=https://colab.research.google.com/notebooks/data_table.ipynb>data table notebook</a>'\n",
              "            + ' to learn more about interactive tables.';\n",
              "          element.innerHTML = '';\n",
              "          dataTable['output_type'] = 'display_data';\n",
              "          await google.colab.output.renderOutput(dataTable, element);\n",
              "          const docLink = document.createElement('div');\n",
              "          docLink.innerHTML = docLinkHtml;\n",
              "          element.appendChild(docLink);\n",
              "        }\n",
              "      </script>\n",
              "    </div>\n",
              "  </div>\n",
              "  "
            ]
          },
          "metadata": {},
          "execution_count": 43
        }
      ]
    },
    {
      "cell_type": "code",
      "source": [
        "df.info()"
      ],
      "metadata": {
        "colab": {
          "base_uri": "https://localhost:8080/"
        },
        "id": "rL1JvqjYTy8t",
        "outputId": "e02563c6-81cb-45ef-c7fd-f9f8c50a06d8"
      },
      "execution_count": null,
      "outputs": [
        {
          "output_type": "stream",
          "name": "stdout",
          "text": [
            "<class 'pandas.core.frame.DataFrame'>\n",
            "RangeIndex: 891 entries, 0 to 890\n",
            "Data columns (total 15 columns):\n",
            " #   Column       Non-Null Count  Dtype   \n",
            "---  ------       --------------  -----   \n",
            " 0   survived     891 non-null    int64   \n",
            " 1   pclass       891 non-null    int64   \n",
            " 2   sex          891 non-null    object  \n",
            " 3   age          714 non-null    float64 \n",
            " 4   sibsp        891 non-null    int64   \n",
            " 5   parch        891 non-null    int64   \n",
            " 6   fare         891 non-null    float64 \n",
            " 7   embarked     889 non-null    object  \n",
            " 8   class        891 non-null    category\n",
            " 9   who          891 non-null    object  \n",
            " 10  adult_male   891 non-null    bool    \n",
            " 11  deck         203 non-null    category\n",
            " 12  embark_town  889 non-null    object  \n",
            " 13  alive        891 non-null    object  \n",
            " 14  alone        891 non-null    bool    \n",
            "dtypes: bool(2), category(2), float64(2), int64(4), object(5)\n",
            "memory usage: 80.7+ KB\n"
          ]
        }
      ]
    },
    {
      "cell_type": "code",
      "source": [
        "df.describe(include='O') # object는 범주형 변수"
      ],
      "metadata": {
        "colab": {
          "base_uri": "https://localhost:8080/",
          "height": 175
        },
        "id": "3WxBUlJkSVM8",
        "outputId": "5daa5e7c-4e6c-4a5b-8c2d-01858c40f4f9"
      },
      "execution_count": null,
      "outputs": [
        {
          "output_type": "execute_result",
          "data": {
            "text/plain": [
              "         sex embarked  who  embark_town alive\n",
              "count    891      889  891          889   891\n",
              "unique     2        3    3            3     2\n",
              "top     male        S  man  Southampton    no\n",
              "freq     577      644  537          644   549"
            ],
            "text/html": [
              "\n",
              "  <div id=\"df-e7d6db3b-7978-4c3e-be4a-9cd5d2df106a\">\n",
              "    <div class=\"colab-df-container\">\n",
              "      <div>\n",
              "<style scoped>\n",
              "    .dataframe tbody tr th:only-of-type {\n",
              "        vertical-align: middle;\n",
              "    }\n",
              "\n",
              "    .dataframe tbody tr th {\n",
              "        vertical-align: top;\n",
              "    }\n",
              "\n",
              "    .dataframe thead th {\n",
              "        text-align: right;\n",
              "    }\n",
              "</style>\n",
              "<table border=\"1\" class=\"dataframe\">\n",
              "  <thead>\n",
              "    <tr style=\"text-align: right;\">\n",
              "      <th></th>\n",
              "      <th>sex</th>\n",
              "      <th>embarked</th>\n",
              "      <th>who</th>\n",
              "      <th>embark_town</th>\n",
              "      <th>alive</th>\n",
              "    </tr>\n",
              "  </thead>\n",
              "  <tbody>\n",
              "    <tr>\n",
              "      <th>count</th>\n",
              "      <td>891</td>\n",
              "      <td>889</td>\n",
              "      <td>891</td>\n",
              "      <td>889</td>\n",
              "      <td>891</td>\n",
              "    </tr>\n",
              "    <tr>\n",
              "      <th>unique</th>\n",
              "      <td>2</td>\n",
              "      <td>3</td>\n",
              "      <td>3</td>\n",
              "      <td>3</td>\n",
              "      <td>2</td>\n",
              "    </tr>\n",
              "    <tr>\n",
              "      <th>top</th>\n",
              "      <td>male</td>\n",
              "      <td>S</td>\n",
              "      <td>man</td>\n",
              "      <td>Southampton</td>\n",
              "      <td>no</td>\n",
              "    </tr>\n",
              "    <tr>\n",
              "      <th>freq</th>\n",
              "      <td>577</td>\n",
              "      <td>644</td>\n",
              "      <td>537</td>\n",
              "      <td>644</td>\n",
              "      <td>549</td>\n",
              "    </tr>\n",
              "  </tbody>\n",
              "</table>\n",
              "</div>\n",
              "      <button class=\"colab-df-convert\" onclick=\"convertToInteractive('df-e7d6db3b-7978-4c3e-be4a-9cd5d2df106a')\"\n",
              "              title=\"Convert this dataframe to an interactive table.\"\n",
              "              style=\"display:none;\">\n",
              "        \n",
              "  <svg xmlns=\"http://www.w3.org/2000/svg\" height=\"24px\"viewBox=\"0 0 24 24\"\n",
              "       width=\"24px\">\n",
              "    <path d=\"M0 0h24v24H0V0z\" fill=\"none\"/>\n",
              "    <path d=\"M18.56 5.44l.94 2.06.94-2.06 2.06-.94-2.06-.94-.94-2.06-.94 2.06-2.06.94zm-11 1L8.5 8.5l.94-2.06 2.06-.94-2.06-.94L8.5 2.5l-.94 2.06-2.06.94zm10 10l.94 2.06.94-2.06 2.06-.94-2.06-.94-.94-2.06-.94 2.06-2.06.94z\"/><path d=\"M17.41 7.96l-1.37-1.37c-.4-.4-.92-.59-1.43-.59-.52 0-1.04.2-1.43.59L10.3 9.45l-7.72 7.72c-.78.78-.78 2.05 0 2.83L4 21.41c.39.39.9.59 1.41.59.51 0 1.02-.2 1.41-.59l7.78-7.78 2.81-2.81c.8-.78.8-2.07 0-2.86zM5.41 20L4 18.59l7.72-7.72 1.47 1.35L5.41 20z\"/>\n",
              "  </svg>\n",
              "      </button>\n",
              "      \n",
              "  <style>\n",
              "    .colab-df-container {\n",
              "      display:flex;\n",
              "      flex-wrap:wrap;\n",
              "      gap: 12px;\n",
              "    }\n",
              "\n",
              "    .colab-df-convert {\n",
              "      background-color: #E8F0FE;\n",
              "      border: none;\n",
              "      border-radius: 50%;\n",
              "      cursor: pointer;\n",
              "      display: none;\n",
              "      fill: #1967D2;\n",
              "      height: 32px;\n",
              "      padding: 0 0 0 0;\n",
              "      width: 32px;\n",
              "    }\n",
              "\n",
              "    .colab-df-convert:hover {\n",
              "      background-color: #E2EBFA;\n",
              "      box-shadow: 0px 1px 2px rgba(60, 64, 67, 0.3), 0px 1px 3px 1px rgba(60, 64, 67, 0.15);\n",
              "      fill: #174EA6;\n",
              "    }\n",
              "\n",
              "    [theme=dark] .colab-df-convert {\n",
              "      background-color: #3B4455;\n",
              "      fill: #D2E3FC;\n",
              "    }\n",
              "\n",
              "    [theme=dark] .colab-df-convert:hover {\n",
              "      background-color: #434B5C;\n",
              "      box-shadow: 0px 1px 3px 1px rgba(0, 0, 0, 0.15);\n",
              "      filter: drop-shadow(0px 1px 2px rgba(0, 0, 0, 0.3));\n",
              "      fill: #FFFFFF;\n",
              "    }\n",
              "  </style>\n",
              "\n",
              "      <script>\n",
              "        const buttonEl =\n",
              "          document.querySelector('#df-e7d6db3b-7978-4c3e-be4a-9cd5d2df106a button.colab-df-convert');\n",
              "        buttonEl.style.display =\n",
              "          google.colab.kernel.accessAllowed ? 'block' : 'none';\n",
              "\n",
              "        async function convertToInteractive(key) {\n",
              "          const element = document.querySelector('#df-e7d6db3b-7978-4c3e-be4a-9cd5d2df106a');\n",
              "          const dataTable =\n",
              "            await google.colab.kernel.invokeFunction('convertToInteractive',\n",
              "                                                     [key], {});\n",
              "          if (!dataTable) return;\n",
              "\n",
              "          const docLinkHtml = 'Like what you see? Visit the ' +\n",
              "            '<a target=\"_blank\" href=https://colab.research.google.com/notebooks/data_table.ipynb>data table notebook</a>'\n",
              "            + ' to learn more about interactive tables.';\n",
              "          element.innerHTML = '';\n",
              "          dataTable['output_type'] = 'display_data';\n",
              "          await google.colab.output.renderOutput(dataTable, element);\n",
              "          const docLink = document.createElement('div');\n",
              "          docLink.innerHTML = docLinkHtml;\n",
              "          element.appendChild(docLink);\n",
              "        }\n",
              "      </script>\n",
              "    </div>\n",
              "  </div>\n",
              "  "
            ]
          },
          "metadata": {},
          "execution_count": 45
        }
      ]
    },
    {
      "cell_type": "markdown",
      "source": [
        "## 범주(카테고리) 데이터의 갯수 세"
      ],
      "metadata": {
        "id": "pZPyhQYdS4F3"
      }
    },
    {
      "cell_type": "code",
      "source": [
        "df['열이름'].value_counts()\n",
        "# 1. 중복되지 않는 고유값들 2. 각 값들의 빈도수\n",
        "# 빈도수가 높은 순서대로 내림차순"
      ],
      "metadata": {
        "colab": {
          "base_uri": "https://localhost:8080/"
        },
        "id": "mykUlgh2USjm",
        "outputId": "bf118f57-14db-42ea-9031-5d9d7e7a9b3e"
      },
      "execution_count": null,
      "outputs": [
        {
          "output_type": "execute_result",
          "data": {
            "text/plain": [
              "survived  pclass  sex     age   sibsp  parch  fare      embarked  class  who    adult_male  deck  embark_town  alive  alone\n",
              "1         1       female  24.0  0      0      69.3000   C         First  woman  False       B     Cherbourg    yes    True     2\n",
              "                          58.0  0      0      26.5500   S         First  woman  False       C     Southampton  yes    True     1\n",
              "                          49.0  0      0      25.9292   S         First  woman  False       D     Southampton  yes    True     1\n",
              "                                1      0      76.7292   C         First  woman  False       D     Cherbourg    yes    False    1\n",
              "                          50.0  0      1      247.5208  C         First  woman  False       B     Cherbourg    yes    False    1\n",
              "                                                                                                                              ..\n",
              "                          16.0  0      0      86.5000   S         First  woman  False       B     Southampton  yes    True     1\n",
              "                                       1      39.4000   S         First  woman  False       D     Southampton  yes    False    1\n",
              "                                              57.9792   C         First  woman  False       B     Cherbourg    yes    False    1\n",
              "                          17.0  1      0      57.0000   S         First  woman  False       B     Southampton  yes    False    1\n",
              "          3       male    32.0  0      0      8.0500    S         Third  man    True        E     Southampton  yes    True     1\n",
              "Length: 181, dtype: int64"
            ]
          },
          "metadata": {},
          "execution_count": 51
        }
      ]
    },
    {
      "cell_type": "code",
      "source": [
        "df['age'].value.count()"
      ],
      "metadata": {
        "colab": {
          "base_uri": "https://localhost:8080/",
          "height": 304
        },
        "id": "BaXHxQ-pU4pN",
        "outputId": "346954b7-d84f-469a-bd61-492bc91b02cd"
      },
      "execution_count": null,
      "outputs": [
        {
          "output_type": "error",
          "ename": "AttributeError",
          "evalue": "ignored",
          "traceback": [
            "\u001b[0;31m---------------------------------------------------------------------------\u001b[0m",
            "\u001b[0;31mAttributeError\u001b[0m                            Traceback (most recent call last)",
            "\u001b[0;32m<ipython-input-60-4780ef3df467>\u001b[0m in \u001b[0;36m<module>\u001b[0;34m\u001b[0m\n\u001b[0;32m----> 1\u001b[0;31m \u001b[0mdf\u001b[0m\u001b[0;34m[\u001b[0m\u001b[0;34m'age'\u001b[0m\u001b[0;34m]\u001b[0m\u001b[0;34m.\u001b[0m\u001b[0mvalue\u001b[0m\u001b[0;34m.\u001b[0m\u001b[0mcount\u001b[0m\u001b[0;34m(\u001b[0m\u001b[0;34m)\u001b[0m\u001b[0;34m\u001b[0m\u001b[0;34m\u001b[0m\u001b[0m\n\u001b[0m",
            "\u001b[0;32m/usr/local/lib/python3.8/dist-packages/pandas/core/generic.py\u001b[0m in \u001b[0;36m__getattr__\u001b[0;34m(self, name)\u001b[0m\n\u001b[1;32m   5485\u001b[0m         ):\n\u001b[1;32m   5486\u001b[0m             \u001b[0;32mreturn\u001b[0m \u001b[0mself\u001b[0m\u001b[0;34m[\u001b[0m\u001b[0mname\u001b[0m\u001b[0;34m]\u001b[0m\u001b[0;34m\u001b[0m\u001b[0;34m\u001b[0m\u001b[0m\n\u001b[0;32m-> 5487\u001b[0;31m         \u001b[0;32mreturn\u001b[0m \u001b[0mobject\u001b[0m\u001b[0;34m.\u001b[0m\u001b[0m__getattribute__\u001b[0m\u001b[0;34m(\u001b[0m\u001b[0mself\u001b[0m\u001b[0;34m,\u001b[0m \u001b[0mname\u001b[0m\u001b[0;34m)\u001b[0m\u001b[0;34m\u001b[0m\u001b[0;34m\u001b[0m\u001b[0m\n\u001b[0m\u001b[1;32m   5488\u001b[0m \u001b[0;34m\u001b[0m\u001b[0m\n\u001b[1;32m   5489\u001b[0m     \u001b[0;32mdef\u001b[0m \u001b[0m__setattr__\u001b[0m\u001b[0;34m(\u001b[0m\u001b[0mself\u001b[0m\u001b[0;34m,\u001b[0m \u001b[0mname\u001b[0m\u001b[0;34m:\u001b[0m \u001b[0mstr\u001b[0m\u001b[0;34m,\u001b[0m \u001b[0mvalue\u001b[0m\u001b[0;34m)\u001b[0m \u001b[0;34m->\u001b[0m \u001b[0;32mNone\u001b[0m\u001b[0;34m:\u001b[0m\u001b[0;34m\u001b[0m\u001b[0;34m\u001b[0m\u001b[0m\n",
            "\u001b[0;31mAttributeError\u001b[0m: 'Series' object has no attribute 'value'"
          ]
        }
      ]
    },
    {
      "cell_type": "code",
      "source": [
        "s.value_counts()"
      ],
      "metadata": {
        "colab": {
          "base_uri": "https://localhost:8080/"
        },
        "id": "2HsKUqS2UYPu",
        "outputId": "d7a59287-981a-4813-bbf1-b955c85813ce"
      },
      "execution_count": null,
      "outputs": [
        {
          "output_type": "execute_result",
          "data": {
            "text/plain": [
              "9904312    1\n",
              "3448737    1\n",
              "2890451    1\n",
              "2466052    1\n",
              "dtype: int64"
            ]
          },
          "metadata": {},
          "execution_count": 50
        }
      ]
    },
    {
      "cell_type": "code",
      "source": [
        "df['열이름'].value_counts()\n",
        "# 1. 중복되지 않는 고유값들 2. 각 값들의 빈도수\n",
        "# 빈도수가 높은 순서대로 내림차순"
      ],
      "metadata": {
        "colab": {
          "base_uri": "https://localhost:8080/",
          "height": 531
        },
        "id": "WuuTAQrgUwi8",
        "outputId": "bd881c8f-2ecd-4390-8ad7-bfb29fd2548a"
      },
      "execution_count": null,
      "outputs": [
        {
          "output_type": "error",
          "ename": "KeyError",
          "evalue": "ignored",
          "traceback": [
            "\u001b[0;31m---------------------------------------------------------------------------\u001b[0m",
            "\u001b[0;31mKeyError\u001b[0m                                  Traceback (most recent call last)",
            "\u001b[0;32m/usr/local/lib/python3.8/dist-packages/pandas/core/indexes/base.py\u001b[0m in \u001b[0;36mget_loc\u001b[0;34m(self, key, method, tolerance)\u001b[0m\n\u001b[1;32m   3360\u001b[0m             \u001b[0;32mtry\u001b[0m\u001b[0;34m:\u001b[0m\u001b[0;34m\u001b[0m\u001b[0;34m\u001b[0m\u001b[0m\n\u001b[0;32m-> 3361\u001b[0;31m                 \u001b[0;32mreturn\u001b[0m \u001b[0mself\u001b[0m\u001b[0;34m.\u001b[0m\u001b[0m_engine\u001b[0m\u001b[0;34m.\u001b[0m\u001b[0mget_loc\u001b[0m\u001b[0;34m(\u001b[0m\u001b[0mcasted_key\u001b[0m\u001b[0;34m)\u001b[0m\u001b[0;34m\u001b[0m\u001b[0;34m\u001b[0m\u001b[0m\n\u001b[0m\u001b[1;32m   3362\u001b[0m             \u001b[0;32mexcept\u001b[0m \u001b[0mKeyError\u001b[0m \u001b[0;32mas\u001b[0m \u001b[0merr\u001b[0m\u001b[0;34m:\u001b[0m\u001b[0;34m\u001b[0m\u001b[0;34m\u001b[0m\u001b[0m\n",
            "\u001b[0;32m/usr/local/lib/python3.8/dist-packages/pandas/_libs/index.pyx\u001b[0m in \u001b[0;36mpandas._libs.index.IndexEngine.get_loc\u001b[0;34m()\u001b[0m\n",
            "\u001b[0;32m/usr/local/lib/python3.8/dist-packages/pandas/_libs/index.pyx\u001b[0m in \u001b[0;36mpandas._libs.index.IndexEngine.get_loc\u001b[0;34m()\u001b[0m\n",
            "\u001b[0;32mpandas/_libs/hashtable_class_helper.pxi\u001b[0m in \u001b[0;36mpandas._libs.hashtable.PyObjectHashTable.get_item\u001b[0;34m()\u001b[0m\n",
            "\u001b[0;32mpandas/_libs/hashtable_class_helper.pxi\u001b[0m in \u001b[0;36mpandas._libs.hashtable.PyObjectHashTable.get_item\u001b[0;34m()\u001b[0m\n",
            "\u001b[0;31mKeyError\u001b[0m: '열이름'",
            "\nThe above exception was the direct cause of the following exception:\n",
            "\u001b[0;31mKeyError\u001b[0m                                  Traceback (most recent call last)",
            "\u001b[0;32m<ipython-input-61-88df3accbc01>\u001b[0m in \u001b[0;36m<module>\u001b[0;34m\u001b[0m\n\u001b[0;32m----> 1\u001b[0;31m \u001b[0mdf\u001b[0m\u001b[0;34m[\u001b[0m\u001b[0;34m'열이름'\u001b[0m\u001b[0;34m]\u001b[0m\u001b[0;34m.\u001b[0m\u001b[0mvalue_counts\u001b[0m\u001b[0;34m(\u001b[0m\u001b[0;34m)\u001b[0m\u001b[0;34m\u001b[0m\u001b[0;34m\u001b[0m\u001b[0m\n\u001b[0m\u001b[1;32m      2\u001b[0m \u001b[0;31m# 1. 중복되지 않는 고유값들 2. 각 값들의 빈도수\u001b[0m\u001b[0;34m\u001b[0m\u001b[0;34m\u001b[0m\u001b[0;34m\u001b[0m\u001b[0m\n\u001b[1;32m      3\u001b[0m \u001b[0;31m# 빈도수가 높은 순서대로 내림차순\u001b[0m\u001b[0;34m\u001b[0m\u001b[0;34m\u001b[0m\u001b[0;34m\u001b[0m\u001b[0m\n",
            "\u001b[0;32m/usr/local/lib/python3.8/dist-packages/pandas/core/frame.py\u001b[0m in \u001b[0;36m__getitem__\u001b[0;34m(self, key)\u001b[0m\n\u001b[1;32m   3456\u001b[0m             \u001b[0;32mif\u001b[0m \u001b[0mself\u001b[0m\u001b[0;34m.\u001b[0m\u001b[0mcolumns\u001b[0m\u001b[0;34m.\u001b[0m\u001b[0mnlevels\u001b[0m \u001b[0;34m>\u001b[0m \u001b[0;36m1\u001b[0m\u001b[0;34m:\u001b[0m\u001b[0;34m\u001b[0m\u001b[0;34m\u001b[0m\u001b[0m\n\u001b[1;32m   3457\u001b[0m                 \u001b[0;32mreturn\u001b[0m \u001b[0mself\u001b[0m\u001b[0;34m.\u001b[0m\u001b[0m_getitem_multilevel\u001b[0m\u001b[0;34m(\u001b[0m\u001b[0mkey\u001b[0m\u001b[0;34m)\u001b[0m\u001b[0;34m\u001b[0m\u001b[0;34m\u001b[0m\u001b[0m\n\u001b[0;32m-> 3458\u001b[0;31m             \u001b[0mindexer\u001b[0m \u001b[0;34m=\u001b[0m \u001b[0mself\u001b[0m\u001b[0;34m.\u001b[0m\u001b[0mcolumns\u001b[0m\u001b[0;34m.\u001b[0m\u001b[0mget_loc\u001b[0m\u001b[0;34m(\u001b[0m\u001b[0mkey\u001b[0m\u001b[0;34m)\u001b[0m\u001b[0;34m\u001b[0m\u001b[0;34m\u001b[0m\u001b[0m\n\u001b[0m\u001b[1;32m   3459\u001b[0m             \u001b[0;32mif\u001b[0m \u001b[0mis_integer\u001b[0m\u001b[0;34m(\u001b[0m\u001b[0mindexer\u001b[0m\u001b[0;34m)\u001b[0m\u001b[0;34m:\u001b[0m\u001b[0;34m\u001b[0m\u001b[0;34m\u001b[0m\u001b[0m\n\u001b[1;32m   3460\u001b[0m                 \u001b[0mindexer\u001b[0m \u001b[0;34m=\u001b[0m \u001b[0;34m[\u001b[0m\u001b[0mindexer\u001b[0m\u001b[0;34m]\u001b[0m\u001b[0;34m\u001b[0m\u001b[0;34m\u001b[0m\u001b[0m\n",
            "\u001b[0;32m/usr/local/lib/python3.8/dist-packages/pandas/core/indexes/base.py\u001b[0m in \u001b[0;36mget_loc\u001b[0;34m(self, key, method, tolerance)\u001b[0m\n\u001b[1;32m   3361\u001b[0m                 \u001b[0;32mreturn\u001b[0m \u001b[0mself\u001b[0m\u001b[0;34m.\u001b[0m\u001b[0m_engine\u001b[0m\u001b[0;34m.\u001b[0m\u001b[0mget_loc\u001b[0m\u001b[0;34m(\u001b[0m\u001b[0mcasted_key\u001b[0m\u001b[0;34m)\u001b[0m\u001b[0;34m\u001b[0m\u001b[0;34m\u001b[0m\u001b[0m\n\u001b[1;32m   3362\u001b[0m             \u001b[0;32mexcept\u001b[0m \u001b[0mKeyError\u001b[0m \u001b[0;32mas\u001b[0m \u001b[0merr\u001b[0m\u001b[0;34m:\u001b[0m\u001b[0;34m\u001b[0m\u001b[0;34m\u001b[0m\u001b[0m\n\u001b[0;32m-> 3363\u001b[0;31m                 \u001b[0;32mraise\u001b[0m \u001b[0mKeyError\u001b[0m\u001b[0;34m(\u001b[0m\u001b[0mkey\u001b[0m\u001b[0;34m)\u001b[0m \u001b[0;32mfrom\u001b[0m \u001b[0merr\u001b[0m\u001b[0;34m\u001b[0m\u001b[0;34m\u001b[0m\u001b[0m\n\u001b[0m\u001b[1;32m   3364\u001b[0m \u001b[0;34m\u001b[0m\u001b[0m\n\u001b[1;32m   3365\u001b[0m         \u001b[0;32mif\u001b[0m \u001b[0mis_scalar\u001b[0m\u001b[0;34m(\u001b[0m\u001b[0mkey\u001b[0m\u001b[0;34m)\u001b[0m \u001b[0;32mand\u001b[0m \u001b[0misna\u001b[0m\u001b[0;34m(\u001b[0m\u001b[0mkey\u001b[0m\u001b[0;34m)\u001b[0m \u001b[0;32mand\u001b[0m \u001b[0;32mnot\u001b[0m \u001b[0mself\u001b[0m\u001b[0;34m.\u001b[0m\u001b[0mhasnans\u001b[0m\u001b[0;34m:\u001b[0m\u001b[0;34m\u001b[0m\u001b[0;34m\u001b[0m\u001b[0m\n",
            "\u001b[0;31mKeyError\u001b[0m: '열이름'"
          ]
        }
      ]
    },
    {
      "cell_type": "markdown",
      "source": [
        "## 정렬\n",
        "\n",
        "> index 기준으로 정렬\n",
        " * df.sort_index : 행 인덱스를 기준으로, 큰지 작은지 결정\n",
        " * axis가 1인 경우 열 인덱스\n",
        "\n",
        ">>series의 경우\n",
        " * series.sort_index() 로 정렬\n",
        " * ascending = True/False : 오름차순/내림차순\n",
        "\n",
        "> value 기준으로 정렬\n",
        " * df.sort_values() : by 기준으로 될 열 이름을 넣습니다\n",
        " * s.sort_values()\n",
        " * df.sort_values(by = '열이름1','열이름2')"
      ],
      "metadata": {
        "id": "KQDU2f0vVfH8"
      }
    },
    {
      "cell_type": "markdown",
      "source": [
        "## 합계\n",
        "\n",
        "* df는 열, 행방향이 있습니다. axis를 기준으로 생각하세요.\n",
        "\n",
        "* df.sum() : 열 기준 (axis = 0) / 열을 남기고 행을 축소해줍니다.\n",
        "\n",
        "* df.sum(axis=1) : 행 방향 합계. 행을 남기고 열을 축소해줍니다.\n",
        "\n",
        "* df.mean() : 열 내부의 행들간의 합계. 행 인덱스가 열 이름으로 붙어서 나옵니다.\n",
        "* df.mean(axis = 1) : 행 내부의 열들간의 합계. 열 인덱스가 행 이름으로 붙어서 나옵니다."
      ],
      "metadata": {
        "id": "eZgKmSdqWWe0"
      }
    },
    {
      "cell_type": "markdown",
      "source": [
        "### `apply` 변환\n",
        "\n",
        "* sum : 합계 , mean : 평균 ... \n",
        "* 임의 정의된 함수를 행/열 단위로 적용하고 싶은 경우\n",
        "* df.apply(함수, axis = 축) \n",
        "* df[열 이름].apply(...) : 특정한 열에 대해서 처리\n",
        " axis = 1이면 행\n",
        " lambda row(행) : row. 컬럼들을 호출해서 통계적 작업을 할 수 있습니다."
      ],
      "metadata": {
        "id": "iO-xfDJFWvIA"
      }
    },
    {
      "cell_type": "markdown",
      "source": [
        "1. 함수는 이미 정의된 함수를 씁니다.\n",
        "* print, ... apply : 인자로 값 한 개를 받는 함수\n",
        "* axis = 0 : 열 단위\n",
        "df.apply(...) : 모든 열에 대해서 처리\n",
        "* axis = 1 : 행 단위\n",
        "\n",
        "🏮 axis 0과 axis1은 차이가 있다는 점이 쟁점"
      ],
      "metadata": {
        "id": "l6SSUJjCbV0q"
      }
    },
    {
      "cell_type": "code",
      "source": [
        "def fun1(x) :\n",
        "  return ..."
      ],
      "metadata": {
        "id": "gXvpltqQb35k"
      },
      "execution_count": null,
      "outputs": []
    },
    {
      "cell_type": "markdown",
      "source": [
        "### 람다 함수 사용\n",
        ">  구조 <br>\n",
        "lambda (인자들) : 인자들을 사용한 표현식\n",
        "\n",
        "lambda x : x.표현식 (표현식에는 return이 들어감) \n"
      ],
      "metadata": {
        "id": "lpiZ5GsZb51q"
      }
    },
    {
      "cell_type": "markdown",
      "source": [
        "### fillna(...)\n",
        "\n",
        "* df이나 series 상에서의 NaN 값들에 특정한 값들을 대입해서 만듭니다\n",
        "\n",
        "* df.fillna 나 series.fillna\n",
        "\n",
        "df[열].astype(자료형)\n",
        "df.astype(자료형)\n",
        "* 원하는 자료형으로 변환\n",
        "\n"
      ],
      "metadata": {
        "id": "XeW4CSeBekhg"
      }
    },
    {
      "cell_type": "markdown",
      "source": [
        "* df.set_index('인덱스가 될 기존 열 이름')\n",
        ": 이전에 있던 인덱스가 지워지고 지정한 인덱스가 들어갑니다.\n",
        "\n",
        "* df.reset_index(...)\n",
        ": 현재 인덱스를 지우거나 새로운 열로 빼고, 0부터 시작하는 정수 순서 인덱스로 바꿔줍니다.\n",
        "<br>df.reset_index(drop = True/False)\n",
        "drop은 삭제해주겠다는 의미 (default:False)\n",
        "<br>True : 기존에 인덱스가 새로운 열이 안되고 삭제\n",
        "<br>False(Default) : 기존의 인덱스가 새로운 열로 추가\n"
      ],
      "metadata": {
        "id": "P6QqJaNMfHSV"
      }
    },
    {
      "cell_type": "markdown",
      "source": [
        "### 데이터 프레임의 합성\n",
        "\n",
        "* 결합, 연결을 합성이라 합니다.\n",
        "* concatenate, join, merge\n",
        "* concattenate : 행 또는 열의 모양이 일치하는 두 데이터프레임 간의 연결입니다\n",
        "* merge, join : 특정한 키(열)을 기준으로 다른 두가지 모양의 데이터프레임을 합쳐줍니다\n",
        "> 1. 두 개의 데이터프레임이 같은 숫자의 행을 가지고 1개씩의 키값을 가졌을 때\n",
        "<br>1 : 1로 하나씩 짝지어짐<br>\n",
        "> 2. 두 개의 데이터프레임이 키로 사용하는 열이 공통의 원소를 가지고 있으나, 원소의 갯수가 차이가 있을 때 사용<br> 1:M로 복제되어서 한 개인 것이 나머지 것들을 다 채움\n",
        "> 3.한쪽 데이터프레임에는 있고, 다른 쪽에는 없을 때(pd.merge(left, right, how=?)\n",
        "a. inner join : 둘 다 존재할 때만 남기겠다.\n",
        "b. (full) outer join : 한 쪽에라도 존재하면 남기겠다\n",
        "c. left (outer) join, right (outer) join : 지정된 방향의 데이터프레임에 존재할 때만 남기겠다.\n",
        "   * 게시판 : 게시물 ↔ 댓글 / 게시판을 날리고 싶어서 게시물을 삭제했다면, 댓글은 굳이 신경쓰지 않아도 삭제되는 것입니다. left join은 이와 같습니다.\n",
        "   * 남성/ 여성 - 연결 → 여성 0\n",
        "* 연결할 때 기준이 되는 열을 조작해야 합니다 = on : 특정한 키(열 이름), 키의 리스트(left_on, right_on)과 같은 다름으로 지정할 수 있음\n",
        "\n",
        "* 연결 기준이 되는 인덱스 쪽으로 방향_index=True\n",
        "* df.join(...) \n",
        "  * 연결을 행 단위로 인덱스가 겹칠경우 연결합니다\n",
        "  * df가 left 역할을 합니다\n",
        "\n"
      ],
      "metadata": {
        "id": "tgxQpXW3t1ml"
      }
    },
    {
      "cell_type": "markdown",
      "source": [
        "### concat (합치려는 방향의 모양만 같으면 됩니다)\n",
        "\n",
        "* numpy에서 concatenate와 유사\n",
        "* pd.concat([...]) : 합치려는 데이터프레임과 유사한 모양의 데이터프레임,\n",
        "시리즈의 경우 유사한 시리즈를 리스트로 넣어줍니다.\n",
        "* axis = 0 : 수직 방향으로 합체\n",
        "* axis = 1 : 수평 방향으로 합체"
      ],
      "metadata": {
        "id": "gHXo5YXmySzm"
      }
    },
    {
      "cell_type": "code",
      "source": [
        "s1 = pd.Series([0, 1], index=['A', 'B'])\n",
        "s2 = pd.Series([2, 3, 4], index=['A', 'B', 'C'])\n",
        "s1, s2"
      ],
      "metadata": {
        "colab": {
          "base_uri": "https://localhost:8080/"
        },
        "id": "1_9E0uQN2Axx",
        "outputId": "6f67c7f9-e147-4c55-fef4-2019e8878c7d"
      },
      "execution_count": 7,
      "outputs": [
        {
          "output_type": "execute_result",
          "data": {
            "text/plain": [
              "(A    0\n",
              " B    1\n",
              " dtype: int64, A    2\n",
              " B    3\n",
              " C    4\n",
              " dtype: int64)"
            ]
          },
          "metadata": {},
          "execution_count": 7
        }
      ]
    },
    {
      "cell_type": "code",
      "source": [
        "# pd.concat 첫번째\n",
        "pd.concat([s1, s2])\n",
        "pd.concat([s1, s2], axis=0)"
      ],
      "metadata": {
        "colab": {
          "base_uri": "https://localhost:8080/"
        },
        "id": "9AZSFICy2m-c",
        "outputId": "4cd9ec6d-807d-426c-bb2d-509fb8f18cdd"
      },
      "execution_count": 4,
      "outputs": [
        {
          "output_type": "execute_result",
          "data": {
            "text/plain": [
              "A    0\n",
              "B    1\n",
              "A    2\n",
              "B    3\n",
              "C    4\n",
              "dtype: int64"
            ]
          },
          "metadata": {},
          "execution_count": 4
        }
      ]
    },
    {
      "cell_type": "code",
      "source": [
        "# pd.concat 두번째\n",
        "pd.concat([s1, s2], axis=1)"
      ],
      "metadata": {
        "colab": {
          "base_uri": "https://localhost:8080/",
          "height": 143
        },
        "id": "z7JrwQPM2ofL",
        "outputId": "2d048f25-cd30-4f87-ec67-d1992f3e7bdd"
      },
      "execution_count": 8,
      "outputs": [
        {
          "output_type": "execute_result",
          "data": {
            "text/plain": [
              "     0  1\n",
              "A  0.0  2\n",
              "B  1.0  3\n",
              "C  NaN  4"
            ],
            "text/html": [
              "\n",
              "  <div id=\"df-f38711d2-8cd0-4f72-a8fc-02b83279e460\">\n",
              "    <div class=\"colab-df-container\">\n",
              "      <div>\n",
              "<style scoped>\n",
              "    .dataframe tbody tr th:only-of-type {\n",
              "        vertical-align: middle;\n",
              "    }\n",
              "\n",
              "    .dataframe tbody tr th {\n",
              "        vertical-align: top;\n",
              "    }\n",
              "\n",
              "    .dataframe thead th {\n",
              "        text-align: right;\n",
              "    }\n",
              "</style>\n",
              "<table border=\"1\" class=\"dataframe\">\n",
              "  <thead>\n",
              "    <tr style=\"text-align: right;\">\n",
              "      <th></th>\n",
              "      <th>0</th>\n",
              "      <th>1</th>\n",
              "    </tr>\n",
              "  </thead>\n",
              "  <tbody>\n",
              "    <tr>\n",
              "      <th>A</th>\n",
              "      <td>0.0</td>\n",
              "      <td>2</td>\n",
              "    </tr>\n",
              "    <tr>\n",
              "      <th>B</th>\n",
              "      <td>1.0</td>\n",
              "      <td>3</td>\n",
              "    </tr>\n",
              "    <tr>\n",
              "      <th>C</th>\n",
              "      <td>NaN</td>\n",
              "      <td>4</td>\n",
              "    </tr>\n",
              "  </tbody>\n",
              "</table>\n",
              "</div>\n",
              "      <button class=\"colab-df-convert\" onclick=\"convertToInteractive('df-f38711d2-8cd0-4f72-a8fc-02b83279e460')\"\n",
              "              title=\"Convert this dataframe to an interactive table.\"\n",
              "              style=\"display:none;\">\n",
              "        \n",
              "  <svg xmlns=\"http://www.w3.org/2000/svg\" height=\"24px\"viewBox=\"0 0 24 24\"\n",
              "       width=\"24px\">\n",
              "    <path d=\"M0 0h24v24H0V0z\" fill=\"none\"/>\n",
              "    <path d=\"M18.56 5.44l.94 2.06.94-2.06 2.06-.94-2.06-.94-.94-2.06-.94 2.06-2.06.94zm-11 1L8.5 8.5l.94-2.06 2.06-.94-2.06-.94L8.5 2.5l-.94 2.06-2.06.94zm10 10l.94 2.06.94-2.06 2.06-.94-2.06-.94-.94-2.06-.94 2.06-2.06.94z\"/><path d=\"M17.41 7.96l-1.37-1.37c-.4-.4-.92-.59-1.43-.59-.52 0-1.04.2-1.43.59L10.3 9.45l-7.72 7.72c-.78.78-.78 2.05 0 2.83L4 21.41c.39.39.9.59 1.41.59.51 0 1.02-.2 1.41-.59l7.78-7.78 2.81-2.81c.8-.78.8-2.07 0-2.86zM5.41 20L4 18.59l7.72-7.72 1.47 1.35L5.41 20z\"/>\n",
              "  </svg>\n",
              "      </button>\n",
              "      \n",
              "  <style>\n",
              "    .colab-df-container {\n",
              "      display:flex;\n",
              "      flex-wrap:wrap;\n",
              "      gap: 12px;\n",
              "    }\n",
              "\n",
              "    .colab-df-convert {\n",
              "      background-color: #E8F0FE;\n",
              "      border: none;\n",
              "      border-radius: 50%;\n",
              "      cursor: pointer;\n",
              "      display: none;\n",
              "      fill: #1967D2;\n",
              "      height: 32px;\n",
              "      padding: 0 0 0 0;\n",
              "      width: 32px;\n",
              "    }\n",
              "\n",
              "    .colab-df-convert:hover {\n",
              "      background-color: #E2EBFA;\n",
              "      box-shadow: 0px 1px 2px rgba(60, 64, 67, 0.3), 0px 1px 3px 1px rgba(60, 64, 67, 0.15);\n",
              "      fill: #174EA6;\n",
              "    }\n",
              "\n",
              "    [theme=dark] .colab-df-convert {\n",
              "      background-color: #3B4455;\n",
              "      fill: #D2E3FC;\n",
              "    }\n",
              "\n",
              "    [theme=dark] .colab-df-convert:hover {\n",
              "      background-color: #434B5C;\n",
              "      box-shadow: 0px 1px 3px 1px rgba(0, 0, 0, 0.15);\n",
              "      filter: drop-shadow(0px 1px 2px rgba(0, 0, 0, 0.3));\n",
              "      fill: #FFFFFF;\n",
              "    }\n",
              "  </style>\n",
              "\n",
              "      <script>\n",
              "        const buttonEl =\n",
              "          document.querySelector('#df-f38711d2-8cd0-4f72-a8fc-02b83279e460 button.colab-df-convert');\n",
              "        buttonEl.style.display =\n",
              "          google.colab.kernel.accessAllowed ? 'block' : 'none';\n",
              "\n",
              "        async function convertToInteractive(key) {\n",
              "          const element = document.querySelector('#df-f38711d2-8cd0-4f72-a8fc-02b83279e460');\n",
              "          const dataTable =\n",
              "            await google.colab.kernel.invokeFunction('convertToInteractive',\n",
              "                                                     [key], {});\n",
              "          if (!dataTable) return;\n",
              "\n",
              "          const docLinkHtml = 'Like what you see? Visit the ' +\n",
              "            '<a target=\"_blank\" href=https://colab.research.google.com/notebooks/data_table.ipynb>data table notebook</a>'\n",
              "            + ' to learn more about interactive tables.';\n",
              "          element.innerHTML = '';\n",
              "          dataTable['output_type'] = 'display_data';\n",
              "          await google.colab.output.renderOutput(dataTable, element);\n",
              "          const docLink = document.createElement('div');\n",
              "          docLink.innerHTML = docLinkHtml;\n",
              "          element.appendChild(docLink);\n",
              "        }\n",
              "      </script>\n",
              "    </div>\n",
              "  </div>\n",
              "  "
            ]
          },
          "metadata": {},
          "execution_count": 8
        }
      ]
    },
    {
      "cell_type": "markdown",
      "source": [
        "## 피벗테이블과 그룹분석"
      ],
      "metadata": {
        "id": "07DCsDyw2tJJ"
      }
    },
    {
      "cell_type": "markdown",
      "source": [
        "### 피벗테이블\n",
        "\n",
        "1. 여러 개의 열 중에서 2개를 선택하여, 열을 기준으로 데이터를 강조하겠다"
      ],
      "metadata": {
        "id": "D8IwxKwr35FD"
      }
    },
    {
      "cell_type": "markdown",
      "source": [
        "* 보고나서 집어던지는 보고서"
      ],
      "metadata": {
        "id": "hiFSgqR74ZA3"
      }
    },
    {
      "cell_type": "code",
      "source": [
        "data = {\n",
        "    \"도시\": [\"서울\", \"서울\", \"서울\", \"부산\", \"부산\", \"부산\", \"인천\", \"인천\"],\n",
        "    \"연도\": [\"2015\", \"2010\", \"2005\", \"2015\", \"2010\", \"2005\", \"2015\", \"2010\"],\n",
        "    \"인구\": [9904312, 9631482, 9762546, 3448737, 3393191, 3512547, 2890451, 263203],\n",
        "    \"지역\": [\"수도권\", \"수도권\", \"수도권\", \"경상권\", \"경상권\", \"경상권\", \"수도권\", \"수도권\"]\n",
        "}\n",
        "columns = [\"도시\", \"연도\", \"인구\", \"지역\"]\n",
        "df1 = pd.DataFrame(data, columns = columns)\n",
        "df1"
      ],
      "metadata": {
        "colab": {
          "base_uri": "https://localhost:8080/",
          "height": 300
        },
        "id": "xoWFYhsg4Na9",
        "outputId": "e029aefb-755a-44ea-841e-49a6d9ae85e2"
      },
      "execution_count": 13,
      "outputs": [
        {
          "output_type": "execute_result",
          "data": {
            "text/plain": [
              "   도시    연도       인구   지역\n",
              "0  서울  2015  9904312  수도권\n",
              "1  서울  2010  9631482  수도권\n",
              "2  서울  2005  9762546  수도권\n",
              "3  부산  2015  3448737  경상권\n",
              "4  부산  2010  3393191  경상권\n",
              "5  부산  2005  3512547  경상권\n",
              "6  인천  2015  2890451  수도권\n",
              "7  인천  2010   263203  수도권"
            ],
            "text/html": [
              "\n",
              "  <div id=\"df-0140179f-a3ea-4cfe-add6-f50734090e68\">\n",
              "    <div class=\"colab-df-container\">\n",
              "      <div>\n",
              "<style scoped>\n",
              "    .dataframe tbody tr th:only-of-type {\n",
              "        vertical-align: middle;\n",
              "    }\n",
              "\n",
              "    .dataframe tbody tr th {\n",
              "        vertical-align: top;\n",
              "    }\n",
              "\n",
              "    .dataframe thead th {\n",
              "        text-align: right;\n",
              "    }\n",
              "</style>\n",
              "<table border=\"1\" class=\"dataframe\">\n",
              "  <thead>\n",
              "    <tr style=\"text-align: right;\">\n",
              "      <th></th>\n",
              "      <th>도시</th>\n",
              "      <th>연도</th>\n",
              "      <th>인구</th>\n",
              "      <th>지역</th>\n",
              "    </tr>\n",
              "  </thead>\n",
              "  <tbody>\n",
              "    <tr>\n",
              "      <th>0</th>\n",
              "      <td>서울</td>\n",
              "      <td>2015</td>\n",
              "      <td>9904312</td>\n",
              "      <td>수도권</td>\n",
              "    </tr>\n",
              "    <tr>\n",
              "      <th>1</th>\n",
              "      <td>서울</td>\n",
              "      <td>2010</td>\n",
              "      <td>9631482</td>\n",
              "      <td>수도권</td>\n",
              "    </tr>\n",
              "    <tr>\n",
              "      <th>2</th>\n",
              "      <td>서울</td>\n",
              "      <td>2005</td>\n",
              "      <td>9762546</td>\n",
              "      <td>수도권</td>\n",
              "    </tr>\n",
              "    <tr>\n",
              "      <th>3</th>\n",
              "      <td>부산</td>\n",
              "      <td>2015</td>\n",
              "      <td>3448737</td>\n",
              "      <td>경상권</td>\n",
              "    </tr>\n",
              "    <tr>\n",
              "      <th>4</th>\n",
              "      <td>부산</td>\n",
              "      <td>2010</td>\n",
              "      <td>3393191</td>\n",
              "      <td>경상권</td>\n",
              "    </tr>\n",
              "    <tr>\n",
              "      <th>5</th>\n",
              "      <td>부산</td>\n",
              "      <td>2005</td>\n",
              "      <td>3512547</td>\n",
              "      <td>경상권</td>\n",
              "    </tr>\n",
              "    <tr>\n",
              "      <th>6</th>\n",
              "      <td>인천</td>\n",
              "      <td>2015</td>\n",
              "      <td>2890451</td>\n",
              "      <td>수도권</td>\n",
              "    </tr>\n",
              "    <tr>\n",
              "      <th>7</th>\n",
              "      <td>인천</td>\n",
              "      <td>2010</td>\n",
              "      <td>263203</td>\n",
              "      <td>수도권</td>\n",
              "    </tr>\n",
              "  </tbody>\n",
              "</table>\n",
              "</div>\n",
              "      <button class=\"colab-df-convert\" onclick=\"convertToInteractive('df-0140179f-a3ea-4cfe-add6-f50734090e68')\"\n",
              "              title=\"Convert this dataframe to an interactive table.\"\n",
              "              style=\"display:none;\">\n",
              "        \n",
              "  <svg xmlns=\"http://www.w3.org/2000/svg\" height=\"24px\"viewBox=\"0 0 24 24\"\n",
              "       width=\"24px\">\n",
              "    <path d=\"M0 0h24v24H0V0z\" fill=\"none\"/>\n",
              "    <path d=\"M18.56 5.44l.94 2.06.94-2.06 2.06-.94-2.06-.94-.94-2.06-.94 2.06-2.06.94zm-11 1L8.5 8.5l.94-2.06 2.06-.94-2.06-.94L8.5 2.5l-.94 2.06-2.06.94zm10 10l.94 2.06.94-2.06 2.06-.94-2.06-.94-.94-2.06-.94 2.06-2.06.94z\"/><path d=\"M17.41 7.96l-1.37-1.37c-.4-.4-.92-.59-1.43-.59-.52 0-1.04.2-1.43.59L10.3 9.45l-7.72 7.72c-.78.78-.78 2.05 0 2.83L4 21.41c.39.39.9.59 1.41.59.51 0 1.02-.2 1.41-.59l7.78-7.78 2.81-2.81c.8-.78.8-2.07 0-2.86zM5.41 20L4 18.59l7.72-7.72 1.47 1.35L5.41 20z\"/>\n",
              "  </svg>\n",
              "      </button>\n",
              "      \n",
              "  <style>\n",
              "    .colab-df-container {\n",
              "      display:flex;\n",
              "      flex-wrap:wrap;\n",
              "      gap: 12px;\n",
              "    }\n",
              "\n",
              "    .colab-df-convert {\n",
              "      background-color: #E8F0FE;\n",
              "      border: none;\n",
              "      border-radius: 50%;\n",
              "      cursor: pointer;\n",
              "      display: none;\n",
              "      fill: #1967D2;\n",
              "      height: 32px;\n",
              "      padding: 0 0 0 0;\n",
              "      width: 32px;\n",
              "    }\n",
              "\n",
              "    .colab-df-convert:hover {\n",
              "      background-color: #E2EBFA;\n",
              "      box-shadow: 0px 1px 2px rgba(60, 64, 67, 0.3), 0px 1px 3px 1px rgba(60, 64, 67, 0.15);\n",
              "      fill: #174EA6;\n",
              "    }\n",
              "\n",
              "    [theme=dark] .colab-df-convert {\n",
              "      background-color: #3B4455;\n",
              "      fill: #D2E3FC;\n",
              "    }\n",
              "\n",
              "    [theme=dark] .colab-df-convert:hover {\n",
              "      background-color: #434B5C;\n",
              "      box-shadow: 0px 1px 3px 1px rgba(0, 0, 0, 0.15);\n",
              "      filter: drop-shadow(0px 1px 2px rgba(0, 0, 0, 0.3));\n",
              "      fill: #FFFFFF;\n",
              "    }\n",
              "  </style>\n",
              "\n",
              "      <script>\n",
              "        const buttonEl =\n",
              "          document.querySelector('#df-0140179f-a3ea-4cfe-add6-f50734090e68 button.colab-df-convert');\n",
              "        buttonEl.style.display =\n",
              "          google.colab.kernel.accessAllowed ? 'block' : 'none';\n",
              "\n",
              "        async function convertToInteractive(key) {\n",
              "          const element = document.querySelector('#df-0140179f-a3ea-4cfe-add6-f50734090e68');\n",
              "          const dataTable =\n",
              "            await google.colab.kernel.invokeFunction('convertToInteractive',\n",
              "                                                     [key], {});\n",
              "          if (!dataTable) return;\n",
              "\n",
              "          const docLinkHtml = 'Like what you see? Visit the ' +\n",
              "            '<a target=\"_blank\" href=https://colab.research.google.com/notebooks/data_table.ipynb>data table notebook</a>'\n",
              "            + ' to learn more about interactive tables.';\n",
              "          element.innerHTML = '';\n",
              "          dataTable['output_type'] = 'display_data';\n",
              "          await google.colab.output.renderOutput(dataTable, element);\n",
              "          const docLink = document.createElement('div');\n",
              "          docLink.innerHTML = docLinkHtml;\n",
              "          element.appendChild(docLink);\n",
              "        }\n",
              "      </script>\n",
              "    </div>\n",
              "  </div>\n",
              "  "
            ]
          },
          "metadata": {},
          "execution_count": 13
        }
      ]
    },
    {
      "cell_type": "markdown",
      "source": [
        "* 집어던지지 않는 보고서 (데이터)"
      ],
      "metadata": {
        "id": "6RsdRMD44cKd"
      }
    },
    {
      "cell_type": "code",
      "source": [
        "df1.pivot('도시','연도','인구')"
      ],
      "metadata": {
        "colab": {
          "base_uri": "https://localhost:8080/",
          "height": 175
        },
        "id": "Vqtk5ILd4Noi",
        "outputId": "2ac349cf-8497-4f6c-a24d-198492296365"
      },
      "execution_count": 12,
      "outputs": [
        {
          "output_type": "execute_result",
          "data": {
            "text/plain": [
              "연도       2005       2010       2015\n",
              "도시                                 \n",
              "부산  3512547.0  3393191.0  3448737.0\n",
              "서울  9762546.0  9631482.0  9904312.0\n",
              "인천        NaN   263203.0  2890451.0"
            ],
            "text/html": [
              "\n",
              "  <div id=\"df-b4e4b9f2-0cea-45a9-9f36-87b0bead0022\">\n",
              "    <div class=\"colab-df-container\">\n",
              "      <div>\n",
              "<style scoped>\n",
              "    .dataframe tbody tr th:only-of-type {\n",
              "        vertical-align: middle;\n",
              "    }\n",
              "\n",
              "    .dataframe tbody tr th {\n",
              "        vertical-align: top;\n",
              "    }\n",
              "\n",
              "    .dataframe thead th {\n",
              "        text-align: right;\n",
              "    }\n",
              "</style>\n",
              "<table border=\"1\" class=\"dataframe\">\n",
              "  <thead>\n",
              "    <tr style=\"text-align: right;\">\n",
              "      <th>연도</th>\n",
              "      <th>2005</th>\n",
              "      <th>2010</th>\n",
              "      <th>2015</th>\n",
              "    </tr>\n",
              "    <tr>\n",
              "      <th>도시</th>\n",
              "      <th></th>\n",
              "      <th></th>\n",
              "      <th></th>\n",
              "    </tr>\n",
              "  </thead>\n",
              "  <tbody>\n",
              "    <tr>\n",
              "      <th>부산</th>\n",
              "      <td>3512547.0</td>\n",
              "      <td>3393191.0</td>\n",
              "      <td>3448737.0</td>\n",
              "    </tr>\n",
              "    <tr>\n",
              "      <th>서울</th>\n",
              "      <td>9762546.0</td>\n",
              "      <td>9631482.0</td>\n",
              "      <td>9904312.0</td>\n",
              "    </tr>\n",
              "    <tr>\n",
              "      <th>인천</th>\n",
              "      <td>NaN</td>\n",
              "      <td>263203.0</td>\n",
              "      <td>2890451.0</td>\n",
              "    </tr>\n",
              "  </tbody>\n",
              "</table>\n",
              "</div>\n",
              "      <button class=\"colab-df-convert\" onclick=\"convertToInteractive('df-b4e4b9f2-0cea-45a9-9f36-87b0bead0022')\"\n",
              "              title=\"Convert this dataframe to an interactive table.\"\n",
              "              style=\"display:none;\">\n",
              "        \n",
              "  <svg xmlns=\"http://www.w3.org/2000/svg\" height=\"24px\"viewBox=\"0 0 24 24\"\n",
              "       width=\"24px\">\n",
              "    <path d=\"M0 0h24v24H0V0z\" fill=\"none\"/>\n",
              "    <path d=\"M18.56 5.44l.94 2.06.94-2.06 2.06-.94-2.06-.94-.94-2.06-.94 2.06-2.06.94zm-11 1L8.5 8.5l.94-2.06 2.06-.94-2.06-.94L8.5 2.5l-.94 2.06-2.06.94zm10 10l.94 2.06.94-2.06 2.06-.94-2.06-.94-.94-2.06-.94 2.06-2.06.94z\"/><path d=\"M17.41 7.96l-1.37-1.37c-.4-.4-.92-.59-1.43-.59-.52 0-1.04.2-1.43.59L10.3 9.45l-7.72 7.72c-.78.78-.78 2.05 0 2.83L4 21.41c.39.39.9.59 1.41.59.51 0 1.02-.2 1.41-.59l7.78-7.78 2.81-2.81c.8-.78.8-2.07 0-2.86zM5.41 20L4 18.59l7.72-7.72 1.47 1.35L5.41 20z\"/>\n",
              "  </svg>\n",
              "      </button>\n",
              "      \n",
              "  <style>\n",
              "    .colab-df-container {\n",
              "      display:flex;\n",
              "      flex-wrap:wrap;\n",
              "      gap: 12px;\n",
              "    }\n",
              "\n",
              "    .colab-df-convert {\n",
              "      background-color: #E8F0FE;\n",
              "      border: none;\n",
              "      border-radius: 50%;\n",
              "      cursor: pointer;\n",
              "      display: none;\n",
              "      fill: #1967D2;\n",
              "      height: 32px;\n",
              "      padding: 0 0 0 0;\n",
              "      width: 32px;\n",
              "    }\n",
              "\n",
              "    .colab-df-convert:hover {\n",
              "      background-color: #E2EBFA;\n",
              "      box-shadow: 0px 1px 2px rgba(60, 64, 67, 0.3), 0px 1px 3px 1px rgba(60, 64, 67, 0.15);\n",
              "      fill: #174EA6;\n",
              "    }\n",
              "\n",
              "    [theme=dark] .colab-df-convert {\n",
              "      background-color: #3B4455;\n",
              "      fill: #D2E3FC;\n",
              "    }\n",
              "\n",
              "    [theme=dark] .colab-df-convert:hover {\n",
              "      background-color: #434B5C;\n",
              "      box-shadow: 0px 1px 3px 1px rgba(0, 0, 0, 0.15);\n",
              "      filter: drop-shadow(0px 1px 2px rgba(0, 0, 0, 0.3));\n",
              "      fill: #FFFFFF;\n",
              "    }\n",
              "  </style>\n",
              "\n",
              "      <script>\n",
              "        const buttonEl =\n",
              "          document.querySelector('#df-b4e4b9f2-0cea-45a9-9f36-87b0bead0022 button.colab-df-convert');\n",
              "        buttonEl.style.display =\n",
              "          google.colab.kernel.accessAllowed ? 'block' : 'none';\n",
              "\n",
              "        async function convertToInteractive(key) {\n",
              "          const element = document.querySelector('#df-b4e4b9f2-0cea-45a9-9f36-87b0bead0022');\n",
              "          const dataTable =\n",
              "            await google.colab.kernel.invokeFunction('convertToInteractive',\n",
              "                                                     [key], {});\n",
              "          if (!dataTable) return;\n",
              "\n",
              "          const docLinkHtml = 'Like what you see? Visit the ' +\n",
              "            '<a target=\"_blank\" href=https://colab.research.google.com/notebooks/data_table.ipynb>data table notebook</a>'\n",
              "            + ' to learn more about interactive tables.';\n",
              "          element.innerHTML = '';\n",
              "          dataTable['output_type'] = 'display_data';\n",
              "          await google.colab.output.renderOutput(dataTable, element);\n",
              "          const docLink = document.createElement('div');\n",
              "          docLink.innerHTML = docLinkHtml;\n",
              "          element.appendChild(docLink);\n",
              "        }\n",
              "      </script>\n",
              "    </div>\n",
              "  </div>\n",
              "  "
            ]
          },
          "metadata": {},
          "execution_count": 12
        }
      ]
    },
    {
      "cell_type": "markdown",
      "source": [
        "> 구조 <br>\n",
        "**df.pivot('행 인덱스 이름' , '열 인덱스 이름' , '표현할 데이터 이름')**\n",
        "\n",
        "인덱스 별로 배치했는데 해당되는 데이터가 없으면 NaN이 도출됩니다."
      ],
      "metadata": {
        "id": "Jkdk_D_D4Pz2"
      }
    },
    {
      "cell_type": "markdown",
      "source": [
        "조건을 만족시키는 데이터가 2개 이상일 경우에는 오류가 도출됩니다.<br>\n",
        "이러할 경우에는 그룹 연산을 하고, 그 결과를 갖고 피벗테이블을 제작해야 합니다"
      ],
      "metadata": {
        "id": "CT6l19075ZOF"
      }
    },
    {
      "cell_type": "markdown",
      "source": [
        "### 그룹분석\n",
        "\n",
        "> 특정한 범주나 특정한 조건을 만족시키는 데이터(행)가 하나 이상일 경우<BR>\n",
        "데이터 그룹으로 지정할 수 있습니다.\n",
        "* 데이터 그룹은 그룹의 특성을 보여주는 하나의 값으로 <BR>그것을 요약하는 것입니다.\n",
        "\n",
        "1. 분류 : 'groupby'\n",
        "2. 계산 : 'agg' 를 비롯한 그룹합수들\n",
        "> 구조<br> ★ 'df.groupby()'  : 넣어준 인자를 기준으로 그룹을 나눕니다\n",
        "df.groupby(열 or 열의 리스트)\n",
        "3. \n",
        "\n"
      ],
      "metadata": {
        "id": "SUZaB-154sxH"
      }
    },
    {
      "cell_type": "code",
      "source": [
        "df.groupby.groups(속성) : 그룹별 구성 현황\n"
      ],
      "metadata": {
        "id": "k9efHaOm5GpP"
      },
      "execution_count": null,
      "outputs": []
    },
    {
      "cell_type": "code",
      "source": [
        "p = df1.groupby(df1.연도)\n",
        "p"
      ],
      "metadata": {
        "colab": {
          "base_uri": "https://localhost:8080/"
        },
        "id": "AO3tGiaC6V-d",
        "outputId": "456bbfba-c26f-4d7e-802c-bfbfea386466"
      },
      "execution_count": 20,
      "outputs": [
        {
          "output_type": "execute_result",
          "data": {
            "text/plain": [
              "<pandas.core.groupby.generic.DataFrameGroupBy object at 0x7fd87c11bd00>"
            ]
          },
          "metadata": {},
          "execution_count": 20
        }
      ]
    },
    {
      "cell_type": "code",
      "source": [
        "p.groups"
      ],
      "metadata": {
        "colab": {
          "base_uri": "https://localhost:8080/"
        },
        "id": "XZhnKIyg6xho",
        "outputId": "6d234b93-d7cf-497f-f441-3b12125f52aa"
      },
      "execution_count": 22,
      "outputs": [
        {
          "output_type": "execute_result",
          "data": {
            "text/plain": [
              "{'2005': [2, 5], '2010': [1, 4, 7], '2015': [0, 3, 6]}"
            ]
          },
          "metadata": {},
          "execution_count": 22
        }
      ]
    },
    {
      "cell_type": "markdown",
      "source": [
        "count, meat, sum 등"
      ],
      "metadata": {
        "id": "5RQTH5_v6hf1"
      }
    },
    {
      "cell_type": "markdown",
      "source": [
        "시리즈"
      ],
      "metadata": {
        "id": "AHM2iUNF6yda"
      }
    },
    {
      "cell_type": "code",
      "source": [
        "df.groupby(x).agg().열이름"
      ],
      "metadata": {
        "id": "yKtYJpdn6uH0"
      },
      "execution_count": null,
      "outputs": []
    },
    {
      "cell_type": "markdown",
      "source": [
        "### 복합키 : df.groupby([ 열 2개 이상] ) : 2개 이상의 조건으로 세부 조건을 지정\n",
        "\n"
      ],
      "metadata": {
        "id": "zm61k9lJ64HR"
      }
    },
    {
      "cell_type": "code",
      "source": [
        "df1.groupby(df1.인구).sum().연도"
      ],
      "metadata": {
        "colab": {
          "base_uri": "https://localhost:8080/"
        },
        "id": "020YCtqp7GMD",
        "outputId": "1e3f2721-3feb-4a77-d50e-a95257b0d14f"
      },
      "execution_count": 24,
      "outputs": [
        {
          "output_type": "execute_result",
          "data": {
            "text/plain": [
              "인구\n",
              "263203     2010\n",
              "2890451    2015\n",
              "3393191    2010\n",
              "3448737    2015\n",
              "3512547    2005\n",
              "9631482    2010\n",
              "9762546    2005\n",
              "9904312    2015\n",
              "Name: 연도, dtype: object"
            ]
          },
          "metadata": {},
          "execution_count": 24
        }
      ]
    },
    {
      "cell_type": "markdown",
      "source": [
        "* .unstack : 묶여져 있는 columns 제거"
      ],
      "metadata": {
        "id": "zwmVR3tS7IgA"
      }
    },
    {
      "cell_type": "markdown",
      "source": [
        "![image.png](data:image/png;base64,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)"
      ],
      "metadata": {
        "id": "GRbL6uuE7Q1P"
      }
    },
    {
      "cell_type": "markdown",
      "source": [
        "* .agg : 본인이 필요한 그룹함수가 없을 때 직접 정의해서 사용할 수 있습니다.\n",
        "그룹 전체를 하나로 차원 축소\n",
        "1. 함수로 정의해서 (한개의 인수를 가져오고, 그 인수가 그룹을 의미하게 합니다) 그것을 집어 넣어서 사용\n"
      ],
      "metadata": {
        "id": "G78EdMkH7Y1B"
      }
    },
    {
      "cell_type": "markdown",
      "source": [
        "![image.png](data:image/png;base64,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)"
      ],
      "metadata": {
        "id": "B0VUcSRI70RF"
      }
    },
    {
      "cell_type": "markdown",
      "source": [
        "2. lambda를 사용해서 진행"
      ],
      "metadata": {
        "id": "FEqf0BJ48I5U"
      }
    },
    {
      "cell_type": "markdown",
      "source": [
        "![image.png](data:image/png;base64,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)"
      ],
      "metadata": {
        "id": "Zys5R4w4796y"
      }
    },
    {
      "cell_type": "markdown",
      "source": [
        "* .apply : 그룹으로 묶은 행 or 열 들을 대상으로 반복적으로 연산합니다.\n",
        "  * 그룹1, 그룹2, 그룹3, 등 그룹 간 반복 연산 \n",
        "  "
      ],
      "metadata": {
        "id": "i5iQ56-z8QDM"
      }
    },
    {
      "cell_type": "markdown",
      "source": [
        "![image.png](data:image/png;base64,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)"
      ],
      "metadata": {
        "id": "j5FIpCsc8ntx"
      }
    },
    {
      "cell_type": "markdown",
      "source": [
        "## 시계열 데이터 다루기"
      ],
      "metadata": {
        "id": "H5FQm54o8oSq"
      }
    },
    {
      "cell_type": "markdown",
      "source": [
        "* 시계열 데이터 : 시간의 변화에 따라서 데이터의 변화가 발생<br>\n",
        " 1) 주식 가격, 환율, 척추 수명, \n",
        "* 행 인덱스 자체를 시계열 기반 인덱스로\n",
        "* .loc[] : 특정한 기준에 따른 연산과 필터링\n",
        "* pd.to_datetime : 날짜 형식(포맷)으로 표현된 데이터들을 Datetimeindex로 변환\n",
        "* pd.date_range : range, arange → 특정한 규칙 (시작, 끝/ 시작, 개수...)을 바탕으로 연속된 시계열 인덱스입니다"
      ],
      "metadata": {
        "id": "ZoE7nPkP8v1X"
      }
    },
    {
      "cell_type": "code",
      "source": [
        "pd.date_range('2000-10-01','2021-10-10')\n"
      ],
      "metadata": {
        "colab": {
          "base_uri": "https://localhost:8080/"
        },
        "id": "GsBur2Mw94sB",
        "outputId": "3fc94e28-861a-4fbc-d04a-a80d95d347aa"
      },
      "execution_count": 29,
      "outputs": [
        {
          "output_type": "execute_result",
          "data": {
            "text/plain": [
              "DatetimeIndex(['2000-10-01', '2000-10-02', '2000-10-03', '2000-10-04',\n",
              "               '2000-10-05', '2000-10-06', '2000-10-07', '2000-10-08',\n",
              "               '2000-10-09', '2000-10-10',\n",
              "               ...\n",
              "               '2021-10-01', '2021-10-02', '2021-10-03', '2021-10-04',\n",
              "               '2021-10-05', '2021-10-06', '2021-10-07', '2021-10-08',\n",
              "               '2021-10-09', '2021-10-10'],\n",
              "              dtype='datetime64[ns]', length=7680, freq='D')"
            ]
          },
          "metadata": {},
          "execution_count": 29
        }
      ]
    },
    {
      "cell_type": "markdown",
      "source": [
        "  * freq : frequency(빈도 수) : D , M , H , MS 를 통해서 중간의 갯수를 설정함\n"
      ],
      "metadata": {
        "id": "uQs5Q7sj99Hm"
      }
    },
    {
      "cell_type": "code",
      "source": [
        "pd.date_range(start='2018-4-1', periods=30, freq='MS')"
      ],
      "metadata": {
        "colab": {
          "base_uri": "https://localhost:8080/"
        },
        "id": "TYeaN07x-yqX",
        "outputId": "0365c184-3043-47fc-b31e-69687d5fdcfc"
      },
      "execution_count": 30,
      "outputs": [
        {
          "output_type": "execute_result",
          "data": {
            "text/plain": [
              "DatetimeIndex(['2018-04-01', '2018-05-01', '2018-06-01', '2018-07-01',\n",
              "               '2018-08-01', '2018-09-01', '2018-10-01', '2018-11-01',\n",
              "               '2018-12-01', '2019-01-01', '2019-02-01', '2019-03-01',\n",
              "               '2019-04-01', '2019-05-01', '2019-06-01', '2019-07-01',\n",
              "               '2019-08-01', '2019-09-01', '2019-10-01', '2019-11-01',\n",
              "               '2019-12-01', '2020-01-01', '2020-02-01', '2020-03-01',\n",
              "               '2020-04-01', '2020-05-01', '2020-06-01', '2020-07-01',\n",
              "               '2020-08-01', '2020-09-01'],\n",
              "              dtype='datetime64[ns]', freq='MS')"
            ]
          },
          "metadata": {},
          "execution_count": 30
        }
      ]
    },
    {
      "cell_type": "markdown",
      "source": [
        "### SHIFT\n",
        "\n",
        "* 인덱스를 옮겨주기\n",
        "* 인덱스 순서는 그대로 두고, 연속된 데이터의 위치를 변화합니다"
      ],
      "metadata": {
        "id": "w5Pscl92-IjO"
      }
    },
    {
      "cell_type": "code",
      "source": [
        "np.random.seed(9)\n",
        "ts = pd.Series(np.random.randn(4),\n",
        "               index=pd.date_range('2018-1-1', periods=4, freq='M'))\n",
        "ts"
      ],
      "metadata": {
        "colab": {
          "base_uri": "https://localhost:8080/"
        },
        "id": "ODR-JrIl-ms3",
        "outputId": "1142610c-d450-4463-f9f7-5470cd630e6a"
      },
      "execution_count": 31,
      "outputs": [
        {
          "output_type": "execute_result",
          "data": {
            "text/plain": [
              "2018-01-31    0.001109\n",
              "2018-02-28   -0.289544\n",
              "2018-03-31   -1.116066\n",
              "2018-04-30   -0.012883\n",
              "Freq: M, dtype: float64"
            ]
          },
          "metadata": {},
          "execution_count": 31
        }
      ]
    },
    {
      "cell_type": "markdown",
      "source": [
        "* 데이터가 전개되는 방향\n",
        "<br>행은 가만히 있고, 열만 shift 합니다\n",
        "> 양수 : 아래로<BR>\n",
        "> 음수 : 위로"
      ],
      "metadata": {
        "id": "cS5XUIiy-2Uz"
      }
    },
    {
      "cell_type": "code",
      "source": [
        "ts.shift(-1)"
      ],
      "metadata": {
        "colab": {
          "base_uri": "https://localhost:8080/"
        },
        "id": "wVoONsCP_A5O",
        "outputId": "b75b78e9-645c-459c-f3b8-da2b23e6883a"
      },
      "execution_count": 34,
      "outputs": [
        {
          "output_type": "execute_result",
          "data": {
            "text/plain": [
              "2018-01-31   -0.289544\n",
              "2018-02-28   -1.116066\n",
              "2018-03-31   -0.012883\n",
              "2018-04-30         NaN\n",
              "Freq: M, dtype: float64"
            ]
          },
          "metadata": {},
          "execution_count": 34
        }
      ]
    },
    {
      "cell_type": "markdown",
      "source": [
        "![image.png](data:image/png;base64,iVBORw0KGgoAAAANSUhEUgAAA7EAAAC2CAYAAAAPzgp8AAAgAElEQVR4nO3deZAc53nf8d8cex+D3SWwWBLLJQYXDxACIUoqUixTknVUTFUUxkoUSY6rbIWxLSkp2SlVlMQyLcmVOJaPCl10xWGpZEdKbMWS5TiMDspKdFm0TESEqIsUrQEJAlgABBe7i713diZ/kLOYXczV1/u+3f39VKEK0zvvvE93v293P2/PvJ2pVqtVAQAQkunpadshAHBcdW1Fc3/828o+9/TVf8xkld97o/K3vEK53VPKDBWU6R0wHyQiU11eUHVhXpULp7X+/cdULn1fqlSuet/cjnGdf+U9evmrf0KZTMZCpHBVhiQWABAmkthgJiYmbIcARKta1RO/9ovqOXfyqj8N3/F67bz355UfucZCYLBl4/KsLv7P/6q5r39e1crGlr/ND41p7R++R3fceaey2aylCGFTo+sKkliggfLyki4+9V1V5i9p4dwZLV6e18AAo8BxNX95QePFg8oVRrWx4xrt2XeAEd0IkcQGQxKLpDv9iQe0+LWHtyzLD4/o2nffr759N1uKCi5YPfuszj54v9YunN2yfOa6Qxp9+3t16NAhS5HBJpJYoIXy8qJOPfIXWvnuY8o895Sy20YCkQwVZbS6e682brhRvUdfrVte/grbISUOSWwwJLFIslNffljLf/rAlmW91+/Xdf/yN5QvjFqKCi6prCzrzIP3a+nJE1uWf3fPUd32M7+gffv2WYoMtpDEAg1Uy2VN/+8/0ewX/4dy66u2w4FBG9kuzd/0Sh165y9pZOcu2+EkBklsMCSxSKpqZUM//JV/otzi3Oay/PCIbvj1P1RuaIfFyOCayuqynv3wL229IztY0A9e/Ta96ad+Sv39/faCg3EkscA2y6f+Tj/+nX+trqXLV/2tZ3K/uq4ZV74woky+20J0CEu1vKby3CWVZ57XyqmnpW2HvfXufp179Vv02rf9rHK5nKUok4MkNhiSWCTV+S9+WrOf/i9bll3/b/6T+oo3WYoILls7f1rP3H+fqhtXvhl3qnhM4/e8Q0eOHLEYGUxrdF2RtxAH4IS5v/2/Ovexj6qrUt5clh8b19gb36rBY69WfgeTSiRReW5GCyce1eyXP6vV6VOSpK61JU1+9c/0yLkzuvsXf4URXgCIwIXPf0r1Q8LDr3gNCSya6h7fo5GfvFczj3x6c9nk+ZK+efy49u3bx1wlKccUX0il2b/9qqYf+g9SLYHt6tbOt79HxX//R9rxureQwCZYvjCqHXffoxs+9JAmfv79yg0WXvxDpaziD7+mL/zuh7W4uGg3SABImNXzZ9Rd9zViSdr5j/65pWgQF2Nv/hllu64MfWQWZ7UzX9GpU6csRgUXkMQidZZPl3T+Y/9Rtblp84VR3fDvfl+jr3uLMlm+SpoamYyG73iDpj74oLp3T24uPnzqO/riHz+k1VV+Hw0AYbnw9S9sed1XvInH6KCtbF+/Bo7esWXZxOy0ZmZmxC8i040kFqlSLZd18rc/sHkHNjs8oqlffVA91+21HBls6Rrdpal/+4C6x6+TJFWrG7rxh1/Vn3ziE5wgASAkM088tuX10CtfaykSxM3w7XdveT0wc1YnT57U5ctXz2eC9CCJRaqc/ctPKrc4K0nKdvdo6l/9lvI7xixHBduyfQPa88u/qdzgsCQpt7Kog/OndPz4ccuRAUAy1M69Nb3X77cUCeKmd9vvpnvKa5qYmNCZM2csRQQXkMQiNSqry7r8V5/ZfD320/9M3ddOWYwILukaG9fuf/q+zddjT39bP3riO4z0AkAI8ksLW1/v4Jmw6ExueOvjlzZmL2hhYUE7dvBYpjQjiUVqPPXZTyrz0nNgc4UxjbzmzZYjgmsGj92lnsmXHqJeXtPumWf1rW99i68VA0BAmfLaltdMoIhObZ+vpLK6queff16zs7NNSiANSGKRGuUfXPlq6Nib3sokTmho7J53bP7/hrU5raysaH5+3mJEAJA8mS6evw7/pqamNDc31/6NSCySWKRCZXVFXdMnN18PveLuFu9Gmg0eeaUyuRcHODZO/UhLczOamZmxHBUAAKhZXV3V6ChfSU+zvO0AABNOP/6tzUfqdO2c4GtMaCrT1aO+A7dq6ckTqlYqGlpZ0JkzZzQ1NaVslnE/pEOxWGy4vFQqeS7Xrsz2sn7q8FKPFybWx4+g2yDK2FwXZJ8GqaNdPSbKNHt/J3U1+5woy7RTLpdD+RzEU35ubk6FQsF2HECkcotXvg7avXPCYiSIg+5d12rpyROSpInBXi1mMlpZWVF/f7/lyIDoNUtwisWiisVi2wvk+r+3K7O9bFSx+WFifcKKy5XYXBdknwapo109psrUpHHwAsmTn5+fVz6f18DAgO1YGPltUZcLo6txHvktz7+w+f9cwfzXT0yM/Pqtx3R781LGa2xh9dMtj12an9X6+rqn8kBcteqfpVKp6QVys3KtytSXizI2P0ysT5hxuRCb6/zu0zDqaFWPqTJh8dOO0t72EI28JM3Pz1tPYhn5bV6XC6OrcR/5ff7sOQ299P+84STWxMiv33pMt7egF6xRjUpvl8lfmXAks7Koy5cva2lpiTuxQMgaXZjHmcvr43JsiJdaohx1GaCVrPTid8ptzvDVbkSp/j2dlGtVprY8aALbST1emVifMONyIbZODReG615lmr4vbH73qYl6TLY3r2W8xhZlP+3r7dXo6CjPiwWaaPftirCPd1FL2vqAfRoW7sLCJZsTOy0tLaXmt7FJG410eX1cjg3++NmncW8HmUxGw8PD7d8IABHit4ywzU8bpN0iCptTbZbLZa2urtqMxZOkjaolbX1gbp/6qcfl9uZybEDSlUolLjgBn5Lcf7gLC9dseV4EDw1GI0k+KAMAOtNugClqfn4ekSZsA7eF+bOfMGLZ/q8T3IWFS7Y8J3ZjY8NKEDRwAADQTv3Mq43+liZsg+Qw3a79TqLqBXdhEbUtSWy5XFa5XFY+n2/2fuNsjyz6eaRAmrANACD5XDnW+5mFvJOLaVvrFSQ2E09McJXL+7SRdv3Ha7vu5Nq0kVZtqV374S4sXHNVtrqxseFUEusCRn6vYBsAQLq4nsDWlrW64HdVmLFF/XxQl8Rp/fwmsLVlnSSyjZaHhbuwcJXT2arrJ05GftM18gt3+R2VBtBcfd/hGA94Y6L/mOqX3IWFi65KYsvlsnp6emzEsoXrCWxtGSO/6Rn5hdtMjUoDaeDKORiIo6T0H+7CwmXO3Yll5BeAXxwzkASnT5/Wnj17rNWflAvwJGLfuM/VfRQkrlaJaatvK0YRC1BzVRJr8y4sjRoAkHY2E1g/2n0jJ27n9qStD5K3T03F2+rz2z0yyEsZwI9s+7eYQcN2l5dniAEA4otzMeAf/Qcw56okNi4zE7d6OHT98rgcSJK2PjC3T/3U43J78xMbAy2AXc36bZjHklbHhrCPWSbWxw+T2yBpgu7T2nkm7HONn31qqgzgsi0Z68DAgJUg6DwAALij3YV6u8kO273XL5OPvDOxPn7w2D//TO1Tr/3Hzz41VQZw1ZYk1oVZib1o9huHsEd+2z26I8yR36jXJ8y4JPuxuS7oPu10ojM/9bja3mp1e4mNNgqEI6xvhkRZ1mRfNrE+Nj47zcdDv+veSTnT7cXmo29s1g1IjtyJrWHkl5HfJDK1T/3U42p7q8XgJTbaKAAAQDpsJrGjo6PWgmDkN7y6GPl1U5Qjv0HrcXnk2MT6AwAAIF6y0ouTOdm+CwsAAAAAQDtZye5dWAAAAAAAOpUfHh6O3YROAAC3nPv4RzX3zS9Zq7/rtrvUd+991uoHAADmZAuFgu0YAAAxt/vn3q/CnW+wVv/649/Q8mcfslY/AAAwJ2s7AABAMpDIAgAAE0hiAQCh2f1z71fXbXdZq59EFgCA5COJBQCEqu/e+0hkAQBAZEhiAQChI5EFAABRIYkFAESCRBYAAESBJBYAEBkSWQAAELa87QAAAMlWe37r+uPfsFJ/rV6eI9u5YrHYcHmpVPJcrl2Z7WX91OGlHi+8ro+p2PzUY3K7xUGn7c1GPVH3BRPtmvaGqJHEAgAiRyIbH80uoIvFoorFYtOL0Ebl2pXZXjaq2Pzwuj6mYvNTj8ntFgedtjcb9UTdF0y0a9obTHAqiWXkt3ldLox2MRLnX5A2GqSOdvWYKNPuhOy1r0ZdBtEhkXVfq3NiqVRqehHarFyrMvXloozND6/rYyo2P/WY3G6uS0LyWv/eqPsp7Q0ucyaJZeS3eV0ujHYxEudfkDYapI529Zjep2nZ32iNRBb1Gl38AlEx1d781ENfALxxYmKndqM29e/ppFyrMrXlQRPYTurxyuv6mIrNTz0mt5vL/LbRMOpoVU/c9mnUo9owi8mekqXdN5ridsxP2vogfUqlUsd3YevL1L/Pbz1RlAEacSKJNa3WgehEQHz46a/0cXeRyAIAAL9im8QmbaQ0aesD9mlYuAubXCSy7mGA1x9T2439AwAvcuY3sQDQDHdhk4vfyMZHpxMhRsXPhDUuMBWbn8m1XN5u6EyjQdso9qefekzFhnRyIomlQftjaruxf9yW5P3DXdh0IJFFp+oTskZ/Q2Nst2RqNjARxaSjfiZeTfvEnoiWE0lsK7ZHCeM6gsnILyS39o/fiyfuwqYDiazbXDluB5lVvZWo1qvddgsrtk7rSUpSYXOfuqTZRIth71c/9ZiKDenlfBLrAkYw/WG7uc30/vEziusVd2HjjUTWTa4nsLVlzY4ptuLuZLuFEZvfBLa2LI5JRZxiBRANp5NY10+cjPwy8rudS+sU9v7p5O5tI60mtmrXFrgLmz4ksu6o79f0q86Z2m7sHwBp5mwS63oCW1vGyC8jvy6Kav80u3tbWx4W7sKmG4msfa6cg+PG9k95ACAtnEtiGVn0h5FfSGb2j8sTitEmk4NE1h4SJH9IYAHAHKeeE1t/YObg3DlT243947ak7B/uwqKG58jGQ+1406wfxi3pStr6ABLtGsnjzJ1YOo8/jPxCcnf/BImrVWLa6ve8UcQCe7gjaxb9xB/OxQBgllN3Yr1I2ohS0tYHydunzWYyDlvtTnKjf9vfE6QM4oM7su5rdrwL8zjX6pga9vHUxPqYYnK7JVntHOjCN3/87lOv7dpPPbQ3mOLEnVgatT+M/EJi/yAduCNrVrsL9XaTwrV7r1/N6gi7nlZ1tarHz3bzw2s9JrcbzPC7T722az/10N5gghNJrF/NZlENe+S33WNFwhz5jXp9TDG53VwWdJ9GNVGTn/1jqgzQDIls9IL2xyDlOy1r8pjhWkwmtm9aeN0efrdflJMUmoopynUA/HIqiWXkl5HfJDLRRiUz+4cRWdhGIgsAAJxIYhn59VcXI7/xEeVoqen9Y3NEltFgSCSyAACkXWwndgIApBeTPQEAkF4ksQCAWCKRBQAgnUhiAQCxRSILAED6kMQCAGKNRBYAgHQhiQUAxB6JLAAA6eHE7MQAgMaeuu+NtkNAh5i1GAAAM7gTCwBASLgjCwBA9EhiAQAIEYksAADRIokFACBkJLIAAESHJBYAgAiQyAIAEA0mdgIAICJxneypWCw2XF4qlTyXa1dme1k/dXipxwuv62MqtqD1dLqtkyhIGzVVT5R9weUygBcksQAARChuiWyzC+hisahisdj0IrRRuXZltpeNKjY/vK6PqdiC1tPptk6iIG3UVD1R9gWXywBeOZXEMvLbvC4XRrsY+Q3O1DbwU0/UfcFEu2bkF66KSyLb6jhQKpWaXoQ2K9eqTH25KGPzw+v6mIotSD1pTl4l/23UVD1R9wWXywB+OJPEMvLbvC4XRrsY+Q3O1DbwU0/UfcFEu2bkF66LSyJrUqOLX0SDbe029g/gjRMTO7Ubtal/TyflWpWpLQ960d5JPV55XR9TsQWpx8u2TipT28BPPSb6gol2bbKfAkEkcbKndt/iiFsfTNr6wNw+pe0A5jhzJ9YkRrvMYVub2wZ+6mH/AOZxRzZ5TH3Tg2+UwHW0UZjixJ1YP5I22pW09UH6lEqljn8nV1+m/n1+64miDBAlV+/I0lcA99FPgRgnsTB3EONgCQBoNygVNT8/W3CBqdhc3gYwx89P7cIs4yc2wA8nvk5MYwYApEnXbXfxdWIf6mc3bfQ3F5iKzeVtADf56T9B+hxtFFFyIoltxfaoTavpwG3H1gojv4iSyxdpnDThujgmsK4c64PMXN5KmOtlKrY0z8Ruep/GRbt+anrm/zS3UUTP+STWBYz8mq8H7mo2oBP2iclPPaZiA/wigY0mjlYDzrbjNhVbq3qSJunr54ffBLa2rFHb8dvnmklTG0X0nE5iXT9xMvKbrgSBkd8XhXUyi6IeU7EBfsQtga0/5tF3ADfRT5FWziaxriewtWWM/KYnQUj6+gGITlwTWI57gLvop0gz55JYRpQAAElCApt8zEMB01xtC6bimpubi/Tz4T6nHrFT3/Bd65QAAHgVtwTWj1aP4ahfHpfzetLWxxVrXX1bXm8sLRir29Q+pe1Eo7K8eNWyQqGgpaUlC9HAFc4ksXRs75pNNhXXegAgSeKYwHIuRlSqQzu2vN6YfcFSJPGXtn5avnRxy+vc8A51d3draGjIUkRwgTNJrFdJG+1K2voAEu0a6RXHBDaIZn09zD7e6ngS9rHE6/qYis3kNghbfsfYltcrzz5ttP6gbbQ2oN9uUN9EX/DDT9sxVaad1dMnty4YHtPq6qpyuZynz0GyOPGbWNsdGwCAsCQhge30Qn37skYX+VFNJthJTFHU1Wr2fhOxxeGxf43M9o+oPo29/NhXNXzH643GYKKNmqzHaz/103ZMlWll/rGvbHld2X29NjY2VKlUPH8WksOJJNYvP8+1CquOsOtpVVer0S4TsZncBtjKpYnO/LYDE+2aNgpXxD2BDes3gVGWNdmXvdZlKjab+8mvyTf8Ay197+ubrxd/cFwbi5eVGzD7lVC/626yLbQra6Kf2SjTSGV5SYvfe2zLsvmJA7rx4I2hfD7iy6kklpFfRn7hNr/twES7TmobPfTQI7ZD8Gx6etpKvSuf/29ae9Te9op7AgtE6bobb9H3+gvqWXpxVtnqxoYu/sUfafyd/8JyZHDZCw9/UtXy+ubr7MCQTpWzOtrdrfHxcYuRwTYnklhGfoPVxchvfJjat1GOmro8ik0bS6/lzz6k9ce/Ya1+EligtWw2q7n9R7Xria9uLpv72uc08rq3qHvieouRwVXrz5/VpS9/dsuyzMvuUrVa1dLSkvr7+y1FBhfEdmInAAAkElggLg7943dptedK4lGtbOj0Ax9UZWXZYlRwUWVtVacf+KCqGxuby7L9gzp93c26/fbblclklMlkLEYI20hiAQCxRQILxMeu8d1au/PNW5atX5zWmQfvV2WVRBYvqqyu6OwffEhr557bsnzx6N0qZ3OqVCo6ePCgpejgCpJYAEAskcAC8bP3Tffq9OjUlmVLT57Qsx95t9bOnbYUFVyxfuGsnv2N92jx+8e3LB84dpcuTt6iQqGgarWqrq4uSxHCFSSxAIDYIYEF4mlsbEw3vvfXdLmwdVKetfNn9Myv36cLn/rP2li8bCk62FJZXtLzn/mYTt5/31V3YHsmi3piz206fPiwRkZGdM0111iKEi5xYmInAAA6RQILxNt1k5Oaedt7Nfunv68d8xc2l1c3NnTpr/5cs195WINHXqmhl/+EeiaLyg3tUG5w2GLECFtlZVnl2Re0euakFv7f17Xwnb9RZW3lqvf17CnqewfvVl9/vy5duqS9e/eqt7fXQsRwDUksACA2SGCBZLj52O363Lm3afX4Ixo/+9SWv1XLa7r87W/o8rft9XXY13/0Tj1z89266frrtbi4qHw+TwKLTXydGAAQCySwQHLkcjndc889Gr73XXrmprtU6R+0HRIckRssqPvvvVNf6L5ON+zfr2w2q6mpKe3bt892aHAId2IBAM4jgQWSJ5vN6ujRo3qqr09PPH5Q4899X+PTT0uXZ2yHBgu6RnZpef/L9N2h67S/eLPuPtyvZ599VseOHeOZsLgKSSwAwGkksECyHTp0SBMTEzp16rAePX5chZV57V2bU9+lc8quLKg694Kq62u2w0SIMvlu5cd2KVsY1UL/Ds2PFzU3MKJKpaKb9+5VuVxWoVDQnj17SGDREEksAMBZJLBAOgwPD+vw4cM6dOiQnnzySV26dElPnj2rnp4e5fN5lctlLS0tqVAo2A4VAfX39+uZZ57Rzp07dc011+j8+fOanJxUcXBQuVxO5XJZ+/bt08DAgO1Q4TCSWACAk0hg7SkWiw2Xl0olz+Xaldle1k8dXurxIsj6bC8fZnw29o8pXV1duvXWW1WtVrW8vKzTp0+rWq0qn89rfX1dCwsL3Jnz4UMf+pAk6f777/f197Dr+chHPqKZmRkVCgXdcMMNmp2d1cTEhIaGhpTJZALFgHQgiQUAOIcE1p5myWSxWFSxWGya9DQq167M9rJRxeZHkPWJko39Y0Mmk1F/f78OHjxoO5REeOyxxyRJN998s6+/h13P9v06MTERqF6kj1NJLCO/zeti5DfeTG0DV/uCy2XgHhJYe1odB0qlUtOkp1m5VmXqy0UZmx9+16fRZ4TJ9P5B8pja17QpRM2ZJJaR3+Z1uXCCScvIbxRMbQNX+4LLZeAeEth02X68SppakggACJcTz4ltN7JY/55OyrUqU1se9KK9k3q88rs+jT4jTKb3T5KY2gau9gWXy8A9JLDx1O5bHHHrg2Gsj0vrmrT9g+BM7WvaFKLkRBJrWqlU2vyXREldL4Qv6X0B8UECi6SJ4rjK8RpBmWo/tFNELbZJbNJGFhn5TR5T24BtjbgjgXUHSVJwHGsRB17bae2bW/X/oqgH6FRsk1g0xsgv0og2Gl8ksPHR6eRvUfHz8xVbbMTh2jaAu7y2kfq2VX++bZeg0hYRJScmdqKRB8dIF6JGP0XYSGDhVf1suo3+ZpvJc7Gr2wDx4WXix6AzddM2ETYnkthWbI8s+pmy3hZGfptbLFdVezR6tbxuNZYk8nOSC7OMn9haKc9f2vz/wvKyLl68qEOHDnVcHu2RwMaLK8f6IDOXtxLmevk5Pvn5PGZiRxCdzpwdtD0xQzei4nwS6wJGflvX5cI2aGdgYo+qL/2/PPeC1VjSxk//CdLnwmijG3Mzm/8f2H2tJicndenSJY2NjXn6HDRGAhsvriewtWXNkjhTcfs5F4edPJPIwitT7YV2ibA5ncS6fuJk5Dc+I7/De6Y099L/1y9M+/oM0/s0Ltr10yD9x097C6ONrl88t/n/S2VpIJ/XxMREx+XRHAlsfNQf89J4bPOD7YQ48XKXNMgNE+7GIgrOJrGuJ7C1ZYz8xmPkNz82rmo2p0xlQyunnlZleVHZvgFPn+Hy+tniN4GtLWvUdvz2uWa8lqmsLmv5mac2Xz+3ltXu2VlVq9UWpdAJEtj4cOUcHBdcoCPO2rXfVgPLYdYDeOFcEsvIr3dsp/ZGdu7SydFrNXzxOala1cKJb2r4jjfYDiu2ktxPF048Kr2UsHZfu1e79x3Q4OCgNjY2LEcWbySw8UEC618nj8ELsl3ZNwhbu7ukYbU57sYibE49Ymf7FN5ojYNB53K5nHoOv2rz9Quf/9RmogJvkt5PL33x05v/L++7ReVyWaOjoyoUChajijcS2GRr97iNuCVeftan/tEj2/9tf49pSds/ACA5lMRyEPWv1QOovTyQut3nx13hFXdrI9slSVqbPqX5x75iOaL4cbWfhtVGFx7/a60893eSpEwup9LAbmWzzhwmY4kENl5c7eMAomOqv3NcQZhie3WWtJFFRn6jN7n/gM7tfdnm6wv//cEtE/iEzdQ2cHFbx1F5bkbnP/nA5uvuV/2khq+d1Pj4uPr6+ixGFl8ksOnR7DgU5vGn1bEu7OOcifXxw+82cHV94L52bQewxYnfxHIQhQnZbFZH3/U+TX/4F5RfWdTG4rxO/94HNPWrD3qe5CmNktxPK6vLOv27H9h8Pmx2YEgn+q/VkfFxdXd3a9euXZYjjB8S2Hhrd4HabuK1du/1y+Qj70ysjx9+t4Gr6wP3tWo7cZjcE8mUqTow5WaQi+NGZb18XifvbTcrW5gdN+j6RBWb320Q1vqE6X899KAOHH9YmcqLE/V0T1yvyV/+TeVHromkviDbwMsESlH3Bb/7zU/bMVVGksqXLur0731Aq9OnJEmZTFZd73ifShtdGh0d1U033aTe3t4Wa4jtSn/wYRLYAHicEwAAV0xPX/14TKeS2HbaXVx38t5mZb0kE37q8SKMEeYoE+zt/Gw7myN2lUpFX37wt3T9E/9nc1l+aId2vf3dGrr9bimTCb1Ov9vA6yzAUfaFIP3UT9sxUWbh8b/W+U8+sHkHVpIqr32rTo1N6ejRo5qfn9eBAwea1oernfv4RzX3zS9Zqz/uCaxEEgsAQD1nk1jAtJWVFX3udz6sW049LlWuPDqld3K/Rt740xo48irl+gctRoioVFZXtPjE32jmS5/Ryskrz4NVJqOhN/+svjxX0Wte8xotLy/rwIEDykQwqJFUJLDhIIkFAOAKkligzuLioj738T/U4ae+oezKwpa/ZbI59R04rPzoTuV3jCnb1W0pSoShWi6rPH9J5RfOa+lH31V1o7zl77mBYc3c+fe1svsG3Xrrrfrxj3+s2267TblczlLE8UMCGx6SWAAAriCJBbZZXl7WX/75n2lX6Tu67tyPVF1btR0SDMrku9T9qtfrQvE2nb44o2PHjqlarWpqaopH6wTQ6GSDzpHEAgBwBUks0EC1WtWJEyf0zA++r5EzT2li+aIyZ0+qWqnYDg0R6dl7kzL7b9X3NKD17j4dOXJEXV1dmpmZ0ZEjR/gKcUAkscGQxAIAcAVJLNDC4uKiHn30Uc3NzalfFa2fKWn3YK8Kuawuz81peHjIdojwaWl5WSPaYhsAAAWKSURBVNXBYWlwVGfWqyp392liYkK9vb3K5XLKZDLav3+/enp6bIeaCCSxwZDEAgBwBUks0IELFy7o8uXLunDhgtbX19Xd3a0LFy5oZGSE30jG1Pz8vIaGhtTf369qtap8Pq9sNquxsTH19/dreHiYu68hIokNhiQWAIArSGIBj+bm5jbv1E1PT2tkZMR2SPCplsj29fUpk8mot7eX371GhCQ2GJJYAACuaHRdkbcQBxAbhUJh8//79++3GAmCGhsbsx0CAAAAQsBtCAAAAABAbJDEAgAAAABigyQWAAAAABAbJLEAAAAAgNhgYicAALCpWCy2fU+pVDIQSXzUtlmr7dLJe2xwNa6k2N6f2m3npOyPZscRL+tV/xlx3x4IH0ksAACQlJwLaISLduFP0rZbp+vT7H3FYlHFYjEx2wN2OZPEMvLrHSO/aIaR360Y+QUAIHqtridKpVLHiWwneQHSzYkkNikX0AgX7cKfpG03Rn4BxEWzYw0X5IB3taQXaMSJJBYAgmDkF0An+KYFJNqBTZ1sb87F6ASzEydAs87OQQDwjgsaAADs4lyMdrgTawAjfpBoBzYx8guYUf+tiE6PeY36ntdvTdTX16qsiWPv9m99uHRs8TJfQqO42+3Tdvug0d+btZl28TWLsZN9HGU78LPdwq4vzO3mwvoAjZDEAsBLGFwAwtHp79CbJTWtyrdKhNCc1+3WLNGMSqPk3087sD0HgsntFmb/aVYmyPq4OMiA5EhEEsvILyO/rT6XkV9Gfttxqb8ALug0uQnynmbH7la/Y29XxrZmcdiOz/XtJoXbDmwnsiZE0X/C3G7N6u8kwQY6kYgktoaRX/cw8msGI79X19Xs85pJ+gUP4AX9IZjasS1t1wl+EiiYY3Lb+51okfaBTjk1sVOtYTf614mgI7/1f/dSxjZXDwSubzcp3HaQhouVKPpPmNutdmKs/9eujjTsNwAAXMa5GF45dSfWpeQmjhj5ZeTXRYz8AmglaecsLz9tQjBJazumuLrd6CvwwqkkFgBMcvVEDqRJUi9c03p8aTRwGNWAclLbTpSa7QsXfrMNeJHaJDZpHYaRX3OS1nZMcXW70VcAAGng+rfTOvnpj6uxw7zUJrFJ7QSuJgpRY+TXbYz8AnCBqcHe2jkpreeL+nNy/TJXuBpXWnXy1Ar2E7ZLbRILwAzXT0CM/ALuoe/BL9oOkA5OzU6cVF5nWfardsBO64G7/g6siycxU+0Andk+i/H2GY3r3wMgfM1mD291/G5XppM6Xe3XUZ4jgm63IHVu/38zYbaDdvW53A46ZaP/BImrXWyAV9yJrUPngl+0HQDwrtHXTmvLvZRxcWZ+184HQbabia8HN4rFazuIIi6XhdV/ti9vNZN/J+2gWR3tYgO8yFSr1artIIImAF7LN3p/u89oVcZL3WFqFpOf9Wr1nihi7KROv+2ik3LNYgjSDlw5MPuJx0sZ0/2n09ja/e42qu2Bq01PT9sOIdYmJiZshxBLSem3SfktbdBjNwDUNLquSOWdWEZ+zWHkN3kY+QWA8CUpmUvSugBwkxN3YuMsKQdqRn4BhIU7scFwJ9Yfjuv2+Rl0Zr8BaIc7sbhKkk4eSVoXAIA3HPvt87MP2G8A/CCJTbkknDxs/zYZAAAAgDl8nRgAECq+ThwMXycGAOCKRtcVPCcWAAAAABAbJLEAAAAAgNggiQUAAAAAxAZJLAAAAAAgNkhiAQAAAACxQRILAAAAAIgNklgAAAAAQGyQxAIAAAAAYoMkFgAAAAAQGySxAAAAAIDYIIkFAAAAAMQGSSwAAAAAIDZIYgEAAAAAsUESCwAAAACIDZJYAAAAAEBskMQCAAAAAGKDJBYAAAAAEBt52wEAAIArpqenbYcAAIDT/j9FqJXezZuKewAAAABJRU5ErkJggg==)"
      ],
      "metadata": {
        "id": "Un3fyaIQ_lRk"
      }
    },
    {
      "cell_type": "code",
      "source": [
        "ts.shift(1)"
      ],
      "metadata": {
        "colab": {
          "base_uri": "https://localhost:8080/"
        },
        "id": "LYaSjE6u_E49",
        "outputId": "74c32b7f-48b9-4637-d338-7286fb15a546"
      },
      "execution_count": 33,
      "outputs": [
        {
          "output_type": "execute_result",
          "data": {
            "text/plain": [
              "2018-01-31         NaN\n",
              "2018-02-28    0.001109\n",
              "2018-03-31   -0.289544\n",
              "2018-04-30   -1.116066\n",
              "Freq: M, dtype: float64"
            ]
          },
          "metadata": {},
          "execution_count": 33
        }
      ]
    },
    {
      "cell_type": "markdown",
      "source": [
        "## resample 연산\n",
        "\n",
        "* 데이터의 시간 빈도를 바꿔주는 것\n"
      ],
      "metadata": {
        "id": "9RHJZ_8w_Gvm"
      }
    },
    {
      "cell_type": "code",
      "source": [
        "np.random.seed(12)\n",
        "ts = pd.Series(np.random.randn(100),\n",
        "               index=pd.date_range('2022-1-1', periods=100, freq='D'))\n",
        "ts"
      ],
      "metadata": {
        "colab": {
          "base_uri": "https://localhost:8080/"
        },
        "id": "Y0AcUksAG2xh",
        "outputId": "8a6d1fcf-1829-4357-f9d0-bbcdc1bd3f8a"
      },
      "execution_count": 39,
      "outputs": [
        {
          "output_type": "execute_result",
          "data": {
            "text/plain": [
              "2022-01-01    0.472986\n",
              "2022-01-02   -0.681426\n",
              "2022-01-03    0.242439\n",
              "2022-01-04   -1.700736\n",
              "2022-01-05    0.753143\n",
              "                ...   \n",
              "2022-04-06   -0.969176\n",
              "2022-04-07    0.871968\n",
              "2022-04-08   -1.446359\n",
              "2022-04-09   -0.536481\n",
              "2022-04-10    0.197921\n",
              "Freq: D, Length: 100, dtype: float64"
            ]
          },
          "metadata": {},
          "execution_count": 39
        }
      ]
    },
    {
      "cell_type": "markdown",
      "source": [
        "### * up-sampling : 빈도 늘리기\n",
        "* 시간 구간을 좁게 만들면 행이 늘어나고, 빈곳을 줄인다 > 업샘플링\n",
        "  * fill (forward_fill) / bfill(backward_fill) 00 / 30 \n",
        "\n",
        "\n"
      ],
      "metadata": {
        "id": "PbZFz8sXE1mB"
      }
    },
    {
      "cell_type": "code",
      "source": [
        "# up-sampling (10분 -> 1분짜리 쪼갬) => 없던거를 만드는 거\n",
        "ts.resample('30s').ffill() # 1분 -> 0.5분 => 같은 데이터를 2번\n",
        "ts.resample('10s').ffill() # 1분 -> 10초(1/6분) => 같은 데이터를 6번\n",
        "# f-fill (front) => 비었을 때 앞전 시간대에 존재하는 데이터로 채워줌"
      ],
      "metadata": {
        "colab": {
          "base_uri": "https://localhost:8080/"
        },
        "id": "QKuGS6jKFOSJ",
        "outputId": "9e0f0dac-1229-49cf-bd89-83319154e359"
      },
      "execution_count": 37,
      "outputs": [
        {
          "output_type": "execute_result",
          "data": {
            "text/plain": [
              "2018-01-31 00:00:00    0.001109\n",
              "2018-01-31 00:00:10    0.001109\n",
              "2018-01-31 00:00:20    0.001109\n",
              "2018-01-31 00:00:30    0.001109\n",
              "2018-01-31 00:00:40    0.001109\n",
              "                         ...   \n",
              "2018-04-29 23:59:20   -1.116066\n",
              "2018-04-29 23:59:30   -1.116066\n",
              "2018-04-29 23:59:40   -1.116066\n",
              "2018-04-29 23:59:50   -1.116066\n",
              "2018-04-30 00:00:00   -0.012883\n",
              "Freq: 10S, Length: 768961, dtype: float64"
            ]
          },
          "metadata": {},
          "execution_count": 37
        }
      ]
    },
    {
      "cell_type": "markdown",
      "source": [
        "upsampling : 쪼갠다"
      ],
      "metadata": {
        "id": "exydnpPBGXgY"
      }
    },
    {
      "cell_type": "markdown",
      "source": [
        "### * down-sampling : 빈도 줄이기\n",
        "* 시간 구간을 넓게 만들면 행이 줄어들고(하루씩 → 한달씩) 빈곳을 늘린다 > 다운샘플링\n",
        "  * 시간 단위를 키웁니다.\n",
        "  * 하루 >> 한달\n",
        "  * 대표값\n",
        "  * 통계적 작업, 평균, 최빈값\n",
        "  * first, last 위치 기준으로 표시\n"
      ],
      "metadata": {
        "id": "ejO1tQI1F9Qv"
      }
    },
    {
      "cell_type": "code",
      "source": [
        "ts.resample('5T').ohlc() # 시고저종 (시작-고점-저점-종료)"
      ],
      "metadata": {
        "colab": {
          "base_uri": "https://localhost:8080/",
          "height": 424
        },
        "id": "95xar4ndGR2Y",
        "outputId": "cb79ba6a-be65-43e6-b9b5-e0461838ae8a"
      },
      "execution_count": 36,
      "outputs": [
        {
          "output_type": "execute_result",
          "data": {
            "text/plain": [
              "                         open      high       low     close\n",
              "2018-01-31 00:00:00  0.001109  0.001109  0.001109  0.001109\n",
              "2018-01-31 00:05:00       NaN       NaN       NaN       NaN\n",
              "2018-01-31 00:10:00       NaN       NaN       NaN       NaN\n",
              "2018-01-31 00:15:00       NaN       NaN       NaN       NaN\n",
              "2018-01-31 00:20:00       NaN       NaN       NaN       NaN\n",
              "...                       ...       ...       ...       ...\n",
              "2018-04-29 23:40:00       NaN       NaN       NaN       NaN\n",
              "2018-04-29 23:45:00       NaN       NaN       NaN       NaN\n",
              "2018-04-29 23:50:00       NaN       NaN       NaN       NaN\n",
              "2018-04-29 23:55:00       NaN       NaN       NaN       NaN\n",
              "2018-04-30 00:00:00 -0.012883 -0.012883 -0.012883 -0.012883\n",
              "\n",
              "[25633 rows x 4 columns]"
            ],
            "text/html": [
              "\n",
              "  <div id=\"df-4b466f32-6d1f-4033-9fc6-e58e85dbfc6c\">\n",
              "    <div class=\"colab-df-container\">\n",
              "      <div>\n",
              "<style scoped>\n",
              "    .dataframe tbody tr th:only-of-type {\n",
              "        vertical-align: middle;\n",
              "    }\n",
              "\n",
              "    .dataframe tbody tr th {\n",
              "        vertical-align: top;\n",
              "    }\n",
              "\n",
              "    .dataframe thead th {\n",
              "        text-align: right;\n",
              "    }\n",
              "</style>\n",
              "<table border=\"1\" class=\"dataframe\">\n",
              "  <thead>\n",
              "    <tr style=\"text-align: right;\">\n",
              "      <th></th>\n",
              "      <th>open</th>\n",
              "      <th>high</th>\n",
              "      <th>low</th>\n",
              "      <th>close</th>\n",
              "    </tr>\n",
              "  </thead>\n",
              "  <tbody>\n",
              "    <tr>\n",
              "      <th>2018-01-31 00:00:00</th>\n",
              "      <td>0.001109</td>\n",
              "      <td>0.001109</td>\n",
              "      <td>0.001109</td>\n",
              "      <td>0.001109</td>\n",
              "    </tr>\n",
              "    <tr>\n",
              "      <th>2018-01-31 00:05:00</th>\n",
              "      <td>NaN</td>\n",
              "      <td>NaN</td>\n",
              "      <td>NaN</td>\n",
              "      <td>NaN</td>\n",
              "    </tr>\n",
              "    <tr>\n",
              "      <th>2018-01-31 00:10:00</th>\n",
              "      <td>NaN</td>\n",
              "      <td>NaN</td>\n",
              "      <td>NaN</td>\n",
              "      <td>NaN</td>\n",
              "    </tr>\n",
              "    <tr>\n",
              "      <th>2018-01-31 00:15:00</th>\n",
              "      <td>NaN</td>\n",
              "      <td>NaN</td>\n",
              "      <td>NaN</td>\n",
              "      <td>NaN</td>\n",
              "    </tr>\n",
              "    <tr>\n",
              "      <th>2018-01-31 00:20:00</th>\n",
              "      <td>NaN</td>\n",
              "      <td>NaN</td>\n",
              "      <td>NaN</td>\n",
              "      <td>NaN</td>\n",
              "    </tr>\n",
              "    <tr>\n",
              "      <th>...</th>\n",
              "      <td>...</td>\n",
              "      <td>...</td>\n",
              "      <td>...</td>\n",
              "      <td>...</td>\n",
              "    </tr>\n",
              "    <tr>\n",
              "      <th>2018-04-29 23:40:00</th>\n",
              "      <td>NaN</td>\n",
              "      <td>NaN</td>\n",
              "      <td>NaN</td>\n",
              "      <td>NaN</td>\n",
              "    </tr>\n",
              "    <tr>\n",
              "      <th>2018-04-29 23:45:00</th>\n",
              "      <td>NaN</td>\n",
              "      <td>NaN</td>\n",
              "      <td>NaN</td>\n",
              "      <td>NaN</td>\n",
              "    </tr>\n",
              "    <tr>\n",
              "      <th>2018-04-29 23:50:00</th>\n",
              "      <td>NaN</td>\n",
              "      <td>NaN</td>\n",
              "      <td>NaN</td>\n",
              "      <td>NaN</td>\n",
              "    </tr>\n",
              "    <tr>\n",
              "      <th>2018-04-29 23:55:00</th>\n",
              "      <td>NaN</td>\n",
              "      <td>NaN</td>\n",
              "      <td>NaN</td>\n",
              "      <td>NaN</td>\n",
              "    </tr>\n",
              "    <tr>\n",
              "      <th>2018-04-30 00:00:00</th>\n",
              "      <td>-0.012883</td>\n",
              "      <td>-0.012883</td>\n",
              "      <td>-0.012883</td>\n",
              "      <td>-0.012883</td>\n",
              "    </tr>\n",
              "  </tbody>\n",
              "</table>\n",
              "<p>25633 rows × 4 columns</p>\n",
              "</div>\n",
              "      <button class=\"colab-df-convert\" onclick=\"convertToInteractive('df-4b466f32-6d1f-4033-9fc6-e58e85dbfc6c')\"\n",
              "              title=\"Convert this dataframe to an interactive table.\"\n",
              "              style=\"display:none;\">\n",
              "        \n",
              "  <svg xmlns=\"http://www.w3.org/2000/svg\" height=\"24px\"viewBox=\"0 0 24 24\"\n",
              "       width=\"24px\">\n",
              "    <path d=\"M0 0h24v24H0V0z\" fill=\"none\"/>\n",
              "    <path d=\"M18.56 5.44l.94 2.06.94-2.06 2.06-.94-2.06-.94-.94-2.06-.94 2.06-2.06.94zm-11 1L8.5 8.5l.94-2.06 2.06-.94-2.06-.94L8.5 2.5l-.94 2.06-2.06.94zm10 10l.94 2.06.94-2.06 2.06-.94-2.06-.94-.94-2.06-.94 2.06-2.06.94z\"/><path d=\"M17.41 7.96l-1.37-1.37c-.4-.4-.92-.59-1.43-.59-.52 0-1.04.2-1.43.59L10.3 9.45l-7.72 7.72c-.78.78-.78 2.05 0 2.83L4 21.41c.39.39.9.59 1.41.59.51 0 1.02-.2 1.41-.59l7.78-7.78 2.81-2.81c.8-.78.8-2.07 0-2.86zM5.41 20L4 18.59l7.72-7.72 1.47 1.35L5.41 20z\"/>\n",
              "  </svg>\n",
              "      </button>\n",
              "      \n",
              "  <style>\n",
              "    .colab-df-container {\n",
              "      display:flex;\n",
              "      flex-wrap:wrap;\n",
              "      gap: 12px;\n",
              "    }\n",
              "\n",
              "    .colab-df-convert {\n",
              "      background-color: #E8F0FE;\n",
              "      border: none;\n",
              "      border-radius: 50%;\n",
              "      cursor: pointer;\n",
              "      display: none;\n",
              "      fill: #1967D2;\n",
              "      height: 32px;\n",
              "      padding: 0 0 0 0;\n",
              "      width: 32px;\n",
              "    }\n",
              "\n",
              "    .colab-df-convert:hover {\n",
              "      background-color: #E2EBFA;\n",
              "      box-shadow: 0px 1px 2px rgba(60, 64, 67, 0.3), 0px 1px 3px 1px rgba(60, 64, 67, 0.15);\n",
              "      fill: #174EA6;\n",
              "    }\n",
              "\n",
              "    [theme=dark] .colab-df-convert {\n",
              "      background-color: #3B4455;\n",
              "      fill: #D2E3FC;\n",
              "    }\n",
              "\n",
              "    [theme=dark] .colab-df-convert:hover {\n",
              "      background-color: #434B5C;\n",
              "      box-shadow: 0px 1px 3px 1px rgba(0, 0, 0, 0.15);\n",
              "      filter: drop-shadow(0px 1px 2px rgba(0, 0, 0, 0.3));\n",
              "      fill: #FFFFFF;\n",
              "    }\n",
              "  </style>\n",
              "\n",
              "      <script>\n",
              "        const buttonEl =\n",
              "          document.querySelector('#df-4b466f32-6d1f-4033-9fc6-e58e85dbfc6c button.colab-df-convert');\n",
              "        buttonEl.style.display =\n",
              "          google.colab.kernel.accessAllowed ? 'block' : 'none';\n",
              "\n",
              "        async function convertToInteractive(key) {\n",
              "          const element = document.querySelector('#df-4b466f32-6d1f-4033-9fc6-e58e85dbfc6c');\n",
              "          const dataTable =\n",
              "            await google.colab.kernel.invokeFunction('convertToInteractive',\n",
              "                                                     [key], {});\n",
              "          if (!dataTable) return;\n",
              "\n",
              "          const docLinkHtml = 'Like what you see? Visit the ' +\n",
              "            '<a target=\"_blank\" href=https://colab.research.google.com/notebooks/data_table.ipynb>data table notebook</a>'\n",
              "            + ' to learn more about interactive tables.';\n",
              "          element.innerHTML = '';\n",
              "          dataTable['output_type'] = 'display_data';\n",
              "          await google.colab.output.renderOutput(dataTable, element);\n",
              "          const docLink = document.createElement('div');\n",
              "          docLink.innerHTML = docLinkHtml;\n",
              "          element.appendChild(docLink);\n",
              "        }\n",
              "      </script>\n",
              "    </div>\n",
              "  </div>\n",
              "  "
            ]
          },
          "metadata": {},
          "execution_count": 36
        }
      ]
    },
    {
      "cell_type": "markdown",
      "source": [
        "downsampling : 요약한다"
      ],
      "metadata": {
        "id": "KMGZ0pfzGWIg"
      }
    },
    {
      "cell_type": "code",
      "source": [
        "ts.resample('W').max()"
      ],
      "metadata": {
        "colab": {
          "base_uri": "https://localhost:8080/"
        },
        "id": "aELL8sCmGh0J",
        "outputId": "563c6cee-eed1-4c92-a67c-e6aa355965a7"
      },
      "execution_count": 38,
      "outputs": [
        {
          "output_type": "execute_result",
          "data": {
            "text/plain": [
              "2018-02-04    0.001109\n",
              "2018-02-11         NaN\n",
              "2018-02-18         NaN\n",
              "2018-02-25         NaN\n",
              "2018-03-04   -0.289544\n",
              "2018-03-11         NaN\n",
              "2018-03-18         NaN\n",
              "2018-03-25         NaN\n",
              "2018-04-01   -1.116066\n",
              "2018-04-08         NaN\n",
              "2018-04-15         NaN\n",
              "2018-04-22         NaN\n",
              "2018-04-29         NaN\n",
              "2018-05-06   -0.012883\n",
              "Freq: W-SUN, dtype: float64"
            ]
          },
          "metadata": {},
          "execution_count": 38
        }
      ]
    },
    {
      "cell_type": "code",
      "source": [],
      "metadata": {
        "id": "rFyEvKB3GpJb"
      },
      "execution_count": null,
      "outputs": []
    }
  ]
}