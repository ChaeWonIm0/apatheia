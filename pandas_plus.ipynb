{
  "nbformat": 4,
  "nbformat_minor": 0,
  "metadata": {
    "colab": {
      "provenance": [],
      "toc_visible": true,
      "authorship_tag": "ABX9TyOVT2RhFavwRlam2rvz/ISO",
      "include_colab_link": true
    },
    "kernelspec": {
      "name": "python3",
      "display_name": "Python 3"
    },
    "language_info": {
      "name": "python"
    }
  },
  "cells": [
    {
      "cell_type": "markdown",
      "metadata": {
        "id": "view-in-github",
        "colab_type": "text"
      },
      "source": [
        "<a href=\"https://colab.research.google.com/github/dla9944/apatheia/blob/main/pandas_plus.ipynb\" target=\"_parent\"><img src=\"https://colab.research.google.com/assets/colab-badge.svg\" alt=\"Open In Colab\"/></a>"
      ]
    },
    {
      "cell_type": "markdown",
      "source": [
        "## Pandas 요약\n",
        "\n",
        "* Numpy : 다차원 배열 데이터\n",
        "   * 정해진 길이, 정해진 타입, 정수 인덱스\n",
        "   * 벡터화 연산 ↔ 리스트 연결, 복사...\n",
        "   * 특정한 배열에 속한 원소들에 대해서 반복적 연산\n",
        "   * 불리언 인덱스 배열 ◀ 필터링\n",
        "* Pandas : 2차원 배열, 행렬 형태의 딕셔너리 같이 키를 갖고 있는 데이터 (행과 열 모두 인덱스)\n",
        "   * 엑셀, 표 형태의 일반적으로 볼 수 있는 데이터\n",
        "   * 값들은 배열입니다 (열 단위의) → numpy, ndarray\n",
        "   * 값마다 인덱스가 배정되어 있습니다. 인덱스는 굳이 정수일 필요가 없고, 특정한 값을 붙여줍니다. 이것이 '라벨'. 문자열, 정수, 시간, 날짜... → 인덱싱, 인덱서로 호출합니다.\n",
        "   * '라벨' → 딕셔너리 유사 → 키를 통해서 데이터 묶음에다가 특정한 데이터를 CRUD, 생성, 읽기, 수정, 삭제합니다\n",
        "\n",
        " >  ✍ 데이터 분석, 특성을 확인하기 위한 작업 → Pandas → 인간이 보기가 좋음 (이해, 분석)  <br> 모델링, 프로그램 → 컴퓨터가 작업을 해주기 위한 형태로 변형 → Numpy → 속도가 빠르고, 컴퓨터가 효율적으로 변형, 분석합니다.\n",
        "\n",
        " "
      ],
      "metadata": {
        "id": "SrEh1OLfGKT9"
      }
    },
    {
      "cell_type": "markdown",
      "source": [
        "시리즈 (Series)\n",
        "\n",
        "Serial / Series ; (영, 미) 연속되어 있다\n",
        "→ 배열(Array), 리스트(List)\n",
        "  * 이름 : 원소들마다 부르는 이름\n",
        "  * 사물함(키-값) → 딕셔너리\n",
        "\n",
        "```\n",
        "pd.Series(...) # 연속된 데이터 묶음\n",
        "# 리스트, 배열 등을 삽입\n",
        "# index : 연속된 데이터 묶음 → 시리즈 내의 데이터와 매칭이 되는 나열된 이름들\n",
        "# → 시리즈 내의 데이터와 매칭이 되는 나열된 이름들\n",
        "$ index를 안 넣어주면 range, arange 같이 해당 길이와 맞는 정수 인덱스가 자동으로 부여됨 (0~len)\n",
        "```\n",
        "\n",
        "\n"
      ],
      "metadata": {
        "id": "-KMAjlaiIJOb"
      }
    },
    {
      "cell_type": "code",
      "source": [
        "import pandas as pd"
      ],
      "metadata": {
        "id": "cvJ2Vy2bJnhm"
      },
      "execution_count": 3,
      "outputs": []
    },
    {
      "cell_type": "code",
      "source": [
        "s = pd.Series([9904312, 3448737, 2890451, 2466052],   # 연속된 데이터 묶음 (리스트, 튜플, 1차원 배열...)\n",
        "              index=[\"서울\", \"부산\", \"인천\", \"대구\"]) # 넣어준 데이터의 길이와 일치하는 인덱스 묶음을 넣으면 \n",
        "                                                      # 순서대로 짝지어서 데이터가 들어갑니다 \n",
        "                                                      # 인덱스를 안 넣어주면 range 비슷하게 생성 (길이가 맞춰서)\n",
        "s"
      ],
      "metadata": {
        "colab": {
          "base_uri": "https://localhost:8080/"
        },
        "id": "9HqIO7lYJgQT",
        "outputId": "28d4c5da-d6fc-4d6c-8efd-bc0414a6cfd1"
      },
      "execution_count": 4,
      "outputs": [
        {
          "output_type": "execute_result",
          "data": {
            "text/plain": [
              "서울    9904312\n",
              "부산    3448737\n",
              "인천    2890451\n",
              "대구    2466052\n",
              "dtype: int64"
            ]
          },
          "metadata": {},
          "execution_count": 4
        }
      ]
    },
    {
      "cell_type": "markdown",
      "source": [
        "* `s.index` : 시리즈의 인덱스 (라벨링 된 이름들)\n",
        "* `s.values` : 시리즈의 값(배열) ▶ 같은 타입"
      ],
      "metadata": {
        "id": "AslAuzszJgqm"
      }
    },
    {
      "cell_type": "code",
      "source": [
        "s"
      ],
      "metadata": {
        "colab": {
          "base_uri": "https://localhost:8080/"
        },
        "id": "LEN37Tf5J7VE",
        "outputId": "d92768ee-38f4-464d-e299-1edb91fc1573"
      },
      "execution_count": 7,
      "outputs": [
        {
          "output_type": "execute_result",
          "data": {
            "text/plain": [
              "서울    9904312\n",
              "부산    3448737\n",
              "인천    2890451\n",
              "대구    2466052\n",
              "dtype: int64"
            ]
          },
          "metadata": {},
          "execution_count": 7
        }
      ]
    },
    {
      "cell_type": "code",
      "source": [
        "s.index"
      ],
      "metadata": {
        "colab": {
          "base_uri": "https://localhost:8080/"
        },
        "id": "IBBAPoSpJ2B2",
        "outputId": "0c6c6030-9304-4a17-9991-ac7722a4f045"
      },
      "execution_count": 5,
      "outputs": [
        {
          "output_type": "execute_result",
          "data": {
            "text/plain": [
              "Index(['서울', '부산', '인천', '대구'], dtype='object')"
            ]
          },
          "metadata": {},
          "execution_count": 5
        }
      ]
    },
    {
      "cell_type": "code",
      "source": [
        "s.values"
      ],
      "metadata": {
        "colab": {
          "base_uri": "https://localhost:8080/"
        },
        "id": "66izwZ6rJ3JO",
        "outputId": "b2f56f9e-af6a-437e-95e9-5626730fa802"
      },
      "execution_count": 6,
      "outputs": [
        {
          "output_type": "execute_result",
          "data": {
            "text/plain": [
              "array([9904312, 3448737, 2890451, 2466052])"
            ]
          },
          "metadata": {},
          "execution_count": 6
        }
      ]
    },
    {
      "cell_type": "markdown",
      "source": [
        "* `s.name`, `s.index.name` : 시리즈 자체나 인덱스의 이름을 붙일 수 있습니다"
      ],
      "metadata": {
        "id": "bixlsivDJ4vE"
      }
    },
    {
      "cell_type": "markdown",
      "source": [
        "## 시리즈 연산\n",
        "* Numpy 배열(ndarray)과 유사합니다. 그래서 **벡터화 연산**이 가능합니다.\n",
        "* 연산 자체는 '값'(배열) ▶ 인덱스 적용이 안됩니다."
      ],
      "metadata": {
        "id": "97cd_yEDKFB-"
      }
    },
    {
      "cell_type": "markdown",
      "source": [
        "## 시리즈 인덱싱과 슬라이싱\n",
        "* 시리즈 : 배열이자 딕셔너리와 유사하기 때문에 numpy배열에서 사용 가능한 인덱스 방법(정수 인덱싱, 배열 인덱싱) 전부 사용 가능합니다.\n",
        "* 인덱스 라벨을 이용한 인덱싱도 가능합니다. 딕셔너리 처럼 키로 호출할 수 있습니다\n",
        "\n",
        "인덱싱이 가능하다는 것은 슬라이싱(부분집합 만들기)도 가능합니다. 일종의 사물함\n",
        "\n",
        "![image.png](data:image/png;base64,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)"
      ],
      "metadata": {
        "id": "kP51u2qMK8A-"
      }
    },
    {
      "cell_type": "code",
      "source": [
        "s"
      ],
      "metadata": {
        "colab": {
          "base_uri": "https://localhost:8080/"
        },
        "id": "Habup1uqLQKG",
        "outputId": "2e199300-9045-4024-9683-d240c52dde11"
      },
      "execution_count": 9,
      "outputs": [
        {
          "output_type": "execute_result",
          "data": {
            "text/plain": [
              "서울    9904312\n",
              "부산    3448737\n",
              "인천    2890451\n",
              "대구    2466052\n",
              "dtype: int64"
            ]
          },
          "metadata": {},
          "execution_count": 9
        }
      ]
    },
    {
      "cell_type": "markdown",
      "source": [
        "## 벡터화 연산 ▶ 모든 데이터에 대한 특정 조건 만족 여부 (T/F)\n",
        "→ ==, ><, ... ▶ 불리언 배열 ▶ 불리언 배열 인덱싱이 시리즈에서도 가능합니다"
      ],
      "metadata": {
        "id": "hJXQTX5eMIiR"
      }
    },
    {
      "cell_type": "markdown",
      "source": [
        "## 슬라이싱\n",
        "\n",
        "* 라벨 슬라이싱 ▶ 다른 점은 범위를 지정했을 때, (\"a\":\"b\") 가 라벨 슬라이싱에서는 b가 포함 됩니다.\n",
        "* 판다스 → 라벨을 통해서 해당 데이터를 속성처럼 호출할 수 있습니다\n",
        "`series.속성명` → 해당 라벨을 호출해서 사용합니다\n",
        "![image.png](data:image/png;base64,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)"
      ],
      "metadata": {
        "id": "w28mH2JgLTeb"
      }
    },
    {
      "cell_type": "markdown",
      "source": [
        "* 변수명으로 지정할 수 있는 일반적인(공백없는) 단어들로 구성된 라벨은 시리즈에 `.` 을 통해서 속성으로 호출"
      ],
      "metadata": {
        "id": "V7-5pbjDNTbX"
      }
    },
    {
      "cell_type": "markdown",
      "source": [
        "## 인덱스 기반 (시리즈 간) 연산\n",
        "* 시리즈는 value에 한해서 벡터화 연선\n",
        "* 시리즈 들 간에도 벡터화 연산\n",
        "* 인덱스 라벨 일치하는 값들에 한해서 시리즈 간 연산\n",
        "* 라벨이 일치하지 않는다 (한 쪽에 라벨이 비어 있습니다) → `NaN`\n",
        "![image.png](data:image/png;base64,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)"
      ],
      "metadata": {
        "id": "LcB-BDNwTGNe"
      }
    },
    {
      "cell_type": "markdown",
      "source": [
        "* `NaN` 은 `Null : series.notnull()` : 불리언 배열 값 인덱싱을 비어있지 않은 값들을 호출합니다"
      ],
      "metadata": {
        "id": "dGmELAQnTd53"
      }
    },
    {
      "cell_type": "markdown",
      "source": [
        "## 데이터의 갱신, 추가, 삭제 (인덱싱)\n",
        "\n",
        "* 딕셔너리처럼 인덱싱해서 → 새로운 키 값을 주면 해당 키 값에 대해서 새로운 값을 할당합니다. 기존에 존재하던 키를 호출한 다음에 수정. `del`로 지워주면 됩니다.\n",
        "* 배열처럼 인덱싱해서 새롭게 키를 만들어서 처리할 수 없습니다. 배열이기 때문입니다."
      ],
      "metadata": {
        "id": "v5Xnc03iTrDp"
      }
    },
    {
      "cell_type": "markdown",
      "source": [
        "## 데이터프레임 (DataFrame)\n",
        "* 시리즈 : 1차원 배열 데이터 + 행방향 인덱스\n",
        "* 데이터프레임 : 2차원 배열 데이터 + 행방향 인덱스 & 열방향 인덱스"
      ],
      "metadata": {
        "id": "DpYJpA7SUGfh"
      }
    },
    {
      "cell_type": "markdown",
      "source": [
        "### 데이터프레임 생성\n",
        "* 하나의 열이 될 수 있는 데이터 묶음(리스트, 일차원)\n",
        "  ` + 원하는 만큼의 구성할 열\n",
        "* 열의 이름을 키로 가지는 딕셔너리 → 키 : 연속된 데이터(타입이 다 동일해야 합니다)\n",
        "* 이 데이터를 'pd.DataFrame( )` 으로 넣어줍니다.\n",
        "    * 열 방향 인덱스를 넣어주고 싶다 : `pd.DataFrame(columns=...)`\n",
        "    * 행 방향 인덱스를 넣어주고 싶다 : `pd.DataFrame(index=...)`\n"
      ],
      "metadata": {
        "id": "xabfx7qKUa3L"
      }
    },
    {
      "cell_type": "code",
      "source": [
        "data = {\n",
        "    \"2015\": [9904312, 3448737, 2890451, 2466052],\n",
        "    \"2010\": [9631482, 3393191, 2632035, 2431774],\n",
        "    \"2005\": [9762546, 3512547, 2517680, 2456016],\n",
        "    \"2000\": [9853972, 3655437, 2466338, 2473990],\n",
        "    \"지역\": [\"수도권\", \"경상권\", \"수도권\", \"경상권\"],\n",
        "    \"2010-2015 증가율\": [0.0283, 0.0163, 0.0982, 0.0141]\n",
        "}\n",
        "columns = [\"지역\", \"2015\", \"2010\", \"2005\", \"2000\", \"2010-2015 증가율\"]\n",
        "index = [\"서울\", \"부산\", \"인천\", \"대구\"]\n",
        "df = pd.DataFrame(data, index=index, columns=columns)\n",
        "df"
      ],
      "metadata": {
        "colab": {
          "base_uri": "https://localhost:8080/",
          "height": 175
        },
        "id": "WMADqdClVcq5",
        "outputId": "747a8bff-e871-4e52-969c-4abf2433e2ce"
      },
      "execution_count": 33,
      "outputs": [
        {
          "output_type": "execute_result",
          "data": {
            "text/plain": [
              "     지역     2015     2010     2005     2000  2010-2015 증가율\n",
              "서울  수도권  9904312  9631482  9762546  9853972         0.0283\n",
              "부산  경상권  3448737  3393191  3512547  3655437         0.0163\n",
              "인천  수도권  2890451  2632035  2517680  2466338         0.0982\n",
              "대구  경상권  2466052  2431774  2456016  2473990         0.0141"
            ],
            "text/html": [
              "\n",
              "  <div id=\"df-7569ba53-4071-4534-8709-8307f3ca8dc7\">\n",
              "    <div class=\"colab-df-container\">\n",
              "      <div>\n",
              "<style scoped>\n",
              "    .dataframe tbody tr th:only-of-type {\n",
              "        vertical-align: middle;\n",
              "    }\n",
              "\n",
              "    .dataframe tbody tr th {\n",
              "        vertical-align: top;\n",
              "    }\n",
              "\n",
              "    .dataframe thead th {\n",
              "        text-align: right;\n",
              "    }\n",
              "</style>\n",
              "<table border=\"1\" class=\"dataframe\">\n",
              "  <thead>\n",
              "    <tr style=\"text-align: right;\">\n",
              "      <th></th>\n",
              "      <th>지역</th>\n",
              "      <th>2015</th>\n",
              "      <th>2010</th>\n",
              "      <th>2005</th>\n",
              "      <th>2000</th>\n",
              "      <th>2010-2015 증가율</th>\n",
              "    </tr>\n",
              "  </thead>\n",
              "  <tbody>\n",
              "    <tr>\n",
              "      <th>서울</th>\n",
              "      <td>수도권</td>\n",
              "      <td>9904312</td>\n",
              "      <td>9631482</td>\n",
              "      <td>9762546</td>\n",
              "      <td>9853972</td>\n",
              "      <td>0.0283</td>\n",
              "    </tr>\n",
              "    <tr>\n",
              "      <th>부산</th>\n",
              "      <td>경상권</td>\n",
              "      <td>3448737</td>\n",
              "      <td>3393191</td>\n",
              "      <td>3512547</td>\n",
              "      <td>3655437</td>\n",
              "      <td>0.0163</td>\n",
              "    </tr>\n",
              "    <tr>\n",
              "      <th>인천</th>\n",
              "      <td>수도권</td>\n",
              "      <td>2890451</td>\n",
              "      <td>2632035</td>\n",
              "      <td>2517680</td>\n",
              "      <td>2466338</td>\n",
              "      <td>0.0982</td>\n",
              "    </tr>\n",
              "    <tr>\n",
              "      <th>대구</th>\n",
              "      <td>경상권</td>\n",
              "      <td>2466052</td>\n",
              "      <td>2431774</td>\n",
              "      <td>2456016</td>\n",
              "      <td>2473990</td>\n",
              "      <td>0.0141</td>\n",
              "    </tr>\n",
              "  </tbody>\n",
              "</table>\n",
              "</div>\n",
              "      <button class=\"colab-df-convert\" onclick=\"convertToInteractive('df-7569ba53-4071-4534-8709-8307f3ca8dc7')\"\n",
              "              title=\"Convert this dataframe to an interactive table.\"\n",
              "              style=\"display:none;\">\n",
              "        \n",
              "  <svg xmlns=\"http://www.w3.org/2000/svg\" height=\"24px\"viewBox=\"0 0 24 24\"\n",
              "       width=\"24px\">\n",
              "    <path d=\"M0 0h24v24H0V0z\" fill=\"none\"/>\n",
              "    <path d=\"M18.56 5.44l.94 2.06.94-2.06 2.06-.94-2.06-.94-.94-2.06-.94 2.06-2.06.94zm-11 1L8.5 8.5l.94-2.06 2.06-.94-2.06-.94L8.5 2.5l-.94 2.06-2.06.94zm10 10l.94 2.06.94-2.06 2.06-.94-2.06-.94-.94-2.06-.94 2.06-2.06.94z\"/><path d=\"M17.41 7.96l-1.37-1.37c-.4-.4-.92-.59-1.43-.59-.52 0-1.04.2-1.43.59L10.3 9.45l-7.72 7.72c-.78.78-.78 2.05 0 2.83L4 21.41c.39.39.9.59 1.41.59.51 0 1.02-.2 1.41-.59l7.78-7.78 2.81-2.81c.8-.78.8-2.07 0-2.86zM5.41 20L4 18.59l7.72-7.72 1.47 1.35L5.41 20z\"/>\n",
              "  </svg>\n",
              "      </button>\n",
              "      \n",
              "  <style>\n",
              "    .colab-df-container {\n",
              "      display:flex;\n",
              "      flex-wrap:wrap;\n",
              "      gap: 12px;\n",
              "    }\n",
              "\n",
              "    .colab-df-convert {\n",
              "      background-color: #E8F0FE;\n",
              "      border: none;\n",
              "      border-radius: 50%;\n",
              "      cursor: pointer;\n",
              "      display: none;\n",
              "      fill: #1967D2;\n",
              "      height: 32px;\n",
              "      padding: 0 0 0 0;\n",
              "      width: 32px;\n",
              "    }\n",
              "\n",
              "    .colab-df-convert:hover {\n",
              "      background-color: #E2EBFA;\n",
              "      box-shadow: 0px 1px 2px rgba(60, 64, 67, 0.3), 0px 1px 3px 1px rgba(60, 64, 67, 0.15);\n",
              "      fill: #174EA6;\n",
              "    }\n",
              "\n",
              "    [theme=dark] .colab-df-convert {\n",
              "      background-color: #3B4455;\n",
              "      fill: #D2E3FC;\n",
              "    }\n",
              "\n",
              "    [theme=dark] .colab-df-convert:hover {\n",
              "      background-color: #434B5C;\n",
              "      box-shadow: 0px 1px 3px 1px rgba(0, 0, 0, 0.15);\n",
              "      filter: drop-shadow(0px 1px 2px rgba(0, 0, 0, 0.3));\n",
              "      fill: #FFFFFF;\n",
              "    }\n",
              "  </style>\n",
              "\n",
              "      <script>\n",
              "        const buttonEl =\n",
              "          document.querySelector('#df-7569ba53-4071-4534-8709-8307f3ca8dc7 button.colab-df-convert');\n",
              "        buttonEl.style.display =\n",
              "          google.colab.kernel.accessAllowed ? 'block' : 'none';\n",
              "\n",
              "        async function convertToInteractive(key) {\n",
              "          const element = document.querySelector('#df-7569ba53-4071-4534-8709-8307f3ca8dc7');\n",
              "          const dataTable =\n",
              "            await google.colab.kernel.invokeFunction('convertToInteractive',\n",
              "                                                     [key], {});\n",
              "          if (!dataTable) return;\n",
              "\n",
              "          const docLinkHtml = 'Like what you see? Visit the ' +\n",
              "            '<a target=\"_blank\" href=https://colab.research.google.com/notebooks/data_table.ipynb>data table notebook</a>'\n",
              "            + ' to learn more about interactive tables.';\n",
              "          element.innerHTML = '';\n",
              "          dataTable['output_type'] = 'display_data';\n",
              "          await google.colab.output.renderOutput(dataTable, element);\n",
              "          const docLink = document.createElement('div');\n",
              "          docLink.innerHTML = docLinkHtml;\n",
              "          element.appendChild(docLink);\n",
              "        }\n",
              "      </script>\n",
              "    </div>\n",
              "  </div>\n",
              "  "
            ]
          },
          "metadata": {},
          "execution_count": 33
        }
      ]
    },
    {
      "cell_type": "code",
      "source": [
        "df.values # 데이터 (배열)\n"
      ],
      "metadata": {
        "colab": {
          "base_uri": "https://localhost:8080/"
        },
        "id": "kOQyQ5ehVfMU",
        "outputId": "d43b2775-7b85-4a2f-f76a-409208c8097e"
      },
      "execution_count": 11,
      "outputs": [
        {
          "output_type": "execute_result",
          "data": {
            "text/plain": [
              "array([['수도권', 9904312, 9631482, 9762546, 9853972, 0.0283],\n",
              "       ['경상권', 3448737, 3393191, 3512547, 3655437, 0.0163],\n",
              "       ['수도권', 2890451, 2632035, 2517680, 2466338, 0.0982],\n",
              "       ['경상권', 2466052, 2431774, 2456016, 2473990, 0.0141]], dtype=object)"
            ]
          },
          "metadata": {},
          "execution_count": 11
        }
      ]
    },
    {
      "cell_type": "code",
      "source": [
        "df.columns # 열 이름들, 컬럼들(열방향 인덱스)\n"
      ],
      "metadata": {
        "colab": {
          "base_uri": "https://localhost:8080/"
        },
        "id": "DbUWDvxsVlDl",
        "outputId": "85ee9f8c-2264-42ee-c540-60f02c7798c4"
      },
      "execution_count": 12,
      "outputs": [
        {
          "output_type": "execute_result",
          "data": {
            "text/plain": [
              "Index(['지역', '2015', '2010', '2005', '2000', '2010-2015 증가율'], dtype='object')"
            ]
          },
          "metadata": {},
          "execution_count": 12
        }
      ]
    },
    {
      "cell_type": "code",
      "source": [
        "df.index # 행 이름들, 행방향 인덱스\n"
      ],
      "metadata": {
        "colab": {
          "base_uri": "https://localhost:8080/"
        },
        "id": "-WyzYJFcVmYb",
        "outputId": "25c339d9-52ea-45b7-9a28-af0c98545903"
      },
      "execution_count": 14,
      "outputs": [
        {
          "output_type": "execute_result",
          "data": {
            "text/plain": [
              "Index(['서울', '부산', '인천', '대구'], dtype='object')"
            ]
          },
          "metadata": {},
          "execution_count": 14
        }
      ]
    },
    {
      "cell_type": "code",
      "source": [
        "df.T # 데이터프레임의 행 → 열, 열 → 행"
      ],
      "metadata": {
        "colab": {
          "base_uri": "https://localhost:8080/",
          "height": 238
        },
        "id": "TUWaPjmlVm4z",
        "outputId": "f38da1b2-2019-473d-916d-9a6f87a84000"
      },
      "execution_count": 15,
      "outputs": [
        {
          "output_type": "execute_result",
          "data": {
            "text/plain": [
              "                    서울       부산       인천       대구\n",
              "지역                 수도권      경상권      수도권      경상권\n",
              "2015           9904312  3448737  2890451  2466052\n",
              "2010           9631482  3393191  2632035  2431774\n",
              "2005           9762546  3512547  2517680  2456016\n",
              "2000           9853972  3655437  2466338  2473990\n",
              "2010-2015 증가율   0.0283   0.0163   0.0982   0.0141"
            ],
            "text/html": [
              "\n",
              "  <div id=\"df-1884c77c-4833-4964-9c3d-58e8bc353d34\">\n",
              "    <div class=\"colab-df-container\">\n",
              "      <div>\n",
              "<style scoped>\n",
              "    .dataframe tbody tr th:only-of-type {\n",
              "        vertical-align: middle;\n",
              "    }\n",
              "\n",
              "    .dataframe tbody tr th {\n",
              "        vertical-align: top;\n",
              "    }\n",
              "\n",
              "    .dataframe thead th {\n",
              "        text-align: right;\n",
              "    }\n",
              "</style>\n",
              "<table border=\"1\" class=\"dataframe\">\n",
              "  <thead>\n",
              "    <tr style=\"text-align: right;\">\n",
              "      <th></th>\n",
              "      <th>서울</th>\n",
              "      <th>부산</th>\n",
              "      <th>인천</th>\n",
              "      <th>대구</th>\n",
              "    </tr>\n",
              "  </thead>\n",
              "  <tbody>\n",
              "    <tr>\n",
              "      <th>지역</th>\n",
              "      <td>수도권</td>\n",
              "      <td>경상권</td>\n",
              "      <td>수도권</td>\n",
              "      <td>경상권</td>\n",
              "    </tr>\n",
              "    <tr>\n",
              "      <th>2015</th>\n",
              "      <td>9904312</td>\n",
              "      <td>3448737</td>\n",
              "      <td>2890451</td>\n",
              "      <td>2466052</td>\n",
              "    </tr>\n",
              "    <tr>\n",
              "      <th>2010</th>\n",
              "      <td>9631482</td>\n",
              "      <td>3393191</td>\n",
              "      <td>2632035</td>\n",
              "      <td>2431774</td>\n",
              "    </tr>\n",
              "    <tr>\n",
              "      <th>2005</th>\n",
              "      <td>9762546</td>\n",
              "      <td>3512547</td>\n",
              "      <td>2517680</td>\n",
              "      <td>2456016</td>\n",
              "    </tr>\n",
              "    <tr>\n",
              "      <th>2000</th>\n",
              "      <td>9853972</td>\n",
              "      <td>3655437</td>\n",
              "      <td>2466338</td>\n",
              "      <td>2473990</td>\n",
              "    </tr>\n",
              "    <tr>\n",
              "      <th>2010-2015 증가율</th>\n",
              "      <td>0.0283</td>\n",
              "      <td>0.0163</td>\n",
              "      <td>0.0982</td>\n",
              "      <td>0.0141</td>\n",
              "    </tr>\n",
              "  </tbody>\n",
              "</table>\n",
              "</div>\n",
              "      <button class=\"colab-df-convert\" onclick=\"convertToInteractive('df-1884c77c-4833-4964-9c3d-58e8bc353d34')\"\n",
              "              title=\"Convert this dataframe to an interactive table.\"\n",
              "              style=\"display:none;\">\n",
              "        \n",
              "  <svg xmlns=\"http://www.w3.org/2000/svg\" height=\"24px\"viewBox=\"0 0 24 24\"\n",
              "       width=\"24px\">\n",
              "    <path d=\"M0 0h24v24H0V0z\" fill=\"none\"/>\n",
              "    <path d=\"M18.56 5.44l.94 2.06.94-2.06 2.06-.94-2.06-.94-.94-2.06-.94 2.06-2.06.94zm-11 1L8.5 8.5l.94-2.06 2.06-.94-2.06-.94L8.5 2.5l-.94 2.06-2.06.94zm10 10l.94 2.06.94-2.06 2.06-.94-2.06-.94-.94-2.06-.94 2.06-2.06.94z\"/><path d=\"M17.41 7.96l-1.37-1.37c-.4-.4-.92-.59-1.43-.59-.52 0-1.04.2-1.43.59L10.3 9.45l-7.72 7.72c-.78.78-.78 2.05 0 2.83L4 21.41c.39.39.9.59 1.41.59.51 0 1.02-.2 1.41-.59l7.78-7.78 2.81-2.81c.8-.78.8-2.07 0-2.86zM5.41 20L4 18.59l7.72-7.72 1.47 1.35L5.41 20z\"/>\n",
              "  </svg>\n",
              "      </button>\n",
              "      \n",
              "  <style>\n",
              "    .colab-df-container {\n",
              "      display:flex;\n",
              "      flex-wrap:wrap;\n",
              "      gap: 12px;\n",
              "    }\n",
              "\n",
              "    .colab-df-convert {\n",
              "      background-color: #E8F0FE;\n",
              "      border: none;\n",
              "      border-radius: 50%;\n",
              "      cursor: pointer;\n",
              "      display: none;\n",
              "      fill: #1967D2;\n",
              "      height: 32px;\n",
              "      padding: 0 0 0 0;\n",
              "      width: 32px;\n",
              "    }\n",
              "\n",
              "    .colab-df-convert:hover {\n",
              "      background-color: #E2EBFA;\n",
              "      box-shadow: 0px 1px 2px rgba(60, 64, 67, 0.3), 0px 1px 3px 1px rgba(60, 64, 67, 0.15);\n",
              "      fill: #174EA6;\n",
              "    }\n",
              "\n",
              "    [theme=dark] .colab-df-convert {\n",
              "      background-color: #3B4455;\n",
              "      fill: #D2E3FC;\n",
              "    }\n",
              "\n",
              "    [theme=dark] .colab-df-convert:hover {\n",
              "      background-color: #434B5C;\n",
              "      box-shadow: 0px 1px 3px 1px rgba(0, 0, 0, 0.15);\n",
              "      filter: drop-shadow(0px 1px 2px rgba(0, 0, 0, 0.3));\n",
              "      fill: #FFFFFF;\n",
              "    }\n",
              "  </style>\n",
              "\n",
              "      <script>\n",
              "        const buttonEl =\n",
              "          document.querySelector('#df-1884c77c-4833-4964-9c3d-58e8bc353d34 button.colab-df-convert');\n",
              "        buttonEl.style.display =\n",
              "          google.colab.kernel.accessAllowed ? 'block' : 'none';\n",
              "\n",
              "        async function convertToInteractive(key) {\n",
              "          const element = document.querySelector('#df-1884c77c-4833-4964-9c3d-58e8bc353d34');\n",
              "          const dataTable =\n",
              "            await google.colab.kernel.invokeFunction('convertToInteractive',\n",
              "                                                     [key], {});\n",
              "          if (!dataTable) return;\n",
              "\n",
              "          const docLinkHtml = 'Like what you see? Visit the ' +\n",
              "            '<a target=\"_blank\" href=https://colab.research.google.com/notebooks/data_table.ipynb>data table notebook</a>'\n",
              "            + ' to learn more about interactive tables.';\n",
              "          element.innerHTML = '';\n",
              "          dataTable['output_type'] = 'display_data';\n",
              "          await google.colab.output.renderOutput(dataTable, element);\n",
              "          const docLink = document.createElement('div');\n",
              "          docLink.innerHTML = docLinkHtml;\n",
              "          element.appendChild(docLink);\n",
              "        }\n",
              "      </script>\n",
              "    </div>\n",
              "  </div>\n",
              "  "
            ]
          },
          "metadata": {},
          "execution_count": 15
        }
      ]
    },
    {
      "cell_type": "code",
      "source": [
        "df['2015'] # 새로운 데이터를 넣어줌 (길이가 맞아야 함)\n",
        "#df.shape → (행 길이, 열 길이) → 행의 길이"
      ],
      "metadata": {
        "colab": {
          "base_uri": "https://localhost:8080/",
          "height": 135
        },
        "id": "tIJvccm1V2oX",
        "outputId": "1079a42c-a1b4-442a-afd3-ace7fcec348e"
      },
      "execution_count": 21,
      "outputs": [
        {
          "output_type": "error",
          "ename": "SyntaxError",
          "evalue": "ignored",
          "traceback": [
            "\u001b[0;36m  File \u001b[0;32m\"<ipython-input-21-7be1f6ff8ecc>\"\u001b[0;36m, line \u001b[0;32m2\u001b[0m\n\u001b[0;31m    df.shape → (행 길이, 열 길이) → 행의 길이\u001b[0m\n\u001b[0m             ^\u001b[0m\n\u001b[0;31mSyntaxError\u001b[0m\u001b[0;31m:\u001b[0m invalid character in identifier\n"
          ]
        }
      ]
    },
    {
      "cell_type": "markdown",
      "source": [
        "## 열 인덱싱\n",
        "\n",
        "* 열과 행의 위치를 뒤바꿔 버립니다"
      ],
      "metadata": {
        "id": "MapiAIyWWAP3"
      }
    },
    {
      "cell_type": "code",
      "source": [
        "df[열 라벨] = 시리즈\n",
        "df[[열1, 열2]] = 데이터 프레임\n",
        "# df[0] -> 특정 라벨을 인덱스에 넣는다 = 키값 = 열 라벨\n",
        "# 정수형 인덱스 -> 딕셔너리 키 X -> 에러가 난다\n",
        "# 정수형 인덱스 = 열 라벨의 이름 / 위치? -> 정수형 인덱스\n",
        "# Key Error"
      ],
      "metadata": {
        "colab": {
          "base_uri": "https://localhost:8080/",
          "height": 135
        },
        "id": "GR5_OLXRWui9",
        "outputId": "a72fd747-3a44-40e5-8a60-055120259245"
      },
      "execution_count": 42,
      "outputs": [
        {
          "output_type": "error",
          "ename": "SyntaxError",
          "evalue": "ignored",
          "traceback": [
            "\u001b[0;36m  File \u001b[0;32m\"<ipython-input-42-b422e65f96bb>\"\u001b[0;36m, line \u001b[0;32m1\u001b[0m\n\u001b[0;31m    df[열 라벨] = 시리즈\u001b[0m\n\u001b[0m         ^\u001b[0m\n\u001b[0;31mSyntaxError\u001b[0m\u001b[0;31m:\u001b[0m invalid syntax\n"
          ]
        }
      ]
    },
    {
      "cell_type": "code",
      "source": [
        "df['2000'] # 단일"
      ],
      "metadata": {
        "colab": {
          "base_uri": "https://localhost:8080/"
        },
        "id": "t7i0oUIEYEcU",
        "outputId": "267ed71f-8e48-4e0d-a70a-6c55ef5ba4b6"
      },
      "execution_count": 60,
      "outputs": [
        {
          "output_type": "execute_result",
          "data": {
            "text/plain": [
              "서울    9853972\n",
              "부산    3655437\n",
              "인천    2466338\n",
              "대구    2473990\n",
              "Name: 2000, dtype: int64"
            ]
          },
          "metadata": {},
          "execution_count": 60
        }
      ]
    },
    {
      "cell_type": "code",
      "source": [
        "df[['2010','2005']] # 복수"
      ],
      "metadata": {
        "colab": {
          "base_uri": "https://localhost:8080/",
          "height": 175
        },
        "id": "dH5SgQzxZekW",
        "outputId": "d5176ae5-884d-4a9b-fffb-d1b4f4a77cca"
      },
      "execution_count": 74,
      "outputs": [
        {
          "output_type": "execute_result",
          "data": {
            "text/plain": [
              "       2010     2005\n",
              "서울  9631482  9762546\n",
              "부산  3393191  3512547\n",
              "인천  2632035  2517680\n",
              "대구  2431774  2456016"
            ],
            "text/html": [
              "\n",
              "  <div id=\"df-8a0edce4-ff11-464a-9754-decbb064f486\">\n",
              "    <div class=\"colab-df-container\">\n",
              "      <div>\n",
              "<style scoped>\n",
              "    .dataframe tbody tr th:only-of-type {\n",
              "        vertical-align: middle;\n",
              "    }\n",
              "\n",
              "    .dataframe tbody tr th {\n",
              "        vertical-align: top;\n",
              "    }\n",
              "\n",
              "    .dataframe thead th {\n",
              "        text-align: right;\n",
              "    }\n",
              "</style>\n",
              "<table border=\"1\" class=\"dataframe\">\n",
              "  <thead>\n",
              "    <tr style=\"text-align: right;\">\n",
              "      <th></th>\n",
              "      <th>2010</th>\n",
              "      <th>2005</th>\n",
              "    </tr>\n",
              "  </thead>\n",
              "  <tbody>\n",
              "    <tr>\n",
              "      <th>서울</th>\n",
              "      <td>9631482</td>\n",
              "      <td>9762546</td>\n",
              "    </tr>\n",
              "    <tr>\n",
              "      <th>부산</th>\n",
              "      <td>3393191</td>\n",
              "      <td>3512547</td>\n",
              "    </tr>\n",
              "    <tr>\n",
              "      <th>인천</th>\n",
              "      <td>2632035</td>\n",
              "      <td>2517680</td>\n",
              "    </tr>\n",
              "    <tr>\n",
              "      <th>대구</th>\n",
              "      <td>2431774</td>\n",
              "      <td>2456016</td>\n",
              "    </tr>\n",
              "  </tbody>\n",
              "</table>\n",
              "</div>\n",
              "      <button class=\"colab-df-convert\" onclick=\"convertToInteractive('df-8a0edce4-ff11-464a-9754-decbb064f486')\"\n",
              "              title=\"Convert this dataframe to an interactive table.\"\n",
              "              style=\"display:none;\">\n",
              "        \n",
              "  <svg xmlns=\"http://www.w3.org/2000/svg\" height=\"24px\"viewBox=\"0 0 24 24\"\n",
              "       width=\"24px\">\n",
              "    <path d=\"M0 0h24v24H0V0z\" fill=\"none\"/>\n",
              "    <path d=\"M18.56 5.44l.94 2.06.94-2.06 2.06-.94-2.06-.94-.94-2.06-.94 2.06-2.06.94zm-11 1L8.5 8.5l.94-2.06 2.06-.94-2.06-.94L8.5 2.5l-.94 2.06-2.06.94zm10 10l.94 2.06.94-2.06 2.06-.94-2.06-.94-.94-2.06-.94 2.06-2.06.94z\"/><path d=\"M17.41 7.96l-1.37-1.37c-.4-.4-.92-.59-1.43-.59-.52 0-1.04.2-1.43.59L10.3 9.45l-7.72 7.72c-.78.78-.78 2.05 0 2.83L4 21.41c.39.39.9.59 1.41.59.51 0 1.02-.2 1.41-.59l7.78-7.78 2.81-2.81c.8-.78.8-2.07 0-2.86zM5.41 20L4 18.59l7.72-7.72 1.47 1.35L5.41 20z\"/>\n",
              "  </svg>\n",
              "      </button>\n",
              "      \n",
              "  <style>\n",
              "    .colab-df-container {\n",
              "      display:flex;\n",
              "      flex-wrap:wrap;\n",
              "      gap: 12px;\n",
              "    }\n",
              "\n",
              "    .colab-df-convert {\n",
              "      background-color: #E8F0FE;\n",
              "      border: none;\n",
              "      border-radius: 50%;\n",
              "      cursor: pointer;\n",
              "      display: none;\n",
              "      fill: #1967D2;\n",
              "      height: 32px;\n",
              "      padding: 0 0 0 0;\n",
              "      width: 32px;\n",
              "    }\n",
              "\n",
              "    .colab-df-convert:hover {\n",
              "      background-color: #E2EBFA;\n",
              "      box-shadow: 0px 1px 2px rgba(60, 64, 67, 0.3), 0px 1px 3px 1px rgba(60, 64, 67, 0.15);\n",
              "      fill: #174EA6;\n",
              "    }\n",
              "\n",
              "    [theme=dark] .colab-df-convert {\n",
              "      background-color: #3B4455;\n",
              "      fill: #D2E3FC;\n",
              "    }\n",
              "\n",
              "    [theme=dark] .colab-df-convert:hover {\n",
              "      background-color: #434B5C;\n",
              "      box-shadow: 0px 1px 3px 1px rgba(0, 0, 0, 0.15);\n",
              "      filter: drop-shadow(0px 1px 2px rgba(0, 0, 0, 0.3));\n",
              "      fill: #FFFFFF;\n",
              "    }\n",
              "  </style>\n",
              "\n",
              "      <script>\n",
              "        const buttonEl =\n",
              "          document.querySelector('#df-8a0edce4-ff11-464a-9754-decbb064f486 button.colab-df-convert');\n",
              "        buttonEl.style.display =\n",
              "          google.colab.kernel.accessAllowed ? 'block' : 'none';\n",
              "\n",
              "        async function convertToInteractive(key) {\n",
              "          const element = document.querySelector('#df-8a0edce4-ff11-464a-9754-decbb064f486');\n",
              "          const dataTable =\n",
              "            await google.colab.kernel.invokeFunction('convertToInteractive',\n",
              "                                                     [key], {});\n",
              "          if (!dataTable) return;\n",
              "\n",
              "          const docLinkHtml = 'Like what you see? Visit the ' +\n",
              "            '<a target=\"_blank\" href=https://colab.research.google.com/notebooks/data_table.ipynb>data table notebook</a>'\n",
              "            + ' to learn more about interactive tables.';\n",
              "          element.innerHTML = '';\n",
              "          dataTable['output_type'] = 'display_data';\n",
              "          await google.colab.output.renderOutput(dataTable, element);\n",
              "          const docLink = document.createElement('div');\n",
              "          docLink.innerHTML = docLinkHtml;\n",
              "          element.appendChild(docLink);\n",
              "        }\n",
              "      </script>\n",
              "    </div>\n",
              "  </div>\n",
              "  "
            ]
          },
          "metadata": {},
          "execution_count": 74
        }
      ]
    },
    {
      "cell_type": "markdown",
      "source": [
        "## 행 인덱싱\n",
        "* 행과 열의 위치를 뒤바꿔 버립니다"
      ],
      "metadata": {
        "id": "VpMR6AqKW1Ti"
      }
    },
    {
      "cell_type": "code",
      "source": [
        "# 범위로 (:) <- 슬라이싱을 한다\n",
        "df[0:1]\n",
        "# 정수형을 넣게되면 -> 끝점을 제외하고 범위 -> 데이터프레임\n",
        "df['서울':'대전']\n",
        "# 문자열을 넣게되면? -> 라벨 인덱싱 -> 끝점 포함"
      ],
      "metadata": {
        "id": "dl6w7S5_XduK"
      },
      "execution_count": null,
      "outputs": []
    },
    {
      "cell_type": "code",
      "source": [
        "df['서울':'부산']"
      ],
      "metadata": {
        "colab": {
          "base_uri": "https://localhost:8080/",
          "height": 112
        },
        "id": "gNS8Rj1jZENY",
        "outputId": "20bf32e8-f140-4081-9575-28a3d1642067"
      },
      "execution_count": 75,
      "outputs": [
        {
          "output_type": "execute_result",
          "data": {
            "text/plain": [
              "     지역     2015     2010     2005     2000  2010-2015 증가율\n",
              "서울  수도권  9904312  9631482  9762546  9853972         0.0283\n",
              "부산  경상권  3448737  3393191  3512547  3655437         0.0163"
            ],
            "text/html": [
              "\n",
              "  <div id=\"df-9eb083e9-07bb-4f59-b520-a2d868142cad\">\n",
              "    <div class=\"colab-df-container\">\n",
              "      <div>\n",
              "<style scoped>\n",
              "    .dataframe tbody tr th:only-of-type {\n",
              "        vertical-align: middle;\n",
              "    }\n",
              "\n",
              "    .dataframe tbody tr th {\n",
              "        vertical-align: top;\n",
              "    }\n",
              "\n",
              "    .dataframe thead th {\n",
              "        text-align: right;\n",
              "    }\n",
              "</style>\n",
              "<table border=\"1\" class=\"dataframe\">\n",
              "  <thead>\n",
              "    <tr style=\"text-align: right;\">\n",
              "      <th></th>\n",
              "      <th>지역</th>\n",
              "      <th>2015</th>\n",
              "      <th>2010</th>\n",
              "      <th>2005</th>\n",
              "      <th>2000</th>\n",
              "      <th>2010-2015 증가율</th>\n",
              "    </tr>\n",
              "  </thead>\n",
              "  <tbody>\n",
              "    <tr>\n",
              "      <th>서울</th>\n",
              "      <td>수도권</td>\n",
              "      <td>9904312</td>\n",
              "      <td>9631482</td>\n",
              "      <td>9762546</td>\n",
              "      <td>9853972</td>\n",
              "      <td>0.0283</td>\n",
              "    </tr>\n",
              "    <tr>\n",
              "      <th>부산</th>\n",
              "      <td>경상권</td>\n",
              "      <td>3448737</td>\n",
              "      <td>3393191</td>\n",
              "      <td>3512547</td>\n",
              "      <td>3655437</td>\n",
              "      <td>0.0163</td>\n",
              "    </tr>\n",
              "  </tbody>\n",
              "</table>\n",
              "</div>\n",
              "      <button class=\"colab-df-convert\" onclick=\"convertToInteractive('df-9eb083e9-07bb-4f59-b520-a2d868142cad')\"\n",
              "              title=\"Convert this dataframe to an interactive table.\"\n",
              "              style=\"display:none;\">\n",
              "        \n",
              "  <svg xmlns=\"http://www.w3.org/2000/svg\" height=\"24px\"viewBox=\"0 0 24 24\"\n",
              "       width=\"24px\">\n",
              "    <path d=\"M0 0h24v24H0V0z\" fill=\"none\"/>\n",
              "    <path d=\"M18.56 5.44l.94 2.06.94-2.06 2.06-.94-2.06-.94-.94-2.06-.94 2.06-2.06.94zm-11 1L8.5 8.5l.94-2.06 2.06-.94-2.06-.94L8.5 2.5l-.94 2.06-2.06.94zm10 10l.94 2.06.94-2.06 2.06-.94-2.06-.94-.94-2.06-.94 2.06-2.06.94z\"/><path d=\"M17.41 7.96l-1.37-1.37c-.4-.4-.92-.59-1.43-.59-.52 0-1.04.2-1.43.59L10.3 9.45l-7.72 7.72c-.78.78-.78 2.05 0 2.83L4 21.41c.39.39.9.59 1.41.59.51 0 1.02-.2 1.41-.59l7.78-7.78 2.81-2.81c.8-.78.8-2.07 0-2.86zM5.41 20L4 18.59l7.72-7.72 1.47 1.35L5.41 20z\"/>\n",
              "  </svg>\n",
              "      </button>\n",
              "      \n",
              "  <style>\n",
              "    .colab-df-container {\n",
              "      display:flex;\n",
              "      flex-wrap:wrap;\n",
              "      gap: 12px;\n",
              "    }\n",
              "\n",
              "    .colab-df-convert {\n",
              "      background-color: #E8F0FE;\n",
              "      border: none;\n",
              "      border-radius: 50%;\n",
              "      cursor: pointer;\n",
              "      display: none;\n",
              "      fill: #1967D2;\n",
              "      height: 32px;\n",
              "      padding: 0 0 0 0;\n",
              "      width: 32px;\n",
              "    }\n",
              "\n",
              "    .colab-df-convert:hover {\n",
              "      background-color: #E2EBFA;\n",
              "      box-shadow: 0px 1px 2px rgba(60, 64, 67, 0.3), 0px 1px 3px 1px rgba(60, 64, 67, 0.15);\n",
              "      fill: #174EA6;\n",
              "    }\n",
              "\n",
              "    [theme=dark] .colab-df-convert {\n",
              "      background-color: #3B4455;\n",
              "      fill: #D2E3FC;\n",
              "    }\n",
              "\n",
              "    [theme=dark] .colab-df-convert:hover {\n",
              "      background-color: #434B5C;\n",
              "      box-shadow: 0px 1px 3px 1px rgba(0, 0, 0, 0.15);\n",
              "      filter: drop-shadow(0px 1px 2px rgba(0, 0, 0, 0.3));\n",
              "      fill: #FFFFFF;\n",
              "    }\n",
              "  </style>\n",
              "\n",
              "      <script>\n",
              "        const buttonEl =\n",
              "          document.querySelector('#df-9eb083e9-07bb-4f59-b520-a2d868142cad button.colab-df-convert');\n",
              "        buttonEl.style.display =\n",
              "          google.colab.kernel.accessAllowed ? 'block' : 'none';\n",
              "\n",
              "        async function convertToInteractive(key) {\n",
              "          const element = document.querySelector('#df-9eb083e9-07bb-4f59-b520-a2d868142cad');\n",
              "          const dataTable =\n",
              "            await google.colab.kernel.invokeFunction('convertToInteractive',\n",
              "                                                     [key], {});\n",
              "          if (!dataTable) return;\n",
              "\n",
              "          const docLinkHtml = 'Like what you see? Visit the ' +\n",
              "            '<a target=\"_blank\" href=https://colab.research.google.com/notebooks/data_table.ipynb>data table notebook</a>'\n",
              "            + ' to learn more about interactive tables.';\n",
              "          element.innerHTML = '';\n",
              "          dataTable['output_type'] = 'display_data';\n",
              "          await google.colab.output.renderOutput(dataTable, element);\n",
              "          const docLink = document.createElement('div');\n",
              "          docLink.innerHTML = docLinkHtml;\n",
              "          element.appendChild(docLink);\n",
              "        }\n",
              "      </script>\n",
              "    </div>\n",
              "  </div>\n",
              "  "
            ]
          },
          "metadata": {},
          "execution_count": 75
        }
      ]
    },
    {
      "cell_type": "code",
      "source": [
        "df['인천':'대구']"
      ],
      "metadata": {
        "colab": {
          "base_uri": "https://localhost:8080/",
          "height": 112
        },
        "id": "oKoeBHKEbBlr",
        "outputId": "2b11d2f3-54a9-4019-b43f-81ff1ab26ccb"
      },
      "execution_count": 77,
      "outputs": [
        {
          "output_type": "execute_result",
          "data": {
            "text/plain": [
              "     지역     2015     2010     2005     2000  2010-2015 증가율\n",
              "인천  수도권  2890451  2632035  2517680  2466338         0.0982\n",
              "대구  경상권  2466052  2431774  2456016  2473990         0.0141"
            ],
            "text/html": [
              "\n",
              "  <div id=\"df-7a0be68a-65c3-4afd-b53d-3f8b56fa1188\">\n",
              "    <div class=\"colab-df-container\">\n",
              "      <div>\n",
              "<style scoped>\n",
              "    .dataframe tbody tr th:only-of-type {\n",
              "        vertical-align: middle;\n",
              "    }\n",
              "\n",
              "    .dataframe tbody tr th {\n",
              "        vertical-align: top;\n",
              "    }\n",
              "\n",
              "    .dataframe thead th {\n",
              "        text-align: right;\n",
              "    }\n",
              "</style>\n",
              "<table border=\"1\" class=\"dataframe\">\n",
              "  <thead>\n",
              "    <tr style=\"text-align: right;\">\n",
              "      <th></th>\n",
              "      <th>지역</th>\n",
              "      <th>2015</th>\n",
              "      <th>2010</th>\n",
              "      <th>2005</th>\n",
              "      <th>2000</th>\n",
              "      <th>2010-2015 증가율</th>\n",
              "    </tr>\n",
              "  </thead>\n",
              "  <tbody>\n",
              "    <tr>\n",
              "      <th>인천</th>\n",
              "      <td>수도권</td>\n",
              "      <td>2890451</td>\n",
              "      <td>2632035</td>\n",
              "      <td>2517680</td>\n",
              "      <td>2466338</td>\n",
              "      <td>0.0982</td>\n",
              "    </tr>\n",
              "    <tr>\n",
              "      <th>대구</th>\n",
              "      <td>경상권</td>\n",
              "      <td>2466052</td>\n",
              "      <td>2431774</td>\n",
              "      <td>2456016</td>\n",
              "      <td>2473990</td>\n",
              "      <td>0.0141</td>\n",
              "    </tr>\n",
              "  </tbody>\n",
              "</table>\n",
              "</div>\n",
              "      <button class=\"colab-df-convert\" onclick=\"convertToInteractive('df-7a0be68a-65c3-4afd-b53d-3f8b56fa1188')\"\n",
              "              title=\"Convert this dataframe to an interactive table.\"\n",
              "              style=\"display:none;\">\n",
              "        \n",
              "  <svg xmlns=\"http://www.w3.org/2000/svg\" height=\"24px\"viewBox=\"0 0 24 24\"\n",
              "       width=\"24px\">\n",
              "    <path d=\"M0 0h24v24H0V0z\" fill=\"none\"/>\n",
              "    <path d=\"M18.56 5.44l.94 2.06.94-2.06 2.06-.94-2.06-.94-.94-2.06-.94 2.06-2.06.94zm-11 1L8.5 8.5l.94-2.06 2.06-.94-2.06-.94L8.5 2.5l-.94 2.06-2.06.94zm10 10l.94 2.06.94-2.06 2.06-.94-2.06-.94-.94-2.06-.94 2.06-2.06.94z\"/><path d=\"M17.41 7.96l-1.37-1.37c-.4-.4-.92-.59-1.43-.59-.52 0-1.04.2-1.43.59L10.3 9.45l-7.72 7.72c-.78.78-.78 2.05 0 2.83L4 21.41c.39.39.9.59 1.41.59.51 0 1.02-.2 1.41-.59l7.78-7.78 2.81-2.81c.8-.78.8-2.07 0-2.86zM5.41 20L4 18.59l7.72-7.72 1.47 1.35L5.41 20z\"/>\n",
              "  </svg>\n",
              "      </button>\n",
              "      \n",
              "  <style>\n",
              "    .colab-df-container {\n",
              "      display:flex;\n",
              "      flex-wrap:wrap;\n",
              "      gap: 12px;\n",
              "    }\n",
              "\n",
              "    .colab-df-convert {\n",
              "      background-color: #E8F0FE;\n",
              "      border: none;\n",
              "      border-radius: 50%;\n",
              "      cursor: pointer;\n",
              "      display: none;\n",
              "      fill: #1967D2;\n",
              "      height: 32px;\n",
              "      padding: 0 0 0 0;\n",
              "      width: 32px;\n",
              "    }\n",
              "\n",
              "    .colab-df-convert:hover {\n",
              "      background-color: #E2EBFA;\n",
              "      box-shadow: 0px 1px 2px rgba(60, 64, 67, 0.3), 0px 1px 3px 1px rgba(60, 64, 67, 0.15);\n",
              "      fill: #174EA6;\n",
              "    }\n",
              "\n",
              "    [theme=dark] .colab-df-convert {\n",
              "      background-color: #3B4455;\n",
              "      fill: #D2E3FC;\n",
              "    }\n",
              "\n",
              "    [theme=dark] .colab-df-convert:hover {\n",
              "      background-color: #434B5C;\n",
              "      box-shadow: 0px 1px 3px 1px rgba(0, 0, 0, 0.15);\n",
              "      filter: drop-shadow(0px 1px 2px rgba(0, 0, 0, 0.3));\n",
              "      fill: #FFFFFF;\n",
              "    }\n",
              "  </style>\n",
              "\n",
              "      <script>\n",
              "        const buttonEl =\n",
              "          document.querySelector('#df-7a0be68a-65c3-4afd-b53d-3f8b56fa1188 button.colab-df-convert');\n",
              "        buttonEl.style.display =\n",
              "          google.colab.kernel.accessAllowed ? 'block' : 'none';\n",
              "\n",
              "        async function convertToInteractive(key) {\n",
              "          const element = document.querySelector('#df-7a0be68a-65c3-4afd-b53d-3f8b56fa1188');\n",
              "          const dataTable =\n",
              "            await google.colab.kernel.invokeFunction('convertToInteractive',\n",
              "                                                     [key], {});\n",
              "          if (!dataTable) return;\n",
              "\n",
              "          const docLinkHtml = 'Like what you see? Visit the ' +\n",
              "            '<a target=\"_blank\" href=https://colab.research.google.com/notebooks/data_table.ipynb>data table notebook</a>'\n",
              "            + ' to learn more about interactive tables.';\n",
              "          element.innerHTML = '';\n",
              "          dataTable['output_type'] = 'display_data';\n",
              "          await google.colab.output.renderOutput(dataTable, element);\n",
              "          const docLink = document.createElement('div');\n",
              "          docLink.innerHTML = docLinkHtml;\n",
              "          element.appendChild(docLink);\n",
              "        }\n",
              "      </script>\n",
              "    </div>\n",
              "  </div>\n",
              "  "
            ]
          },
          "metadata": {},
          "execution_count": 77
        }
      ]
    },
    {
      "cell_type": "markdown",
      "source": [
        "## 개별 인덱싱"
      ],
      "metadata": {
        "id": "NzCNI-TyX6NQ"
      }
    },
    {
      "cell_type": "code",
      "source": [
        "df['열이름'] # 시리즈\n",
        "df['열이름']['행이름'] # 개별값"
      ],
      "metadata": {
        "colab": {
          "base_uri": "https://localhost:8080/",
          "height": 516
        },
        "id": "mF4_ujdRX-xf",
        "outputId": "e83e4026-5219-46d6-82bd-776239f97dc3"
      },
      "execution_count": 84,
      "outputs": [
        {
          "output_type": "error",
          "ename": "KeyError",
          "evalue": "ignored",
          "traceback": [
            "\u001b[0;31m---------------------------------------------------------------------------\u001b[0m",
            "\u001b[0;31mKeyError\u001b[0m                                  Traceback (most recent call last)",
            "\u001b[0;32m/usr/local/lib/python3.8/dist-packages/pandas/core/indexes/base.py\u001b[0m in \u001b[0;36mget_loc\u001b[0;34m(self, key, method, tolerance)\u001b[0m\n\u001b[1;32m   3360\u001b[0m             \u001b[0;32mtry\u001b[0m\u001b[0;34m:\u001b[0m\u001b[0;34m\u001b[0m\u001b[0;34m\u001b[0m\u001b[0m\n\u001b[0;32m-> 3361\u001b[0;31m                 \u001b[0;32mreturn\u001b[0m \u001b[0mself\u001b[0m\u001b[0;34m.\u001b[0m\u001b[0m_engine\u001b[0m\u001b[0;34m.\u001b[0m\u001b[0mget_loc\u001b[0m\u001b[0;34m(\u001b[0m\u001b[0mcasted_key\u001b[0m\u001b[0;34m)\u001b[0m\u001b[0;34m\u001b[0m\u001b[0;34m\u001b[0m\u001b[0m\n\u001b[0m\u001b[1;32m   3362\u001b[0m             \u001b[0;32mexcept\u001b[0m \u001b[0mKeyError\u001b[0m \u001b[0;32mas\u001b[0m \u001b[0merr\u001b[0m\u001b[0;34m:\u001b[0m\u001b[0;34m\u001b[0m\u001b[0;34m\u001b[0m\u001b[0m\n",
            "\u001b[0;32m/usr/local/lib/python3.8/dist-packages/pandas/_libs/index.pyx\u001b[0m in \u001b[0;36mpandas._libs.index.IndexEngine.get_loc\u001b[0;34m()\u001b[0m\n",
            "\u001b[0;32m/usr/local/lib/python3.8/dist-packages/pandas/_libs/index.pyx\u001b[0m in \u001b[0;36mpandas._libs.index.IndexEngine.get_loc\u001b[0;34m()\u001b[0m\n",
            "\u001b[0;32mpandas/_libs/hashtable_class_helper.pxi\u001b[0m in \u001b[0;36mpandas._libs.hashtable.PyObjectHashTable.get_item\u001b[0;34m()\u001b[0m\n",
            "\u001b[0;32mpandas/_libs/hashtable_class_helper.pxi\u001b[0m in \u001b[0;36mpandas._libs.hashtable.PyObjectHashTable.get_item\u001b[0;34m()\u001b[0m\n",
            "\u001b[0;31mKeyError\u001b[0m: '열이름'",
            "\nThe above exception was the direct cause of the following exception:\n",
            "\u001b[0;31mKeyError\u001b[0m                                  Traceback (most recent call last)",
            "\u001b[0;32m<ipython-input-84-0a41b7ea3bcc>\u001b[0m in \u001b[0;36m<module>\u001b[0;34m\u001b[0m\n\u001b[0;32m----> 1\u001b[0;31m \u001b[0mdf\u001b[0m\u001b[0;34m[\u001b[0m\u001b[0;34m'열이름'\u001b[0m\u001b[0;34m]\u001b[0m \u001b[0;31m# 시리즈\u001b[0m\u001b[0;34m\u001b[0m\u001b[0;34m\u001b[0m\u001b[0m\n\u001b[0m\u001b[1;32m      2\u001b[0m \u001b[0mdf\u001b[0m\u001b[0;34m[\u001b[0m\u001b[0;34m'열이름'\u001b[0m\u001b[0;34m]\u001b[0m\u001b[0;34m[\u001b[0m\u001b[0;34m'행이름'\u001b[0m\u001b[0;34m]\u001b[0m \u001b[0;31m# 개별값\u001b[0m\u001b[0;34m\u001b[0m\u001b[0;34m\u001b[0m\u001b[0m\n",
            "\u001b[0;32m/usr/local/lib/python3.8/dist-packages/pandas/core/frame.py\u001b[0m in \u001b[0;36m__getitem__\u001b[0;34m(self, key)\u001b[0m\n\u001b[1;32m   3456\u001b[0m             \u001b[0;32mif\u001b[0m \u001b[0mself\u001b[0m\u001b[0;34m.\u001b[0m\u001b[0mcolumns\u001b[0m\u001b[0;34m.\u001b[0m\u001b[0mnlevels\u001b[0m \u001b[0;34m>\u001b[0m \u001b[0;36m1\u001b[0m\u001b[0;34m:\u001b[0m\u001b[0;34m\u001b[0m\u001b[0;34m\u001b[0m\u001b[0m\n\u001b[1;32m   3457\u001b[0m                 \u001b[0;32mreturn\u001b[0m \u001b[0mself\u001b[0m\u001b[0;34m.\u001b[0m\u001b[0m_getitem_multilevel\u001b[0m\u001b[0;34m(\u001b[0m\u001b[0mkey\u001b[0m\u001b[0;34m)\u001b[0m\u001b[0;34m\u001b[0m\u001b[0;34m\u001b[0m\u001b[0m\n\u001b[0;32m-> 3458\u001b[0;31m             \u001b[0mindexer\u001b[0m \u001b[0;34m=\u001b[0m \u001b[0mself\u001b[0m\u001b[0;34m.\u001b[0m\u001b[0mcolumns\u001b[0m\u001b[0;34m.\u001b[0m\u001b[0mget_loc\u001b[0m\u001b[0;34m(\u001b[0m\u001b[0mkey\u001b[0m\u001b[0;34m)\u001b[0m\u001b[0;34m\u001b[0m\u001b[0;34m\u001b[0m\u001b[0m\n\u001b[0m\u001b[1;32m   3459\u001b[0m             \u001b[0;32mif\u001b[0m \u001b[0mis_integer\u001b[0m\u001b[0;34m(\u001b[0m\u001b[0mindexer\u001b[0m\u001b[0;34m)\u001b[0m\u001b[0;34m:\u001b[0m\u001b[0;34m\u001b[0m\u001b[0;34m\u001b[0m\u001b[0m\n\u001b[1;32m   3460\u001b[0m                 \u001b[0mindexer\u001b[0m \u001b[0;34m=\u001b[0m \u001b[0;34m[\u001b[0m\u001b[0mindexer\u001b[0m\u001b[0;34m]\u001b[0m\u001b[0;34m\u001b[0m\u001b[0;34m\u001b[0m\u001b[0m\n",
            "\u001b[0;32m/usr/local/lib/python3.8/dist-packages/pandas/core/indexes/base.py\u001b[0m in \u001b[0;36mget_loc\u001b[0;34m(self, key, method, tolerance)\u001b[0m\n\u001b[1;32m   3361\u001b[0m                 \u001b[0;32mreturn\u001b[0m \u001b[0mself\u001b[0m\u001b[0;34m.\u001b[0m\u001b[0m_engine\u001b[0m\u001b[0;34m.\u001b[0m\u001b[0mget_loc\u001b[0m\u001b[0;34m(\u001b[0m\u001b[0mcasted_key\u001b[0m\u001b[0;34m)\u001b[0m\u001b[0;34m\u001b[0m\u001b[0;34m\u001b[0m\u001b[0m\n\u001b[1;32m   3362\u001b[0m             \u001b[0;32mexcept\u001b[0m \u001b[0mKeyError\u001b[0m \u001b[0;32mas\u001b[0m \u001b[0merr\u001b[0m\u001b[0;34m:\u001b[0m\u001b[0;34m\u001b[0m\u001b[0;34m\u001b[0m\u001b[0m\n\u001b[0;32m-> 3363\u001b[0;31m                 \u001b[0;32mraise\u001b[0m \u001b[0mKeyError\u001b[0m\u001b[0;34m(\u001b[0m\u001b[0mkey\u001b[0m\u001b[0;34m)\u001b[0m \u001b[0;32mfrom\u001b[0m \u001b[0merr\u001b[0m\u001b[0;34m\u001b[0m\u001b[0;34m\u001b[0m\u001b[0m\n\u001b[0m\u001b[1;32m   3364\u001b[0m \u001b[0;34m\u001b[0m\u001b[0m\n\u001b[1;32m   3365\u001b[0m         \u001b[0;32mif\u001b[0m \u001b[0mis_scalar\u001b[0m\u001b[0;34m(\u001b[0m\u001b[0mkey\u001b[0m\u001b[0;34m)\u001b[0m \u001b[0;32mand\u001b[0m \u001b[0misna\u001b[0m\u001b[0;34m(\u001b[0m\u001b[0mkey\u001b[0m\u001b[0;34m)\u001b[0m \u001b[0;32mand\u001b[0m \u001b[0;32mnot\u001b[0m \u001b[0mself\u001b[0m\u001b[0;34m.\u001b[0m\u001b[0mhasnans\u001b[0m\u001b[0;34m:\u001b[0m\u001b[0;34m\u001b[0m\u001b[0;34m\u001b[0m\u001b[0m\n",
            "\u001b[0;31mKeyError\u001b[0m: '열이름'"
          ]
        }
      ]
    },
    {
      "cell_type": "code",
      "source": [
        "df['2000']['서울']"
      ],
      "metadata": {
        "colab": {
          "base_uri": "https://localhost:8080/"
        },
        "id": "ubZpUEbcbS5w",
        "outputId": "04c5d88e-bb42-4d12-9f5c-7b513b03cdda"
      },
      "execution_count": 83,
      "outputs": [
        {
          "output_type": "execute_result",
          "data": {
            "text/plain": [
              "9853972"
            ]
          },
          "metadata": {},
          "execution_count": 83
        }
      ]
    },
    {
      "cell_type": "markdown",
      "source": [
        "## 데이터 입출력\n",
        "\n",
        "✋(자주 안쓴다고 함)\n",
        "* 데이터 → pandas → 표 형태의 데이터\n",
        "* csv - excel과 유사해보입니다. 엑셀은 서식(폰트, 꾸미기) 등이 존재해서 속도가 느리고 용량이 큽니다.\n",
        "* 하지만 csv는 핵심만 남겨서 데이터 자체와 데이터를 구분해주는 콤마 만 가지고 데이터를 구분해줍니다.\n",
        "* 용어 : comma seperated value"
      ],
      "metadata": {
        "id": "zXfvEJKZX_xK"
      }
    },
    {
      "cell_type": "code",
      "source": [
        "read_xxx / to_xxx"
      ],
      "metadata": {
        "colab": {
          "base_uri": "https://localhost:8080/",
          "height": 171
        },
        "id": "ImL-1ccVe6Y_",
        "outputId": "3493bf0c-1bdc-4273-ca2a-23531e857ff2"
      },
      "execution_count": 85,
      "outputs": [
        {
          "output_type": "error",
          "ename": "NameError",
          "evalue": "ignored",
          "traceback": [
            "\u001b[0;31m---------------------------------------------------------------------------\u001b[0m",
            "\u001b[0;31mNameError\u001b[0m                                 Traceback (most recent call last)",
            "\u001b[0;32m<ipython-input-85-629ab603991c>\u001b[0m in \u001b[0;36m<module>\u001b[0;34m\u001b[0m\n\u001b[0;32m----> 1\u001b[0;31m \u001b[0mread_xxx\u001b[0m \u001b[0;34m/\u001b[0m \u001b[0mto_xxx\u001b[0m\u001b[0;34m\u001b[0m\u001b[0;34m\u001b[0m\u001b[0m\n\u001b[0m",
            "\u001b[0;31mNameError\u001b[0m: name 'read_xxx' is not defined"
          ]
        }
      ]
    },
    {
      "cell_type": "code",
      "source": [
        "pd.read_csv(\"파일이름\") # 경로, url"
      ],
      "metadata": {
        "colab": {
          "base_uri": "https://localhost:8080/",
          "height": 338
        },
        "id": "Kyz0r-sLfYjX",
        "outputId": "6e666104-0360-4ac2-c992-dd745e82486c"
      },
      "execution_count": 86,
      "outputs": [
        {
          "output_type": "error",
          "ename": "FileNotFoundError",
          "evalue": "ignored",
          "traceback": [
            "\u001b[0;31m---------------------------------------------------------------------------\u001b[0m",
            "\u001b[0;31mFileNotFoundError\u001b[0m                         Traceback (most recent call last)",
            "\u001b[0;32m<ipython-input-86-6f72bcf46800>\u001b[0m in \u001b[0;36m<module>\u001b[0;34m\u001b[0m\n\u001b[0;32m----> 1\u001b[0;31m \u001b[0mpd\u001b[0m\u001b[0;34m.\u001b[0m\u001b[0mread_csv\u001b[0m\u001b[0;34m(\u001b[0m\u001b[0;34m\"파일이름\"\u001b[0m\u001b[0;34m)\u001b[0m \u001b[0;31m# 경로, url\u001b[0m\u001b[0;34m\u001b[0m\u001b[0;34m\u001b[0m\u001b[0m\n\u001b[0m",
            "\u001b[0;32m/usr/local/lib/python3.8/dist-packages/pandas/util/_decorators.py\u001b[0m in \u001b[0;36mwrapper\u001b[0;34m(*args, **kwargs)\u001b[0m\n\u001b[1;32m    309\u001b[0m                     \u001b[0mstacklevel\u001b[0m\u001b[0;34m=\u001b[0m\u001b[0mstacklevel\u001b[0m\u001b[0;34m,\u001b[0m\u001b[0;34m\u001b[0m\u001b[0;34m\u001b[0m\u001b[0m\n\u001b[1;32m    310\u001b[0m                 )\n\u001b[0;32m--> 311\u001b[0;31m             \u001b[0;32mreturn\u001b[0m \u001b[0mfunc\u001b[0m\u001b[0;34m(\u001b[0m\u001b[0;34m*\u001b[0m\u001b[0margs\u001b[0m\u001b[0;34m,\u001b[0m \u001b[0;34m**\u001b[0m\u001b[0mkwargs\u001b[0m\u001b[0;34m)\u001b[0m\u001b[0;34m\u001b[0m\u001b[0;34m\u001b[0m\u001b[0m\n\u001b[0m\u001b[1;32m    312\u001b[0m \u001b[0;34m\u001b[0m\u001b[0m\n\u001b[1;32m    313\u001b[0m         \u001b[0;32mreturn\u001b[0m \u001b[0mwrapper\u001b[0m\u001b[0;34m\u001b[0m\u001b[0;34m\u001b[0m\u001b[0m\n",
            "\u001b[0;32m/usr/local/lib/python3.8/dist-packages/pandas/io/parsers/readers.py\u001b[0m in \u001b[0;36mread_csv\u001b[0;34m(filepath_or_buffer, sep, delimiter, header, names, index_col, usecols, squeeze, prefix, mangle_dupe_cols, dtype, engine, converters, true_values, false_values, skipinitialspace, skiprows, skipfooter, nrows, na_values, keep_default_na, na_filter, verbose, skip_blank_lines, parse_dates, infer_datetime_format, keep_date_col, date_parser, dayfirst, cache_dates, iterator, chunksize, compression, thousands, decimal, lineterminator, quotechar, quoting, doublequote, escapechar, comment, encoding, encoding_errors, dialect, error_bad_lines, warn_bad_lines, on_bad_lines, delim_whitespace, low_memory, memory_map, float_precision, storage_options)\u001b[0m\n\u001b[1;32m    584\u001b[0m     \u001b[0mkwds\u001b[0m\u001b[0;34m.\u001b[0m\u001b[0mupdate\u001b[0m\u001b[0;34m(\u001b[0m\u001b[0mkwds_defaults\u001b[0m\u001b[0;34m)\u001b[0m\u001b[0;34m\u001b[0m\u001b[0;34m\u001b[0m\u001b[0m\n\u001b[1;32m    585\u001b[0m \u001b[0;34m\u001b[0m\u001b[0m\n\u001b[0;32m--> 586\u001b[0;31m     \u001b[0;32mreturn\u001b[0m \u001b[0m_read\u001b[0m\u001b[0;34m(\u001b[0m\u001b[0mfilepath_or_buffer\u001b[0m\u001b[0;34m,\u001b[0m \u001b[0mkwds\u001b[0m\u001b[0;34m)\u001b[0m\u001b[0;34m\u001b[0m\u001b[0;34m\u001b[0m\u001b[0m\n\u001b[0m\u001b[1;32m    587\u001b[0m \u001b[0;34m\u001b[0m\u001b[0m\n\u001b[1;32m    588\u001b[0m \u001b[0;34m\u001b[0m\u001b[0m\n",
            "\u001b[0;32m/usr/local/lib/python3.8/dist-packages/pandas/io/parsers/readers.py\u001b[0m in \u001b[0;36m_read\u001b[0;34m(filepath_or_buffer, kwds)\u001b[0m\n\u001b[1;32m    480\u001b[0m \u001b[0;34m\u001b[0m\u001b[0m\n\u001b[1;32m    481\u001b[0m     \u001b[0;31m# Create the parser.\u001b[0m\u001b[0;34m\u001b[0m\u001b[0;34m\u001b[0m\u001b[0;34m\u001b[0m\u001b[0m\n\u001b[0;32m--> 482\u001b[0;31m     \u001b[0mparser\u001b[0m \u001b[0;34m=\u001b[0m \u001b[0mTextFileReader\u001b[0m\u001b[0;34m(\u001b[0m\u001b[0mfilepath_or_buffer\u001b[0m\u001b[0;34m,\u001b[0m \u001b[0;34m**\u001b[0m\u001b[0mkwds\u001b[0m\u001b[0;34m)\u001b[0m\u001b[0;34m\u001b[0m\u001b[0;34m\u001b[0m\u001b[0m\n\u001b[0m\u001b[1;32m    483\u001b[0m \u001b[0;34m\u001b[0m\u001b[0m\n\u001b[1;32m    484\u001b[0m     \u001b[0;32mif\u001b[0m \u001b[0mchunksize\u001b[0m \u001b[0;32mor\u001b[0m \u001b[0miterator\u001b[0m\u001b[0;34m:\u001b[0m\u001b[0;34m\u001b[0m\u001b[0;34m\u001b[0m\u001b[0m\n",
            "\u001b[0;32m/usr/local/lib/python3.8/dist-packages/pandas/io/parsers/readers.py\u001b[0m in \u001b[0;36m__init__\u001b[0;34m(self, f, engine, **kwds)\u001b[0m\n\u001b[1;32m    809\u001b[0m             \u001b[0mself\u001b[0m\u001b[0;34m.\u001b[0m\u001b[0moptions\u001b[0m\u001b[0;34m[\u001b[0m\u001b[0;34m\"has_index_names\"\u001b[0m\u001b[0;34m]\u001b[0m \u001b[0;34m=\u001b[0m \u001b[0mkwds\u001b[0m\u001b[0;34m[\u001b[0m\u001b[0;34m\"has_index_names\"\u001b[0m\u001b[0;34m]\u001b[0m\u001b[0;34m\u001b[0m\u001b[0;34m\u001b[0m\u001b[0m\n\u001b[1;32m    810\u001b[0m \u001b[0;34m\u001b[0m\u001b[0m\n\u001b[0;32m--> 811\u001b[0;31m         \u001b[0mself\u001b[0m\u001b[0;34m.\u001b[0m\u001b[0m_engine\u001b[0m \u001b[0;34m=\u001b[0m \u001b[0mself\u001b[0m\u001b[0;34m.\u001b[0m\u001b[0m_make_engine\u001b[0m\u001b[0;34m(\u001b[0m\u001b[0mself\u001b[0m\u001b[0;34m.\u001b[0m\u001b[0mengine\u001b[0m\u001b[0;34m)\u001b[0m\u001b[0;34m\u001b[0m\u001b[0;34m\u001b[0m\u001b[0m\n\u001b[0m\u001b[1;32m    812\u001b[0m \u001b[0;34m\u001b[0m\u001b[0m\n\u001b[1;32m    813\u001b[0m     \u001b[0;32mdef\u001b[0m \u001b[0mclose\u001b[0m\u001b[0;34m(\u001b[0m\u001b[0mself\u001b[0m\u001b[0;34m)\u001b[0m\u001b[0;34m:\u001b[0m\u001b[0;34m\u001b[0m\u001b[0;34m\u001b[0m\u001b[0m\n",
            "\u001b[0;32m/usr/local/lib/python3.8/dist-packages/pandas/io/parsers/readers.py\u001b[0m in \u001b[0;36m_make_engine\u001b[0;34m(self, engine)\u001b[0m\n\u001b[1;32m   1038\u001b[0m             )\n\u001b[1;32m   1039\u001b[0m         \u001b[0;31m# error: Too many arguments for \"ParserBase\"\u001b[0m\u001b[0;34m\u001b[0m\u001b[0;34m\u001b[0m\u001b[0;34m\u001b[0m\u001b[0m\n\u001b[0;32m-> 1040\u001b[0;31m         \u001b[0;32mreturn\u001b[0m \u001b[0mmapping\u001b[0m\u001b[0;34m[\u001b[0m\u001b[0mengine\u001b[0m\u001b[0;34m]\u001b[0m\u001b[0;34m(\u001b[0m\u001b[0mself\u001b[0m\u001b[0;34m.\u001b[0m\u001b[0mf\u001b[0m\u001b[0;34m,\u001b[0m \u001b[0;34m**\u001b[0m\u001b[0mself\u001b[0m\u001b[0;34m.\u001b[0m\u001b[0moptions\u001b[0m\u001b[0;34m)\u001b[0m  \u001b[0;31m# type: ignore[call-arg]\u001b[0m\u001b[0;34m\u001b[0m\u001b[0;34m\u001b[0m\u001b[0m\n\u001b[0m\u001b[1;32m   1041\u001b[0m \u001b[0;34m\u001b[0m\u001b[0m\n\u001b[1;32m   1042\u001b[0m     \u001b[0;32mdef\u001b[0m \u001b[0m_failover_to_python\u001b[0m\u001b[0;34m(\u001b[0m\u001b[0mself\u001b[0m\u001b[0;34m)\u001b[0m\u001b[0;34m:\u001b[0m\u001b[0;34m\u001b[0m\u001b[0;34m\u001b[0m\u001b[0m\n",
            "\u001b[0;32m/usr/local/lib/python3.8/dist-packages/pandas/io/parsers/c_parser_wrapper.py\u001b[0m in \u001b[0;36m__init__\u001b[0;34m(self, src, **kwds)\u001b[0m\n\u001b[1;32m     49\u001b[0m \u001b[0;34m\u001b[0m\u001b[0m\n\u001b[1;32m     50\u001b[0m         \u001b[0;31m# open handles\u001b[0m\u001b[0;34m\u001b[0m\u001b[0;34m\u001b[0m\u001b[0;34m\u001b[0m\u001b[0m\n\u001b[0;32m---> 51\u001b[0;31m         \u001b[0mself\u001b[0m\u001b[0;34m.\u001b[0m\u001b[0m_open_handles\u001b[0m\u001b[0;34m(\u001b[0m\u001b[0msrc\u001b[0m\u001b[0;34m,\u001b[0m \u001b[0mkwds\u001b[0m\u001b[0;34m)\u001b[0m\u001b[0;34m\u001b[0m\u001b[0;34m\u001b[0m\u001b[0m\n\u001b[0m\u001b[1;32m     52\u001b[0m         \u001b[0;32massert\u001b[0m \u001b[0mself\u001b[0m\u001b[0;34m.\u001b[0m\u001b[0mhandles\u001b[0m \u001b[0;32mis\u001b[0m \u001b[0;32mnot\u001b[0m \u001b[0;32mNone\u001b[0m\u001b[0;34m\u001b[0m\u001b[0;34m\u001b[0m\u001b[0m\n\u001b[1;32m     53\u001b[0m \u001b[0;34m\u001b[0m\u001b[0m\n",
            "\u001b[0;32m/usr/local/lib/python3.8/dist-packages/pandas/io/parsers/base_parser.py\u001b[0m in \u001b[0;36m_open_handles\u001b[0;34m(self, src, kwds)\u001b[0m\n\u001b[1;32m    220\u001b[0m         \u001b[0mLet\u001b[0m \u001b[0mthe\u001b[0m \u001b[0mreaders\u001b[0m \u001b[0mopen\u001b[0m \u001b[0mIOHandles\u001b[0m \u001b[0mafter\u001b[0m \u001b[0mthey\u001b[0m \u001b[0mare\u001b[0m \u001b[0mdone\u001b[0m \u001b[0;32mwith\u001b[0m \u001b[0mtheir\u001b[0m \u001b[0mpotential\u001b[0m \u001b[0mraises\u001b[0m\u001b[0;34m.\u001b[0m\u001b[0;34m\u001b[0m\u001b[0;34m\u001b[0m\u001b[0m\n\u001b[1;32m    221\u001b[0m         \"\"\"\n\u001b[0;32m--> 222\u001b[0;31m         self.handles = get_handle(\n\u001b[0m\u001b[1;32m    223\u001b[0m             \u001b[0msrc\u001b[0m\u001b[0;34m,\u001b[0m\u001b[0;34m\u001b[0m\u001b[0;34m\u001b[0m\u001b[0m\n\u001b[1;32m    224\u001b[0m             \u001b[0;34m\"r\"\u001b[0m\u001b[0;34m,\u001b[0m\u001b[0;34m\u001b[0m\u001b[0;34m\u001b[0m\u001b[0m\n",
            "\u001b[0;32m/usr/local/lib/python3.8/dist-packages/pandas/io/common.py\u001b[0m in \u001b[0;36mget_handle\u001b[0;34m(path_or_buf, mode, encoding, compression, memory_map, is_text, errors, storage_options)\u001b[0m\n\u001b[1;32m    700\u001b[0m         \u001b[0;32mif\u001b[0m \u001b[0mioargs\u001b[0m\u001b[0;34m.\u001b[0m\u001b[0mencoding\u001b[0m \u001b[0;32mand\u001b[0m \u001b[0;34m\"b\"\u001b[0m \u001b[0;32mnot\u001b[0m \u001b[0;32min\u001b[0m \u001b[0mioargs\u001b[0m\u001b[0;34m.\u001b[0m\u001b[0mmode\u001b[0m\u001b[0;34m:\u001b[0m\u001b[0;34m\u001b[0m\u001b[0;34m\u001b[0m\u001b[0m\n\u001b[1;32m    701\u001b[0m             \u001b[0;31m# Encoding\u001b[0m\u001b[0;34m\u001b[0m\u001b[0;34m\u001b[0m\u001b[0;34m\u001b[0m\u001b[0m\n\u001b[0;32m--> 702\u001b[0;31m             handle = open(\n\u001b[0m\u001b[1;32m    703\u001b[0m                 \u001b[0mhandle\u001b[0m\u001b[0;34m,\u001b[0m\u001b[0;34m\u001b[0m\u001b[0;34m\u001b[0m\u001b[0m\n\u001b[1;32m    704\u001b[0m                 \u001b[0mioargs\u001b[0m\u001b[0;34m.\u001b[0m\u001b[0mmode\u001b[0m\u001b[0;34m,\u001b[0m\u001b[0;34m\u001b[0m\u001b[0;34m\u001b[0m\u001b[0m\n",
            "\u001b[0;31mFileNotFoundError\u001b[0m: [Errno 2] No such file or directory: '파일이름'"
          ]
        }
      ]
    },
    {
      "cell_type": "code",
      "source": [
        "pd.read_excel(...) / pd.to_excel(...)"
      ],
      "metadata": {
        "colab": {
          "base_uri": "https://localhost:8080/",
          "height": 338
        },
        "id": "hDajuicWfbfu",
        "outputId": "1c518895-9c97-4c74-c75c-921a7465a90a"
      },
      "execution_count": 87,
      "outputs": [
        {
          "output_type": "error",
          "ename": "ValueError",
          "evalue": "ignored",
          "traceback": [
            "\u001b[0;31m---------------------------------------------------------------------------\u001b[0m",
            "\u001b[0;31mValueError\u001b[0m                                Traceback (most recent call last)",
            "\u001b[0;32m<ipython-input-87-03528cb9c571>\u001b[0m in \u001b[0;36m<module>\u001b[0;34m\u001b[0m\n\u001b[0;32m----> 1\u001b[0;31m \u001b[0mpd\u001b[0m\u001b[0;34m.\u001b[0m\u001b[0mread_excel\u001b[0m\u001b[0;34m(\u001b[0m\u001b[0;34m...\u001b[0m\u001b[0;34m)\u001b[0m \u001b[0;34m/\u001b[0m \u001b[0mpd\u001b[0m\u001b[0;34m.\u001b[0m\u001b[0mto_excel\u001b[0m\u001b[0;34m(\u001b[0m\u001b[0;34m...\u001b[0m\u001b[0;34m)\u001b[0m\u001b[0;34m\u001b[0m\u001b[0;34m\u001b[0m\u001b[0m\n\u001b[0m",
            "\u001b[0;32m/usr/local/lib/python3.8/dist-packages/pandas/util/_decorators.py\u001b[0m in \u001b[0;36mwrapper\u001b[0;34m(*args, **kwargs)\u001b[0m\n\u001b[1;32m    309\u001b[0m                     \u001b[0mstacklevel\u001b[0m\u001b[0;34m=\u001b[0m\u001b[0mstacklevel\u001b[0m\u001b[0;34m,\u001b[0m\u001b[0;34m\u001b[0m\u001b[0;34m\u001b[0m\u001b[0m\n\u001b[1;32m    310\u001b[0m                 )\n\u001b[0;32m--> 311\u001b[0;31m             \u001b[0;32mreturn\u001b[0m \u001b[0mfunc\u001b[0m\u001b[0;34m(\u001b[0m\u001b[0;34m*\u001b[0m\u001b[0margs\u001b[0m\u001b[0;34m,\u001b[0m \u001b[0;34m**\u001b[0m\u001b[0mkwargs\u001b[0m\u001b[0;34m)\u001b[0m\u001b[0;34m\u001b[0m\u001b[0;34m\u001b[0m\u001b[0m\n\u001b[0m\u001b[1;32m    312\u001b[0m \u001b[0;34m\u001b[0m\u001b[0m\n\u001b[1;32m    313\u001b[0m         \u001b[0;32mreturn\u001b[0m \u001b[0mwrapper\u001b[0m\u001b[0;34m\u001b[0m\u001b[0;34m\u001b[0m\u001b[0m\n",
            "\u001b[0;32m/usr/local/lib/python3.8/dist-packages/pandas/io/excel/_base.py\u001b[0m in \u001b[0;36mread_excel\u001b[0;34m(io, sheet_name, header, names, index_col, usecols, squeeze, dtype, engine, converters, true_values, false_values, skiprows, nrows, na_values, keep_default_na, na_filter, verbose, parse_dates, date_parser, thousands, comment, skipfooter, convert_float, mangle_dupe_cols, storage_options)\u001b[0m\n\u001b[1;32m    362\u001b[0m     \u001b[0;32mif\u001b[0m \u001b[0;32mnot\u001b[0m \u001b[0misinstance\u001b[0m\u001b[0;34m(\u001b[0m\u001b[0mio\u001b[0m\u001b[0;34m,\u001b[0m \u001b[0mExcelFile\u001b[0m\u001b[0;34m)\u001b[0m\u001b[0;34m:\u001b[0m\u001b[0;34m\u001b[0m\u001b[0;34m\u001b[0m\u001b[0m\n\u001b[1;32m    363\u001b[0m         \u001b[0mshould_close\u001b[0m \u001b[0;34m=\u001b[0m \u001b[0;32mTrue\u001b[0m\u001b[0;34m\u001b[0m\u001b[0;34m\u001b[0m\u001b[0m\n\u001b[0;32m--> 364\u001b[0;31m         \u001b[0mio\u001b[0m \u001b[0;34m=\u001b[0m \u001b[0mExcelFile\u001b[0m\u001b[0;34m(\u001b[0m\u001b[0mio\u001b[0m\u001b[0;34m,\u001b[0m \u001b[0mstorage_options\u001b[0m\u001b[0;34m=\u001b[0m\u001b[0mstorage_options\u001b[0m\u001b[0;34m,\u001b[0m \u001b[0mengine\u001b[0m\u001b[0;34m=\u001b[0m\u001b[0mengine\u001b[0m\u001b[0;34m)\u001b[0m\u001b[0;34m\u001b[0m\u001b[0;34m\u001b[0m\u001b[0m\n\u001b[0m\u001b[1;32m    365\u001b[0m     \u001b[0;32melif\u001b[0m \u001b[0mengine\u001b[0m \u001b[0;32mand\u001b[0m \u001b[0mengine\u001b[0m \u001b[0;34m!=\u001b[0m \u001b[0mio\u001b[0m\u001b[0;34m.\u001b[0m\u001b[0mengine\u001b[0m\u001b[0;34m:\u001b[0m\u001b[0;34m\u001b[0m\u001b[0;34m\u001b[0m\u001b[0m\n\u001b[1;32m    366\u001b[0m         raise ValueError(\n",
            "\u001b[0;32m/usr/local/lib/python3.8/dist-packages/pandas/io/excel/_base.py\u001b[0m in \u001b[0;36m__init__\u001b[0;34m(self, path_or_buffer, engine, storage_options)\u001b[0m\n\u001b[1;32m   1189\u001b[0m                 \u001b[0mext\u001b[0m \u001b[0;34m=\u001b[0m \u001b[0;34m\"xls\"\u001b[0m\u001b[0;34m\u001b[0m\u001b[0;34m\u001b[0m\u001b[0m\n\u001b[1;32m   1190\u001b[0m             \u001b[0;32melse\u001b[0m\u001b[0;34m:\u001b[0m\u001b[0;34m\u001b[0m\u001b[0;34m\u001b[0m\u001b[0m\n\u001b[0;32m-> 1191\u001b[0;31m                 ext = inspect_excel_format(\n\u001b[0m\u001b[1;32m   1192\u001b[0m                     \u001b[0mcontent_or_path\u001b[0m\u001b[0;34m=\u001b[0m\u001b[0mpath_or_buffer\u001b[0m\u001b[0;34m,\u001b[0m \u001b[0mstorage_options\u001b[0m\u001b[0;34m=\u001b[0m\u001b[0mstorage_options\u001b[0m\u001b[0;34m\u001b[0m\u001b[0;34m\u001b[0m\u001b[0m\n\u001b[1;32m   1193\u001b[0m                 )\n",
            "\u001b[0;32m/usr/local/lib/python3.8/dist-packages/pandas/io/excel/_base.py\u001b[0m in \u001b[0;36minspect_excel_format\u001b[0;34m(content_or_path, storage_options)\u001b[0m\n\u001b[1;32m   1068\u001b[0m         \u001b[0mcontent_or_path\u001b[0m \u001b[0;34m=\u001b[0m \u001b[0mBytesIO\u001b[0m\u001b[0;34m(\u001b[0m\u001b[0mcontent_or_path\u001b[0m\u001b[0;34m)\u001b[0m\u001b[0;34m\u001b[0m\u001b[0;34m\u001b[0m\u001b[0m\n\u001b[1;32m   1069\u001b[0m \u001b[0;34m\u001b[0m\u001b[0m\n\u001b[0;32m-> 1070\u001b[0;31m     with get_handle(\n\u001b[0m\u001b[1;32m   1071\u001b[0m         \u001b[0mcontent_or_path\u001b[0m\u001b[0;34m,\u001b[0m \u001b[0;34m\"rb\"\u001b[0m\u001b[0;34m,\u001b[0m \u001b[0mstorage_options\u001b[0m\u001b[0;34m=\u001b[0m\u001b[0mstorage_options\u001b[0m\u001b[0;34m,\u001b[0m \u001b[0mis_text\u001b[0m\u001b[0;34m=\u001b[0m\u001b[0;32mFalse\u001b[0m\u001b[0;34m\u001b[0m\u001b[0;34m\u001b[0m\u001b[0m\n\u001b[1;32m   1072\u001b[0m     ) as handle:\n",
            "\u001b[0;32m/usr/local/lib/python3.8/dist-packages/pandas/io/common.py\u001b[0m in \u001b[0;36mget_handle\u001b[0;34m(path_or_buf, mode, encoding, compression, memory_map, is_text, errors, storage_options)\u001b[0m\n\u001b[1;32m    607\u001b[0m \u001b[0;34m\u001b[0m\u001b[0m\n\u001b[1;32m    608\u001b[0m     \u001b[0;31m# open URLs\u001b[0m\u001b[0;34m\u001b[0m\u001b[0;34m\u001b[0m\u001b[0;34m\u001b[0m\u001b[0m\n\u001b[0;32m--> 609\u001b[0;31m     ioargs = _get_filepath_or_buffer(\n\u001b[0m\u001b[1;32m    610\u001b[0m         \u001b[0mpath_or_buf\u001b[0m\u001b[0;34m,\u001b[0m\u001b[0;34m\u001b[0m\u001b[0;34m\u001b[0m\u001b[0m\n\u001b[1;32m    611\u001b[0m         \u001b[0mencoding\u001b[0m\u001b[0;34m=\u001b[0m\u001b[0mencoding\u001b[0m\u001b[0;34m,\u001b[0m\u001b[0;34m\u001b[0m\u001b[0;34m\u001b[0m\u001b[0m\n",
            "\u001b[0;32m/usr/local/lib/python3.8/dist-packages/pandas/io/common.py\u001b[0m in \u001b[0;36m_get_filepath_or_buffer\u001b[0;34m(filepath_or_buffer, encoding, compression, mode, storage_options)\u001b[0m\n\u001b[1;32m    394\u001b[0m     \u001b[0;32mif\u001b[0m \u001b[0;32mnot\u001b[0m \u001b[0mis_file_like\u001b[0m\u001b[0;34m(\u001b[0m\u001b[0mfilepath_or_buffer\u001b[0m\u001b[0;34m)\u001b[0m\u001b[0;34m:\u001b[0m\u001b[0;34m\u001b[0m\u001b[0;34m\u001b[0m\u001b[0m\n\u001b[1;32m    395\u001b[0m         \u001b[0mmsg\u001b[0m \u001b[0;34m=\u001b[0m \u001b[0;34mf\"Invalid file path or buffer object type: {type(filepath_or_buffer)}\"\u001b[0m\u001b[0;34m\u001b[0m\u001b[0;34m\u001b[0m\u001b[0m\n\u001b[0;32m--> 396\u001b[0;31m         \u001b[0;32mraise\u001b[0m \u001b[0mValueError\u001b[0m\u001b[0;34m(\u001b[0m\u001b[0mmsg\u001b[0m\u001b[0;34m)\u001b[0m\u001b[0;34m\u001b[0m\u001b[0;34m\u001b[0m\u001b[0m\n\u001b[0m\u001b[1;32m    397\u001b[0m \u001b[0;34m\u001b[0m\u001b[0m\n\u001b[1;32m    398\u001b[0m     return IOArgs(\n",
            "\u001b[0;31mValueError\u001b[0m: Invalid file path or buffer object type: <class 'ellipsis'>"
          ]
        }
      ]
    },
    {
      "cell_type": "markdown",
      "source": [
        "## 입출력 추가 명령어\n",
        "\n",
        "* df # 읽어와서 무엇부터 볼 것인가\n",
        "* df.head() # 괄호 안에 갯수를 넣으면 상단부터 불러올 갯수를 지정합니다\n",
        "* df.tail() # 괄호 안에 갯수를 넣으면 하단부터 불러올 갯수를 지정합니다."
      ],
      "metadata": {
        "id": "IhMIOIc4fmpj"
      }
    },
    {
      "cell_type": "markdown",
      "source": [
        "## 데이터프레임의 고급 인덱싱 (`loc`, `iloc`)\n",
        "\n",
        "* 인덱싱 → 특정한 데이터를 골라내는 것\n",
        "→ (기준) → 라벨 인덱스, 배열 - 정수인덱스\n",
        "* 기본 인덱싱(` [ ] `) : 열(라벨, 라벨리스트), 행(`:` 라벨 범위)\n",
        "* Numpy에서 행렬 기반으로 인덱싱 ↔ pandas의 기본 인덱싱과 매칭이 안됩니다\n",
        "* 행, 열 기반으로 인덱싱을 하고 싶을때 `loc`, `iloc`를 사용"
      ],
      "metadata": {
        "id": "XBWg0fUpf7z7"
      }
    },
    {
      "cell_type": "markdown",
      "source": [
        "### 설명\n",
        "* loc : 라벨 인덱스 (딕셔너리 키)\n",
        "* iloc : 정수 인덱스 (리스트, 배열에서의 나열된 원소의 위치)\n"
      ],
      "metadata": {
        "id": "9xA0d-8sgBc8"
      }
    },
    {
      "cell_type": "markdown",
      "source": [
        "#### 일반적인 메소드\n",
        "\n",
        "`( )` 소괄호 사용"
      ],
      "metadata": {
        "id": "8jTjT98fgo6T"
      }
    },
    {
      "cell_type": "markdown",
      "source": [
        "#### loc와 iloc\n",
        "\n",
        "* '[ ]' 대괄호 사용\n",
        "* `indexer` 인 (r_, c_) 사용"
      ],
      "metadata": {
        "id": "Kq_JQw0HhCvO"
      }
    },
    {
      "cell_type": "markdown",
      "source": [
        "##loc 시작"
      ],
      "metadata": {
        "id": "an5rVfIfkxGy"
      }
    },
    {
      "cell_type": "markdown",
      "source": [
        "##기능\n",
        "\n",
        "df.loc[행 인덱싱 값]\n",
        "\n",
        "df.loc[행 인덱싱 값, 열 인덱싱 값]\n"
      ],
      "metadata": {
        "id": "jSLnP1qehNbh"
      }
    },
    {
      "cell_type": "code",
      "source": [
        "df.loc[행 인덱싱 값] # 행만 넣어주거나요\n",
        "df.loc[행 인덱싱 값, 열 인덱싱 값]\n",
        "# 행, 열을 순서대로 넣어주거나 <정수>, 문자열 인덱스를 넣어줍니다.\n",
        "range, arange"
      ],
      "metadata": {
        "colab": {
          "base_uri": "https://localhost:8080/",
          "height": 135
        },
        "id": "6KEqnyNZhVe_",
        "outputId": "14844a99-14e1-421e-96ab-30babae0c1dd"
      },
      "execution_count": 88,
      "outputs": [
        {
          "output_type": "error",
          "ename": "SyntaxError",
          "evalue": "ignored",
          "traceback": [
            "\u001b[0;36m  File \u001b[0;32m\"<ipython-input-88-86ea3fd07d68>\"\u001b[0;36m, line \u001b[0;32m1\u001b[0m\n\u001b[0;31m    df.loc[행 인덱싱 값] # 행만 넣어주거나요\u001b[0m\n\u001b[0m             ^\u001b[0m\n\u001b[0;31mSyntaxError\u001b[0m\u001b[0;31m:\u001b[0m invalid syntax\n"
          ]
        }
      ]
    },
    {
      "cell_type": "markdown",
      "source": [
        "### 들어갈 수 있는 것\n",
        "인덱스 데이터, 인덱스 데이터 슬라이스, 인덱스 데이터리스트, \n",
        "<br>같은 행 인덱스를 가지는 불리언 시리즈(행 인덱싱의 경우), 위의 값들을 반환하는 함수\n"
      ],
      "metadata": {
        "id": "cnma3WKAhgEL"
      }
    },
    {
      "cell_type": "code",
      "source": [
        "df.loc[행 인덱싱 값] # 행만 넣어주거나요\n",
        "df.loc[행 인덱싱 값, 열 인덱싱 값]\n",
        "# 행, 열을 순서대로 넣어주거나 <정수>, 문자열 인덱스를 넣어줍니다.\n",
        "range, arange\n",
        "# 인덱스 데이터 / df.loc['서울']df.loc[0] 행\n",
        "# 인덱스 데이터 슬라이스\n",
        "# df.loc['서울':'부산']df.loc[0:1] (라벨)\n",
        "# df.loc 불리언 배열 인덱싱 (필터링)도 가능합니다\n"
      ],
      "metadata": {
        "colab": {
          "base_uri": "https://localhost:8080/",
          "height": 135
        },
        "id": "fpEeSyhrhuFU",
        "outputId": "07743e5d-5db1-45dc-d99d-3dda6c0a3c16"
      },
      "execution_count": 90,
      "outputs": [
        {
          "output_type": "error",
          "ename": "SyntaxError",
          "evalue": "ignored",
          "traceback": [
            "\u001b[0;36m  File \u001b[0;32m\"<ipython-input-90-9114368dc50b>\"\u001b[0;36m, line \u001b[0;32m1\u001b[0m\n\u001b[0;31m    df.loc[행 인덱싱 값] # 행만 넣어주거나요\u001b[0m\n\u001b[0m             ^\u001b[0m\n\u001b[0;31mSyntaxError\u001b[0m\u001b[0;31m:\u001b[0m invalid syntax\n"
          ]
        }
      ]
    },
    {
      "cell_type": "markdown",
      "source": [
        "\" : \" 은 모든 것을 검색"
      ],
      "metadata": {
        "id": "FcbiQvDwiEp_"
      }
    },
    {
      "cell_type": "code",
      "source": [
        "df.loc[행] << df.loc[열] # 행부터는 넣어도 되고, 열부터 넣으면 안됩니다. 행부터 넣으면 key error\n",
        "df.loc[:,열] = df[열 정보값] "
      ],
      "metadata": {
        "colab": {
          "base_uri": "https://localhost:8080/",
          "height": 135
        },
        "id": "68FSa02flBAU",
        "outputId": "711e480d-87f9-48a3-9a21-2f5b7c313bcc"
      },
      "execution_count": 93,
      "outputs": [
        {
          "output_type": "error",
          "ename": "SyntaxError",
          "evalue": "ignored",
          "traceback": [
            "\u001b[0;36m  File \u001b[0;32m\"<ipython-input-93-141f85d6393d>\"\u001b[0;36m, line \u001b[0;32m2\u001b[0m\n\u001b[0;31m    df.loc[:,열] = df[열 정보값]\u001b[0m\n\u001b[0m                       ^\u001b[0m\n\u001b[0;31mSyntaxError\u001b[0m\u001b[0;31m:\u001b[0m invalid syntax\n"
          ]
        }
      ]
    },
    {
      "cell_type": "markdown",
      "source": [
        "## iloc 시작\n"
      ],
      "metadata": {
        "id": "uFq1HM6lks1v"
      }
    },
    {
      "cell_type": "markdown",
      "source": [
        "## 설명"
      ],
      "metadata": {
        "id": "hm--tdHok3L_"
      }
    },
    {
      "cell_type": "markdown",
      "source": [
        "* iloc 는 라벨이 아니라 순서를 나타내는 integer + loc\n",
        "* loc 도 정수를 사용할 수 있지만 부여된 정수만을 사용합니다. 단, 0번 자리인데 100이 들어가는 것은 불가능\n",
        "* iloc는 우리가 부여한 값이 아니라 value(배열) 에서의 위치를 의미합니다 (절대값은 수정 x)"
      ],
      "metadata": {
        "id": "5minADZak4fC"
      }
    },
    {
      "cell_type": "markdown",
      "source": [
        "### 들어갈 수 있는 것\n",
        "df.iloc[행 순서 정수 인덱스]\n",
        "\n",
        "df.iloc[행 순서 정수 인덱스, 열 순서 정수 인덱스]\n",
        "\n",
        "\n",
        "* 슬라이스는 작동하고 끝은 포함하지 않습니다."
      ],
      "metadata": {
        "id": "MkYNGRSQmKdv"
      }
    },
    {
      "cell_type": "code",
      "source": [
        "df.iloc [행 순서 정수 인덱스]\n",
        "df.iloc [행 순서 정수 인덱스, 열 순서 정수 인덱스]\n"
      ],
      "metadata": {
        "colab": {
          "base_uri": "https://localhost:8080/",
          "height": 135
        },
        "id": "PB_WVbFUlgfK",
        "outputId": "c69450e7-f1c4-4285-f261-4dd24f740cfd"
      },
      "execution_count": 94,
      "outputs": [
        {
          "output_type": "error",
          "ename": "SyntaxError",
          "evalue": "ignored",
          "traceback": [
            "\u001b[0;36m  File \u001b[0;32m\"<ipython-input-94-1208e333b9f0>\"\u001b[0;36m, line \u001b[0;32m1\u001b[0m\n\u001b[0;31m    df.iloc [행 순서 정수 인덱스]\u001b[0m\n\u001b[0m               ^\u001b[0m\n\u001b[0;31mSyntaxError\u001b[0m\u001b[0;31m:\u001b[0m invalid syntax\n"
          ]
        }
      ]
    },
    {
      "cell_type": "markdown",
      "source": [
        "### 중대한 차이점\n",
        "\n",
        "* loc : 조건을 넣어서 필터링 가능\n",
        "* iloc : list 인덱싱 X"
      ],
      "metadata": {
        "id": "RGmGHiF8maE3"
      }
    },
    {
      "cell_type": "code",
      "source": [],
      "metadata": {
        "id": "v77uTl_7mv6b"
      },
      "execution_count": null,
      "outputs": []
    }
  ]
}